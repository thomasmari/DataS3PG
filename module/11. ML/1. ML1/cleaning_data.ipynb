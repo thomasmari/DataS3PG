{
 "cells": [
  {
   "cell_type": "markdown",
   "id": "e8b64aa1",
   "metadata": {},
   "source": [
    "# Introduction au Machine Learning\n",
    "## Les arbres rencontrent les forêts"
   ]
  },
  {
   "cell_type": "code",
   "execution_count": 1,
   "id": "c4eba783",
   "metadata": {},
   "outputs": [],
   "source": [
    "import pandas as pd\n",
    "data = pd.read_csv(\"data/trees.csv\")"
   ]
  },
  {
   "cell_type": "markdown",
   "id": "8c79bdab",
   "metadata": {},
   "source": [
    "## Etape 1 : Importez, nettoyez"
   ]
  },
  {
   "cell_type": "code",
   "execution_count": 2,
   "id": "b9934bf8",
   "metadata": {},
   "outputs": [
    {
     "name": "stdout",
     "output_type": "stream",
     "text": [
      "0.1 || removing 442 rows with NaN target value\n",
      "1.1 || NaN Ratio : Other Columns have less that 7.009570 % of NaN, removing columns ESSOUCHEMENT, ANNEEABATTAGE, CAUSEABATTAGE, DIAMETREARBRE, REMARQUES, COURRIER, EQUIPE, IDENTIFIANTPLU, INTITULEPROTECTIONPLU, TYPEIMPLANTATIONPLU, RAISONDEPLANTATION, TRAITEMENTCHENILLES, VARIETE\n",
      "1.1 || Removing columns with only 1 value or uniques values : GENRE, GENRE_DESC, CATEGORIE, CATEGORIE_DESC, ELEM_POINT_ID, CODE, NOM, BIEN_REFERENCE\n",
      "1.1 || Removing descritption columns : SOUS_CATEGORIE_DESC, CODE_PARENT_DESC\n"
     ]
    }
   ],
   "source": [
    "### 0.1 Supprimer les lignes sans la target\n",
    "datac = data[data['ANNEEDEPLANTATION'].isna().map(lambda x : not x)]\n",
    "print(f\"0.1 || removing {data['ANNEEDEPLANTATION'].isna().sum()} rows with NaN target value\")\n",
    "### 1.1 Selections des colonnes\n",
    "### Colonnes avec TROP de NaN\n",
    "n = len(data)\n",
    "datac_NaN_ratio = (datac.isna().sum(axis=0)/n*100).sort_values(ascending=False)\n",
    "colTooMuchNan = list(datac_NaN_ratio[datac_NaN_ratio > 70].index)\n",
    "datac = datac.drop(columns=colTooMuchNan)\n",
    "print(f\"1.1 || NaN Ratio : Other Columns have less that 7.009570 % of NaN, removing columns {', '.join(colTooMuchNan)}\")\n",
    "### Colonnes avec 1 seul catégorie/ des catégorie uniques\n",
    "ndatac = len(datac)\n",
    "datac_uv = datac.nunique()# Count unique values in each column using nunique()\n",
    "colOnlyValue = list(datac_uv[datac_uv == 1].index)\n",
    "datac = datac.drop(columns=colOnlyValue)\n",
    "### Colonnes avec 1 seul catégorie/ des catégorie uniques\n",
    "colUnique = list(datac_uv[datac_uv == ndatac].index)\n",
    "if 'GeoJSON' in colUnique: # We do not remove non categoric (except id)\n",
    "    colUnique.remove('GeoJSON')    \n",
    "datac = datac.drop(columns=colUnique)\n",
    "print(f\"1.1 || Removing columns with only 1 value or uniques values : {', '.join(colOnlyValue + colUnique)}\")\n",
    "### Colonnes Description columns \n",
    "datac = datac.drop(columns=[\"SOUS_CATEGORIE_DESC\",\"CODE_PARENT_DESC\"])\n",
    "print(f\"1.1 || Removing descritption columns : SOUS_CATEGORIE_DESC, CODE_PARENT_DESC\")\n",
    "### Removes duplicate row (only one)\n",
    "datac = datac.drop_duplicates()"
   ]
  },
  {
   "cell_type": "code",
   "execution_count": 3,
   "id": "ee72898c",
   "metadata": {},
   "outputs": [],
   "source": [
    "# GPS extraction it is object type since, less precision with float\n",
    "s = datac[\"GeoJSON\"]\n",
    "gps_coords = s.str.extractall('([0-9]+\\.[0-9]+)').unstack()[0].map(float)\n",
    "datac['LONGITUDE'] = gps_coords[0]\n",
    "datac['LATITUDE'] = gps_coords[1]\n",
    "datac = datac.drop(columns='GeoJSON')"
   ]
  },
  {
   "cell_type": "code",
   "execution_count": 4,
   "id": "fd420d7d",
   "metadata": {},
   "outputs": [],
   "source": [
    "## Exporting to pickle\n",
    "# datac.to_pickle(\"data/trees_clean\")\n",
    "import pickle\n",
    "pickle.dump(datac, open('data/trees_clean.p', 'wb'))"
   ]
  }
 ],
 "metadata": {
  "kernelspec": {
   "display_name": "ml1",
   "language": "python",
   "name": "python3"
  },
  "language_info": {
   "codemirror_mode": {
    "name": "ipython",
    "version": 3
   },
   "file_extension": ".py",
   "mimetype": "text/x-python",
   "name": "python",
   "nbconvert_exporter": "python",
   "pygments_lexer": "ipython3",
   "version": "3.11.13"
  }
 },
 "nbformat": 4,
 "nbformat_minor": 5
}
