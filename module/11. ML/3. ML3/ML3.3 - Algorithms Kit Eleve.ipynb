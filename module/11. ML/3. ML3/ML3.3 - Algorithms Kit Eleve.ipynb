{
 "cells": [
  {
   "attachments": {},
   "cell_type": "markdown",
   "metadata": {},
   "source": [
    "# Dataset "
   ]
  },
  {
   "attachments": {},
   "cell_type": "markdown",
   "metadata": {},
   "source": [
    "https://www.kaggle.com/mariaren/covid19-healthy-diet-dataset"
   ]
  },
  {
   "attachments": {},
   "cell_type": "markdown",
   "metadata": {},
   "source": [
    "# Problem definition "
   ]
  },
  {
   "attachments": {},
   "cell_type": "markdown",
   "metadata": {},
   "source": [
    "We chose a dataset combining different types of food, world population obesity and undernourished rate, and global covid cases count from around the world.\n",
    "\n",
    "The idea is to understand how a healthy eating style could help combat the coronavirus, distinguishing the diet patterns from countries with lower COVID infection rate.\n",
    "\n",
    "Our goal here is to provide diet recommendations based on our findings.\n",
    "\n",
    "Each dataset provides different diet measure different categories of food, depending on what we want to focus on, so we have\n",
    "\n",
    "- fat quantity,\n",
    "- energy intake (kcal),\n",
    "- food supply quantity (kg),\n",
    "- protein for different categories of food\n",
    "\n",
    "To which have been added:\n",
    "\n",
    "- obesity rate\n",
    "- undernourished rate\n",
    "- the most up to date confirmed/deaths/recovered/active cases.\n",
    "\n",
    "We are going to focus on the fat quantity dataset."
   ]
  },
  {
   "cell_type": "code",
   "execution_count": 1,
   "metadata": {},
   "outputs": [],
   "source": [
    "import numpy as np\n",
    "import pandas as pd\n",
    "\n",
    "from sklearn.datasets import load_iris\n",
    "import matplotlib.pyplot as plt\n",
    "\n",
    "from sklearn import tree\n",
    "from sklearn.tree import DecisionTreeClassifier\n",
    "from sklearn.ensemble import RandomForestClassifier\n",
    "from sklearn.linear_model import LinearRegression\n",
    "from sklearn.model_selection import learning_curve\n",
    "from sklearn.tree import export_graphviz, plot_tree\n",
    "from sklearn import metrics\n",
    "from sklearn.preprocessing import StandardScaler\n",
    "from sklearn.model_selection import train_test_split\n",
    "from sklearn.model_selection import KFold\n",
    "from sklearn.metrics import mean_squared_error\n",
    "from sklearn.svm import LinearSVC, SVC, SVR"
   ]
  },
  {
   "attachments": {},
   "cell_type": "markdown",
   "metadata": {},
   "source": [
    "Let's start by loading the data"
   ]
  },
  {
   "cell_type": "code",
   "execution_count": 5,
   "metadata": {},
   "outputs": [],
   "source": [
    "fat_quantity = pd.read_csv(\"data/Fat_Supply_Quantity_Data.csv\")"
   ]
  },
  {
   "attachments": {},
   "cell_type": "markdown",
   "metadata": {},
   "source": [
    " ## Data Exploration and Processing"
   ]
  },
  {
   "attachments": {},
   "cell_type": "markdown",
   "metadata": {},
   "source": [
    "Now let's explore the dataset:\n",
    "- check the head\n",
    "- the columns\n",
    "- the variable types"
   ]
  },
  {
   "cell_type": "code",
   "execution_count": 24,
   "metadata": {},
   "outputs": [
    {
     "data": {
      "text/html": [
       "<div>\n",
       "<style scoped>\n",
       "    .dataframe tbody tr th:only-of-type {\n",
       "        vertical-align: middle;\n",
       "    }\n",
       "\n",
       "    .dataframe tbody tr th {\n",
       "        vertical-align: top;\n",
       "    }\n",
       "\n",
       "    .dataframe thead th {\n",
       "        text-align: right;\n",
       "    }\n",
       "</style>\n",
       "<table border=\"1\" class=\"dataframe\">\n",
       "  <thead>\n",
       "    <tr style=\"text-align: right;\">\n",
       "      <th></th>\n",
       "      <th>Country</th>\n",
       "      <th>Alcoholic Beverages</th>\n",
       "      <th>Animal Products</th>\n",
       "      <th>Animal fats</th>\n",
       "      <th>Aquatic Products, Other</th>\n",
       "      <th>Cereals - Excluding Beer</th>\n",
       "      <th>Eggs</th>\n",
       "      <th>Fish, Seafood</th>\n",
       "      <th>Fruits - Excluding Wine</th>\n",
       "      <th>Meat</th>\n",
       "      <th>...</th>\n",
       "      <th>Vegetable Oils</th>\n",
       "      <th>Vegetables</th>\n",
       "      <th>Obesity</th>\n",
       "      <th>Undernourished</th>\n",
       "      <th>Confirmed</th>\n",
       "      <th>Deaths</th>\n",
       "      <th>Recovered</th>\n",
       "      <th>Active</th>\n",
       "      <th>Population</th>\n",
       "      <th>Unit (all except Population)</th>\n",
       "    </tr>\n",
       "  </thead>\n",
       "  <tbody>\n",
       "    <tr>\n",
       "      <th>0</th>\n",
       "      <td>Afghanistan</td>\n",
       "      <td>0.0</td>\n",
       "      <td>21.6397</td>\n",
       "      <td>6.2224</td>\n",
       "      <td>0.0</td>\n",
       "      <td>8.0353</td>\n",
       "      <td>0.6859</td>\n",
       "      <td>0.0327</td>\n",
       "      <td>0.4246</td>\n",
       "      <td>6.1244</td>\n",
       "      <td>...</td>\n",
       "      <td>17.0831</td>\n",
       "      <td>0.3593</td>\n",
       "      <td>4.5</td>\n",
       "      <td>29.8</td>\n",
       "      <td>0.125149</td>\n",
       "      <td>0.005058</td>\n",
       "      <td>0.098263</td>\n",
       "      <td>0.021827</td>\n",
       "      <td>38928000.0</td>\n",
       "      <td>%</td>\n",
       "    </tr>\n",
       "    <tr>\n",
       "      <th>1</th>\n",
       "      <td>Albania</td>\n",
       "      <td>0.0</td>\n",
       "      <td>32.0002</td>\n",
       "      <td>3.4172</td>\n",
       "      <td>0.0</td>\n",
       "      <td>2.6734</td>\n",
       "      <td>1.6448</td>\n",
       "      <td>0.1445</td>\n",
       "      <td>0.6418</td>\n",
       "      <td>8.7428</td>\n",
       "      <td>...</td>\n",
       "      <td>9.2443</td>\n",
       "      <td>0.6503</td>\n",
       "      <td>22.3</td>\n",
       "      <td>6.2</td>\n",
       "      <td>1.733298</td>\n",
       "      <td>0.035800</td>\n",
       "      <td>0.874560</td>\n",
       "      <td>0.822939</td>\n",
       "      <td>2838000.0</td>\n",
       "      <td>%</td>\n",
       "    </tr>\n",
       "    <tr>\n",
       "      <th>2</th>\n",
       "      <td>Algeria</td>\n",
       "      <td>0.0</td>\n",
       "      <td>14.4175</td>\n",
       "      <td>0.8972</td>\n",
       "      <td>0.0</td>\n",
       "      <td>4.2035</td>\n",
       "      <td>1.2171</td>\n",
       "      <td>0.2008</td>\n",
       "      <td>0.5772</td>\n",
       "      <td>3.8961</td>\n",
       "      <td>...</td>\n",
       "      <td>27.3606</td>\n",
       "      <td>0.5145</td>\n",
       "      <td>26.6</td>\n",
       "      <td>3.9</td>\n",
       "      <td>0.208754</td>\n",
       "      <td>0.005882</td>\n",
       "      <td>0.137268</td>\n",
       "      <td>0.065604</td>\n",
       "      <td>44357000.0</td>\n",
       "      <td>%</td>\n",
       "    </tr>\n",
       "    <tr>\n",
       "      <th>3</th>\n",
       "      <td>Angola</td>\n",
       "      <td>0.0</td>\n",
       "      <td>15.3041</td>\n",
       "      <td>1.3130</td>\n",
       "      <td>0.0</td>\n",
       "      <td>6.5545</td>\n",
       "      <td>0.1539</td>\n",
       "      <td>1.4155</td>\n",
       "      <td>0.3488</td>\n",
       "      <td>11.0268</td>\n",
       "      <td>...</td>\n",
       "      <td>22.4638</td>\n",
       "      <td>0.1231</td>\n",
       "      <td>6.8</td>\n",
       "      <td>25</td>\n",
       "      <td>0.050049</td>\n",
       "      <td>0.001144</td>\n",
       "      <td>0.027440</td>\n",
       "      <td>0.021465</td>\n",
       "      <td>32522000.0</td>\n",
       "      <td>%</td>\n",
       "    </tr>\n",
       "    <tr>\n",
       "      <th>4</th>\n",
       "      <td>Antigua and Barbuda</td>\n",
       "      <td>0.0</td>\n",
       "      <td>27.7033</td>\n",
       "      <td>4.6686</td>\n",
       "      <td>0.0</td>\n",
       "      <td>3.2153</td>\n",
       "      <td>0.3872</td>\n",
       "      <td>1.5263</td>\n",
       "      <td>1.2177</td>\n",
       "      <td>14.3202</td>\n",
       "      <td>...</td>\n",
       "      <td>14.4436</td>\n",
       "      <td>0.2469</td>\n",
       "      <td>19.1</td>\n",
       "      <td>NaN</td>\n",
       "      <td>0.151020</td>\n",
       "      <td>0.005102</td>\n",
       "      <td>0.140816</td>\n",
       "      <td>0.005102</td>\n",
       "      <td>98000.0</td>\n",
       "      <td>%</td>\n",
       "    </tr>\n",
       "  </tbody>\n",
       "</table>\n",
       "<p>5 rows × 32 columns</p>\n",
       "</div>"
      ],
      "text/plain": [
       "               Country  Alcoholic Beverages  Animal Products  Animal fats  \\\n",
       "0          Afghanistan                  0.0          21.6397       6.2224   \n",
       "1              Albania                  0.0          32.0002       3.4172   \n",
       "2              Algeria                  0.0          14.4175       0.8972   \n",
       "3               Angola                  0.0          15.3041       1.3130   \n",
       "4  Antigua and Barbuda                  0.0          27.7033       4.6686   \n",
       "\n",
       "   Aquatic Products, Other  Cereals - Excluding Beer    Eggs  Fish, Seafood  \\\n",
       "0                      0.0                    8.0353  0.6859         0.0327   \n",
       "1                      0.0                    2.6734  1.6448         0.1445   \n",
       "2                      0.0                    4.2035  1.2171         0.2008   \n",
       "3                      0.0                    6.5545  0.1539         1.4155   \n",
       "4                      0.0                    3.2153  0.3872         1.5263   \n",
       "\n",
       "   Fruits - Excluding Wine     Meat  ...  Vegetable Oils  Vegetables  Obesity  \\\n",
       "0                   0.4246   6.1244  ...         17.0831      0.3593      4.5   \n",
       "1                   0.6418   8.7428  ...          9.2443      0.6503     22.3   \n",
       "2                   0.5772   3.8961  ...         27.3606      0.5145     26.6   \n",
       "3                   0.3488  11.0268  ...         22.4638      0.1231      6.8   \n",
       "4                   1.2177  14.3202  ...         14.4436      0.2469     19.1   \n",
       "\n",
       "   Undernourished  Confirmed    Deaths  Recovered    Active  Population  \\\n",
       "0            29.8   0.125149  0.005058   0.098263  0.021827  38928000.0   \n",
       "1             6.2   1.733298  0.035800   0.874560  0.822939   2838000.0   \n",
       "2             3.9   0.208754  0.005882   0.137268  0.065604  44357000.0   \n",
       "3              25   0.050049  0.001144   0.027440  0.021465  32522000.0   \n",
       "4             NaN   0.151020  0.005102   0.140816  0.005102     98000.0   \n",
       "\n",
       "   Unit (all except Population)  \n",
       "0                             %  \n",
       "1                             %  \n",
       "2                             %  \n",
       "3                             %  \n",
       "4                             %  \n",
       "\n",
       "[5 rows x 32 columns]"
      ]
     },
     "metadata": {},
     "output_type": "display_data"
    },
    {
     "name": "stdout",
     "output_type": "stream",
     "text": [
      "Index(['Country', 'Alcoholic Beverages', 'Animal Products', 'Animal fats',\n",
      "       'Aquatic Products, Other', 'Cereals - Excluding Beer', 'Eggs',\n",
      "       'Fish, Seafood', 'Fruits - Excluding Wine', 'Meat', 'Miscellaneous',\n",
      "       'Milk - Excluding Butter', 'Offals', 'Oilcrops', 'Pulses', 'Spices',\n",
      "       'Starchy Roots', 'Stimulants', 'Sugar Crops', 'Sugar & Sweeteners',\n",
      "       'Treenuts', 'Vegetal Products', 'Vegetable Oils', 'Vegetables',\n",
      "       'Obesity', 'Undernourished', 'Confirmed', 'Deaths', 'Recovered',\n",
      "       'Active', 'Population', 'Unit (all except Population)'],\n",
      "      dtype='object')\n"
     ]
    },
    {
     "data": {
      "text/html": [
       "<div>\n",
       "<style scoped>\n",
       "    .dataframe tbody tr th:only-of-type {\n",
       "        vertical-align: middle;\n",
       "    }\n",
       "\n",
       "    .dataframe tbody tr th {\n",
       "        vertical-align: top;\n",
       "    }\n",
       "\n",
       "    .dataframe thead th {\n",
       "        text-align: right;\n",
       "    }\n",
       "</style>\n",
       "<table border=\"1\" class=\"dataframe\">\n",
       "  <thead>\n",
       "    <tr style=\"text-align: right;\">\n",
       "      <th></th>\n",
       "      <th>features</th>\n",
       "      <th>type</th>\n",
       "    </tr>\n",
       "  </thead>\n",
       "  <tbody>\n",
       "    <tr>\n",
       "      <th>15</th>\n",
       "      <td>Spices</td>\n",
       "      <td>float64</td>\n",
       "    </tr>\n",
       "    <tr>\n",
       "      <th>26</th>\n",
       "      <td>Confirmed</td>\n",
       "      <td>float64</td>\n",
       "    </tr>\n",
       "    <tr>\n",
       "      <th>29</th>\n",
       "      <td>Active</td>\n",
       "      <td>float64</td>\n",
       "    </tr>\n",
       "    <tr>\n",
       "      <th>24</th>\n",
       "      <td>Obesity</td>\n",
       "      <td>float64</td>\n",
       "    </tr>\n",
       "    <tr>\n",
       "      <th>23</th>\n",
       "      <td>Vegetables</td>\n",
       "      <td>float64</td>\n",
       "    </tr>\n",
       "    <tr>\n",
       "      <th>22</th>\n",
       "      <td>Vegetable Oils</td>\n",
       "      <td>float64</td>\n",
       "    </tr>\n",
       "    <tr>\n",
       "      <th>21</th>\n",
       "      <td>Vegetal Products</td>\n",
       "      <td>float64</td>\n",
       "    </tr>\n",
       "    <tr>\n",
       "      <th>20</th>\n",
       "      <td>Treenuts</td>\n",
       "      <td>float64</td>\n",
       "    </tr>\n",
       "    <tr>\n",
       "      <th>19</th>\n",
       "      <td>Sugar &amp; Sweeteners</td>\n",
       "      <td>float64</td>\n",
       "    </tr>\n",
       "    <tr>\n",
       "      <th>18</th>\n",
       "      <td>Sugar Crops</td>\n",
       "      <td>float64</td>\n",
       "    </tr>\n",
       "    <tr>\n",
       "      <th>17</th>\n",
       "      <td>Stimulants</td>\n",
       "      <td>float64</td>\n",
       "    </tr>\n",
       "    <tr>\n",
       "      <th>16</th>\n",
       "      <td>Starchy Roots</td>\n",
       "      <td>float64</td>\n",
       "    </tr>\n",
       "    <tr>\n",
       "      <th>30</th>\n",
       "      <td>Population</td>\n",
       "      <td>float64</td>\n",
       "    </tr>\n",
       "    <tr>\n",
       "      <th>27</th>\n",
       "      <td>Deaths</td>\n",
       "      <td>float64</td>\n",
       "    </tr>\n",
       "    <tr>\n",
       "      <th>14</th>\n",
       "      <td>Pulses</td>\n",
       "      <td>float64</td>\n",
       "    </tr>\n",
       "    <tr>\n",
       "      <th>12</th>\n",
       "      <td>Offals</td>\n",
       "      <td>float64</td>\n",
       "    </tr>\n",
       "    <tr>\n",
       "      <th>11</th>\n",
       "      <td>Milk - Excluding Butter</td>\n",
       "      <td>float64</td>\n",
       "    </tr>\n",
       "    <tr>\n",
       "      <th>10</th>\n",
       "      <td>Miscellaneous</td>\n",
       "      <td>float64</td>\n",
       "    </tr>\n",
       "    <tr>\n",
       "      <th>9</th>\n",
       "      <td>Meat</td>\n",
       "      <td>float64</td>\n",
       "    </tr>\n",
       "    <tr>\n",
       "      <th>8</th>\n",
       "      <td>Fruits - Excluding Wine</td>\n",
       "      <td>float64</td>\n",
       "    </tr>\n",
       "    <tr>\n",
       "      <th>7</th>\n",
       "      <td>Fish, Seafood</td>\n",
       "      <td>float64</td>\n",
       "    </tr>\n",
       "    <tr>\n",
       "      <th>6</th>\n",
       "      <td>Eggs</td>\n",
       "      <td>float64</td>\n",
       "    </tr>\n",
       "    <tr>\n",
       "      <th>5</th>\n",
       "      <td>Cereals - Excluding Beer</td>\n",
       "      <td>float64</td>\n",
       "    </tr>\n",
       "    <tr>\n",
       "      <th>4</th>\n",
       "      <td>Aquatic Products, Other</td>\n",
       "      <td>float64</td>\n",
       "    </tr>\n",
       "    <tr>\n",
       "      <th>3</th>\n",
       "      <td>Animal fats</td>\n",
       "      <td>float64</td>\n",
       "    </tr>\n",
       "    <tr>\n",
       "      <th>2</th>\n",
       "      <td>Animal Products</td>\n",
       "      <td>float64</td>\n",
       "    </tr>\n",
       "    <tr>\n",
       "      <th>1</th>\n",
       "      <td>Alcoholic Beverages</td>\n",
       "      <td>float64</td>\n",
       "    </tr>\n",
       "    <tr>\n",
       "      <th>13</th>\n",
       "      <td>Oilcrops</td>\n",
       "      <td>float64</td>\n",
       "    </tr>\n",
       "    <tr>\n",
       "      <th>28</th>\n",
       "      <td>Recovered</td>\n",
       "      <td>float64</td>\n",
       "    </tr>\n",
       "    <tr>\n",
       "      <th>0</th>\n",
       "      <td>Country</td>\n",
       "      <td>object</td>\n",
       "    </tr>\n",
       "    <tr>\n",
       "      <th>25</th>\n",
       "      <td>Undernourished</td>\n",
       "      <td>object</td>\n",
       "    </tr>\n",
       "    <tr>\n",
       "      <th>31</th>\n",
       "      <td>Unit (all except Population)</td>\n",
       "      <td>object</td>\n",
       "    </tr>\n",
       "  </tbody>\n",
       "</table>\n",
       "</div>"
      ],
      "text/plain": [
       "                        features     type\n",
       "15                        Spices  float64\n",
       "26                     Confirmed  float64\n",
       "29                        Active  float64\n",
       "24                       Obesity  float64\n",
       "23                    Vegetables  float64\n",
       "22                Vegetable Oils  float64\n",
       "21              Vegetal Products  float64\n",
       "20                      Treenuts  float64\n",
       "19            Sugar & Sweeteners  float64\n",
       "18                   Sugar Crops  float64\n",
       "17                    Stimulants  float64\n",
       "16                 Starchy Roots  float64\n",
       "30                    Population  float64\n",
       "27                        Deaths  float64\n",
       "14                        Pulses  float64\n",
       "12                        Offals  float64\n",
       "11       Milk - Excluding Butter  float64\n",
       "10                 Miscellaneous  float64\n",
       "9                           Meat  float64\n",
       "8        Fruits - Excluding Wine  float64\n",
       "7                  Fish, Seafood  float64\n",
       "6                           Eggs  float64\n",
       "5       Cereals - Excluding Beer  float64\n",
       "4        Aquatic Products, Other  float64\n",
       "3                    Animal fats  float64\n",
       "2                Animal Products  float64\n",
       "1            Alcoholic Beverages  float64\n",
       "13                      Oilcrops  float64\n",
       "28                     Recovered  float64\n",
       "0                        Country   object\n",
       "25                Undernourished   object\n",
       "31  Unit (all except Population)   object"
      ]
     },
     "metadata": {},
     "output_type": "display_data"
    }
   ],
   "source": [
    "display(fat_quantity.head())\n",
    "print(fat_quantity.columns.__str__())\n",
    "df_types = pd.DataFrame(fat_quantity.dtypes).reset_index()\n",
    "df_types.columns = ['features','type']\n",
    "display(df_types.sort_values(by='type'))"
   ]
  },
  {
   "attachments": {},
   "cell_type": "markdown",
   "metadata": {},
   "source": [
    "Let's create a function to **check missing data** and unveil **the percentage of data missing** for each dataframe"
   ]
  },
  {
   "cell_type": "code",
   "execution_count": 79,
   "metadata": {},
   "outputs": [],
   "source": [
    "#import dataFrame\n",
    "files = ['data/Fat_Supply_Quantity_Data.csv',\n",
    "         'data/Food_Supply_kcal_Data.csv',\n",
    "         'data/Food_Supply_Quantity_kg_Data.csv',\n",
    "         'data/heart.csv',\n",
    "         'data/Protein_Supply_Quantity_Data.csv',\n",
    "         'data/Supply_Food_Data_Descriptions.csv']\n",
    "df_FSQD = pd.read_csv(files[0])\n",
    "df_FSQD.Name = files[0].strip('data/').strip('.csv')\n",
    "df_FSKD = pd.read_csv(files[1])\n",
    "df_FSKD.Name = files[1].strip('data/').strip('.csv')\n",
    "df_FSQKD = pd.read_csv(files[2])\n",
    "df_FSQKD.Name = files[2].strip('data/').strip('.csv')\n",
    "df_H = pd.read_csv(files[3])\n",
    "df_H.Name = files[3].strip('data/').strip('.csv')\n",
    "df_PSQD = pd.read_csv(files[4])\n",
    "df_PSQD.Name = files[4].strip('data/').strip('.csv')\n",
    "df_SFDD = pd.read_csv(files[5])\n",
    "df_SFDD.Name = files[5].strip('data/').strip('.csv')\n",
    "dfs=[df_FSQD,df_FSKD,df_FSQKD,df_H,df_PSQD,df_SFDD]\n"
   ]
  },
  {
   "cell_type": "code",
   "execution_count": 80,
   "metadata": {},
   "outputs": [],
   "source": [
    "def check_missing_data(df_list:pd.DataFrame):\n",
    "    for df in df_list:\n",
    "        missing_cell = df.isna().sum(axis=0).sum(axis=0)\n",
    "        n_cell = df.size\n",
    "        nan_percent = missing_cell/n_cell*100\n",
    "        print(f\"missing cell({df.Name}) = \\t{np.round(nan_percent,3)}%\\t({missing_cell}/{n_cell})\")"
   ]
  },
  {
   "cell_type": "code",
   "execution_count": 81,
   "metadata": {},
   "outputs": [
    {
     "name": "stdout",
     "output_type": "stream",
     "text": [
      "missing cell(Fat_Supply_Quantity_Data) = \t0.662%\t(36/5440)\n",
      "missing cell(Food_Supply_kcal_Data) = \t0.662%\t(36/5440)\n",
      "missing cell(Food_Supply_Quantity_kg_Data) = \t0.662%\t(36/5440)\n",
      "missing cell(heart) = \t0.0%\t(0/4242)\n",
      "missing cell(Protein_Supply_Quantity_Data) = \t0.662%\t(36/5440)\n",
      "missing cell(Supply_Food_Data_Description) = \t0.0%\t(0/46)\n"
     ]
    }
   ],
   "source": [
    "# pd.DataFrame(fat_quantity.isna().sum(axis=0)/fat_quantity.size*100).sort_values(by=0,ascending=False)\n",
    "check_missing_data(dfs)\n"
   ]
  },
  {
   "attachments": {},
   "cell_type": "markdown",
   "metadata": {},
   "source": [
    "Delete the countries for which values are missing."
   ]
  },
  {
   "cell_type": "code",
   "execution_count": 93,
   "metadata": {},
   "outputs": [
    {
     "data": {
      "text/html": [
       "<div>\n",
       "<style scoped>\n",
       "    .dataframe tbody tr th:only-of-type {\n",
       "        vertical-align: middle;\n",
       "    }\n",
       "\n",
       "    .dataframe tbody tr th {\n",
       "        vertical-align: top;\n",
       "    }\n",
       "\n",
       "    .dataframe thead th {\n",
       "        text-align: right;\n",
       "    }\n",
       "</style>\n",
       "<table border=\"1\" class=\"dataframe\">\n",
       "  <thead>\n",
       "    <tr style=\"text-align: right;\">\n",
       "      <th></th>\n",
       "      <th>Country</th>\n",
       "      <th>Alcoholic Beverages</th>\n",
       "      <th>Animal Products</th>\n",
       "      <th>Animal fats</th>\n",
       "      <th>Aquatic Products, Other</th>\n",
       "      <th>Cereals - Excluding Beer</th>\n",
       "      <th>Eggs</th>\n",
       "      <th>Fish, Seafood</th>\n",
       "      <th>Fruits - Excluding Wine</th>\n",
       "      <th>Meat</th>\n",
       "      <th>...</th>\n",
       "      <th>Vegetable Oils</th>\n",
       "      <th>Vegetables</th>\n",
       "      <th>Obesity</th>\n",
       "      <th>Undernourished</th>\n",
       "      <th>Confirmed</th>\n",
       "      <th>Deaths</th>\n",
       "      <th>Recovered</th>\n",
       "      <th>Active</th>\n",
       "      <th>Population</th>\n",
       "      <th>Unit (all except Population)</th>\n",
       "    </tr>\n",
       "  </thead>\n",
       "  <tbody>\n",
       "    <tr>\n",
       "      <th>4</th>\n",
       "      <td>Antigua and Barbuda</td>\n",
       "      <td>0.0</td>\n",
       "      <td>27.7033</td>\n",
       "      <td>4.6686</td>\n",
       "      <td>0.0</td>\n",
       "      <td>3.2153</td>\n",
       "      <td>0.3872</td>\n",
       "      <td>1.5263</td>\n",
       "      <td>1.2177</td>\n",
       "      <td>14.3202</td>\n",
       "      <td>...</td>\n",
       "      <td>14.4436</td>\n",
       "      <td>0.2469</td>\n",
       "      <td>19.1</td>\n",
       "      <td>NaN</td>\n",
       "      <td>0.151020</td>\n",
       "      <td>0.005102</td>\n",
       "      <td>0.140816</td>\n",
       "      <td>0.005102</td>\n",
       "      <td>98000.0</td>\n",
       "      <td>%</td>\n",
       "    </tr>\n",
       "    <tr>\n",
       "      <th>10</th>\n",
       "      <td>Bahamas</td>\n",
       "      <td>0.0</td>\n",
       "      <td>30.2259</td>\n",
       "      <td>4.5600</td>\n",
       "      <td>0.0</td>\n",
       "      <td>3.6327</td>\n",
       "      <td>1.2829</td>\n",
       "      <td>1.4991</td>\n",
       "      <td>0.8995</td>\n",
       "      <td>17.4941</td>\n",
       "      <td>...</td>\n",
       "      <td>10.1659</td>\n",
       "      <td>0.3974</td>\n",
       "      <td>32.1</td>\n",
       "      <td>NaN</td>\n",
       "      <td>1.952672</td>\n",
       "      <td>0.041476</td>\n",
       "      <td>1.544529</td>\n",
       "      <td>0.366667</td>\n",
       "      <td>393000.0</td>\n",
       "      <td>%</td>\n",
       "    </tr>\n",
       "    <tr>\n",
       "      <th>26</th>\n",
       "      <td>Canada</td>\n",
       "      <td>0.0</td>\n",
       "      <td>23.1663</td>\n",
       "      <td>9.7895</td>\n",
       "      <td>0.0</td>\n",
       "      <td>1.5440</td>\n",
       "      <td>1.2437</td>\n",
       "      <td>0.4244</td>\n",
       "      <td>0.4244</td>\n",
       "      <td>7.8211</td>\n",
       "      <td>...</td>\n",
       "      <td>20.4733</td>\n",
       "      <td>0.2220</td>\n",
       "      <td>31.3</td>\n",
       "      <td>&lt;2.5</td>\n",
       "      <td>1.238073</td>\n",
       "      <td>0.035533</td>\n",
       "      <td>1.008172</td>\n",
       "      <td>NaN</td>\n",
       "      <td>38190000.0</td>\n",
       "      <td>%</td>\n",
       "    </tr>\n",
       "    <tr>\n",
       "      <th>29</th>\n",
       "      <td>Chile</td>\n",
       "      <td>0.0</td>\n",
       "      <td>32.5206</td>\n",
       "      <td>5.2608</td>\n",
       "      <td>0.0</td>\n",
       "      <td>3.1847</td>\n",
       "      <td>1.4085</td>\n",
       "      <td>0.5204</td>\n",
       "      <td>0.4186</td>\n",
       "      <td>20.2172</td>\n",
       "      <td>...</td>\n",
       "      <td>10.8440</td>\n",
       "      <td>0.2602</td>\n",
       "      <td>28.8</td>\n",
       "      <td>2.7</td>\n",
       "      <td>2.947252</td>\n",
       "      <td>0.081823</td>\n",
       "      <td>2.807078</td>\n",
       "      <td>NaN</td>\n",
       "      <td>19470000.0</td>\n",
       "      <td>%</td>\n",
       "    </tr>\n",
       "    <tr>\n",
       "      <th>52</th>\n",
       "      <td>French Polynesia</td>\n",
       "      <td>0.0</td>\n",
       "      <td>25.1596</td>\n",
       "      <td>4.6648</td>\n",
       "      <td>0.0</td>\n",
       "      <td>3.7271</td>\n",
       "      <td>0.8220</td>\n",
       "      <td>1.5842</td>\n",
       "      <td>0.1995</td>\n",
       "      <td>14.0782</td>\n",
       "      <td>...</td>\n",
       "      <td>14.0024</td>\n",
       "      <td>0.1397</td>\n",
       "      <td>NaN</td>\n",
       "      <td>4.2</td>\n",
       "      <td>NaN</td>\n",
       "      <td>NaN</td>\n",
       "      <td>NaN</td>\n",
       "      <td>NaN</td>\n",
       "      <td>280000.0</td>\n",
       "      <td>%</td>\n",
       "    </tr>\n",
       "    <tr>\n",
       "      <th>59</th>\n",
       "      <td>Grenada</td>\n",
       "      <td>0.0</td>\n",
       "      <td>23.0842</td>\n",
       "      <td>2.4889</td>\n",
       "      <td>0.0</td>\n",
       "      <td>1.4883</td>\n",
       "      <td>1.4440</td>\n",
       "      <td>1.2856</td>\n",
       "      <td>2.8436</td>\n",
       "      <td>12.9576</td>\n",
       "      <td>...</td>\n",
       "      <td>16.8841</td>\n",
       "      <td>0.1077</td>\n",
       "      <td>20.2</td>\n",
       "      <td>NaN</td>\n",
       "      <td>0.061062</td>\n",
       "      <td>0.000000</td>\n",
       "      <td>0.036283</td>\n",
       "      <td>0.024779</td>\n",
       "      <td>113000.0</td>\n",
       "      <td>%</td>\n",
       "    </tr>\n",
       "    <tr>\n",
       "      <th>80</th>\n",
       "      <td>Kiribati</td>\n",
       "      <td>0.0</td>\n",
       "      <td>10.5699</td>\n",
       "      <td>0.7467</td>\n",
       "      <td>0.0</td>\n",
       "      <td>1.9560</td>\n",
       "      <td>0.2650</td>\n",
       "      <td>3.0833</td>\n",
       "      <td>0.3517</td>\n",
       "      <td>6.1955</td>\n",
       "      <td>...</td>\n",
       "      <td>7.2939</td>\n",
       "      <td>0.1397</td>\n",
       "      <td>45.6</td>\n",
       "      <td>2.7</td>\n",
       "      <td>NaN</td>\n",
       "      <td>NaN</td>\n",
       "      <td>NaN</td>\n",
       "      <td>NaN</td>\n",
       "      <td>125000.0</td>\n",
       "      <td>%</td>\n",
       "    </tr>\n",
       "    <tr>\n",
       "      <th>81</th>\n",
       "      <td>Korea, North</td>\n",
       "      <td>0.0</td>\n",
       "      <td>11.4709</td>\n",
       "      <td>0.0262</td>\n",
       "      <td>0.0</td>\n",
       "      <td>7.2234</td>\n",
       "      <td>1.6911</td>\n",
       "      <td>0.5375</td>\n",
       "      <td>0.6424</td>\n",
       "      <td>8.7179</td>\n",
       "      <td>...</td>\n",
       "      <td>27.5957</td>\n",
       "      <td>1.0357</td>\n",
       "      <td>7.1</td>\n",
       "      <td>47.8</td>\n",
       "      <td>NaN</td>\n",
       "      <td>NaN</td>\n",
       "      <td>NaN</td>\n",
       "      <td>NaN</td>\n",
       "      <td>25779000.0</td>\n",
       "      <td>%</td>\n",
       "    </tr>\n",
       "    <tr>\n",
       "      <th>105</th>\n",
       "      <td>Myanmar</td>\n",
       "      <td>0.0</td>\n",
       "      <td>26.0470</td>\n",
       "      <td>3.0066</td>\n",
       "      <td>0.0</td>\n",
       "      <td>3.8192</td>\n",
       "      <td>0.9251</td>\n",
       "      <td>2.5441</td>\n",
       "      <td>0.2750</td>\n",
       "      <td>18.1335</td>\n",
       "      <td>...</td>\n",
       "      <td>12.7453</td>\n",
       "      <td>0.2938</td>\n",
       "      <td>5.7</td>\n",
       "      <td>10.6</td>\n",
       "      <td>NaN</td>\n",
       "      <td>NaN</td>\n",
       "      <td>NaN</td>\n",
       "      <td>NaN</td>\n",
       "      <td>54704000.0</td>\n",
       "      <td>%</td>\n",
       "    </tr>\n",
       "    <tr>\n",
       "      <th>109</th>\n",
       "      <td>New Caledonia</td>\n",
       "      <td>0.0</td>\n",
       "      <td>22.2697</td>\n",
       "      <td>3.6599</td>\n",
       "      <td>0.0</td>\n",
       "      <td>5.0979</td>\n",
       "      <td>1.0439</td>\n",
       "      <td>0.8385</td>\n",
       "      <td>0.2222</td>\n",
       "      <td>11.6086</td>\n",
       "      <td>...</td>\n",
       "      <td>16.8532</td>\n",
       "      <td>0.1887</td>\n",
       "      <td>NaN</td>\n",
       "      <td>7.1</td>\n",
       "      <td>NaN</td>\n",
       "      <td>NaN</td>\n",
       "      <td>NaN</td>\n",
       "      <td>NaN</td>\n",
       "      <td>295000.0</td>\n",
       "      <td>%</td>\n",
       "    </tr>\n",
       "    <tr>\n",
       "      <th>124</th>\n",
       "      <td>Republic of Moldova</td>\n",
       "      <td>0.0</td>\n",
       "      <td>26.5244</td>\n",
       "      <td>6.8551</td>\n",
       "      <td>0.0</td>\n",
       "      <td>2.5570</td>\n",
       "      <td>1.5517</td>\n",
       "      <td>0.6921</td>\n",
       "      <td>0.2987</td>\n",
       "      <td>9.7764</td>\n",
       "      <td>...</td>\n",
       "      <td>18.8388</td>\n",
       "      <td>0.3570</td>\n",
       "      <td>20.1</td>\n",
       "      <td>NaN</td>\n",
       "      <td>3.599802</td>\n",
       "      <td>0.073494</td>\n",
       "      <td>3.116803</td>\n",
       "      <td>0.409505</td>\n",
       "      <td>3535000.0</td>\n",
       "      <td>%</td>\n",
       "    </tr>\n",
       "    <tr>\n",
       "      <th>128</th>\n",
       "      <td>Saint Kitts and Nevis</td>\n",
       "      <td>0.0</td>\n",
       "      <td>24.3013</td>\n",
       "      <td>4.7370</td>\n",
       "      <td>0.0</td>\n",
       "      <td>2.0602</td>\n",
       "      <td>0.5600</td>\n",
       "      <td>0.7296</td>\n",
       "      <td>0.3596</td>\n",
       "      <td>14.3547</td>\n",
       "      <td>...</td>\n",
       "      <td>19.0043</td>\n",
       "      <td>0.1233</td>\n",
       "      <td>23.1</td>\n",
       "      <td>NaN</td>\n",
       "      <td>0.051852</td>\n",
       "      <td>0.000000</td>\n",
       "      <td>0.042593</td>\n",
       "      <td>0.009259</td>\n",
       "      <td>54000.0</td>\n",
       "      <td>%</td>\n",
       "    </tr>\n",
       "    <tr>\n",
       "      <th>129</th>\n",
       "      <td>Saint Lucia</td>\n",
       "      <td>0.0</td>\n",
       "      <td>33.3454</td>\n",
       "      <td>3.8130</td>\n",
       "      <td>0.0</td>\n",
       "      <td>1.6712</td>\n",
       "      <td>0.5249</td>\n",
       "      <td>1.5867</td>\n",
       "      <td>0.3741</td>\n",
       "      <td>22.8778</td>\n",
       "      <td>...</td>\n",
       "      <td>9.6531</td>\n",
       "      <td>0.1508</td>\n",
       "      <td>19.8</td>\n",
       "      <td>NaN</td>\n",
       "      <td>0.152747</td>\n",
       "      <td>0.002198</td>\n",
       "      <td>0.131868</td>\n",
       "      <td>0.018681</td>\n",
       "      <td>182000.0</td>\n",
       "      <td>%</td>\n",
       "    </tr>\n",
       "    <tr>\n",
       "      <th>147</th>\n",
       "      <td>Taiwan*</td>\n",
       "      <td>0.0</td>\n",
       "      <td>19.3217</td>\n",
       "      <td>2.6952</td>\n",
       "      <td>0.0</td>\n",
       "      <td>1.1629</td>\n",
       "      <td>1.4818</td>\n",
       "      <td>0.4667</td>\n",
       "      <td>0.2956</td>\n",
       "      <td>13.2817</td>\n",
       "      <td>...</td>\n",
       "      <td>24.8016</td>\n",
       "      <td>0.3111</td>\n",
       "      <td>NaN</td>\n",
       "      <td>3.5</td>\n",
       "      <td>0.003134</td>\n",
       "      <td>0.000030</td>\n",
       "      <td>0.002567</td>\n",
       "      <td>0.000538</td>\n",
       "      <td>23610000.0</td>\n",
       "      <td>%</td>\n",
       "    </tr>\n",
       "    <tr>\n",
       "      <th>148</th>\n",
       "      <td>Tajikistan</td>\n",
       "      <td>0.0</td>\n",
       "      <td>12.6827</td>\n",
       "      <td>0.0348</td>\n",
       "      <td>0.0</td>\n",
       "      <td>10.2035</td>\n",
       "      <td>0.5741</td>\n",
       "      <td>0.0174</td>\n",
       "      <td>0.3566</td>\n",
       "      <td>7.1590</td>\n",
       "      <td>...</td>\n",
       "      <td>22.7557</td>\n",
       "      <td>0.9395</td>\n",
       "      <td>12.6</td>\n",
       "      <td>NaN</td>\n",
       "      <td>0.135126</td>\n",
       "      <td>0.000933</td>\n",
       "      <td>0.129091</td>\n",
       "      <td>0.005101</td>\n",
       "      <td>9429000.0</td>\n",
       "      <td>%</td>\n",
       "    </tr>\n",
       "    <tr>\n",
       "      <th>155</th>\n",
       "      <td>Turkmenistan</td>\n",
       "      <td>0.0</td>\n",
       "      <td>32.6886</td>\n",
       "      <td>6.4856</td>\n",
       "      <td>0.0</td>\n",
       "      <td>2.9938</td>\n",
       "      <td>1.1060</td>\n",
       "      <td>0.1274</td>\n",
       "      <td>0.3069</td>\n",
       "      <td>17.4764</td>\n",
       "      <td>...</td>\n",
       "      <td>11.7610</td>\n",
       "      <td>0.4459</td>\n",
       "      <td>17.5</td>\n",
       "      <td>5.4</td>\n",
       "      <td>NaN</td>\n",
       "      <td>NaN</td>\n",
       "      <td>NaN</td>\n",
       "      <td>NaN</td>\n",
       "      <td>6031000.0</td>\n",
       "      <td>%</td>\n",
       "    </tr>\n",
       "  </tbody>\n",
       "</table>\n",
       "<p>16 rows × 32 columns</p>\n",
       "</div>"
      ],
      "text/plain": [
       "                   Country  Alcoholic Beverages  Animal Products  Animal fats  \\\n",
       "4      Antigua and Barbuda                  0.0          27.7033       4.6686   \n",
       "10                 Bahamas                  0.0          30.2259       4.5600   \n",
       "26                  Canada                  0.0          23.1663       9.7895   \n",
       "29                   Chile                  0.0          32.5206       5.2608   \n",
       "52        French Polynesia                  0.0          25.1596       4.6648   \n",
       "59                 Grenada                  0.0          23.0842       2.4889   \n",
       "80                Kiribati                  0.0          10.5699       0.7467   \n",
       "81            Korea, North                  0.0          11.4709       0.0262   \n",
       "105                Myanmar                  0.0          26.0470       3.0066   \n",
       "109          New Caledonia                  0.0          22.2697       3.6599   \n",
       "124    Republic of Moldova                  0.0          26.5244       6.8551   \n",
       "128  Saint Kitts and Nevis                  0.0          24.3013       4.7370   \n",
       "129            Saint Lucia                  0.0          33.3454       3.8130   \n",
       "147                Taiwan*                  0.0          19.3217       2.6952   \n",
       "148             Tajikistan                  0.0          12.6827       0.0348   \n",
       "155           Turkmenistan                  0.0          32.6886       6.4856   \n",
       "\n",
       "     Aquatic Products, Other  Cereals - Excluding Beer    Eggs  Fish, Seafood  \\\n",
       "4                        0.0                    3.2153  0.3872         1.5263   \n",
       "10                       0.0                    3.6327  1.2829         1.4991   \n",
       "26                       0.0                    1.5440  1.2437         0.4244   \n",
       "29                       0.0                    3.1847  1.4085         0.5204   \n",
       "52                       0.0                    3.7271  0.8220         1.5842   \n",
       "59                       0.0                    1.4883  1.4440         1.2856   \n",
       "80                       0.0                    1.9560  0.2650         3.0833   \n",
       "81                       0.0                    7.2234  1.6911         0.5375   \n",
       "105                      0.0                    3.8192  0.9251         2.5441   \n",
       "109                      0.0                    5.0979  1.0439         0.8385   \n",
       "124                      0.0                    2.5570  1.5517         0.6921   \n",
       "128                      0.0                    2.0602  0.5600         0.7296   \n",
       "129                      0.0                    1.6712  0.5249         1.5867   \n",
       "147                      0.0                    1.1629  1.4818         0.4667   \n",
       "148                      0.0                   10.2035  0.5741         0.0174   \n",
       "155                      0.0                    2.9938  1.1060         0.1274   \n",
       "\n",
       "     Fruits - Excluding Wine     Meat  ...  Vegetable Oils  Vegetables  \\\n",
       "4                     1.2177  14.3202  ...         14.4436      0.2469   \n",
       "10                    0.8995  17.4941  ...         10.1659      0.3974   \n",
       "26                    0.4244   7.8211  ...         20.4733      0.2220   \n",
       "29                    0.4186  20.2172  ...         10.8440      0.2602   \n",
       "52                    0.1995  14.0782  ...         14.0024      0.1397   \n",
       "59                    2.8436  12.9576  ...         16.8841      0.1077   \n",
       "80                    0.3517   6.1955  ...          7.2939      0.1397   \n",
       "81                    0.6424   8.7179  ...         27.5957      1.0357   \n",
       "105                   0.2750  18.1335  ...         12.7453      0.2938   \n",
       "109                   0.2222  11.6086  ...         16.8532      0.1887   \n",
       "124                   0.2987   9.7764  ...         18.8388      0.3570   \n",
       "128                   0.3596  14.3547  ...         19.0043      0.1233   \n",
       "129                   0.3741  22.8778  ...          9.6531      0.1508   \n",
       "147                   0.2956  13.2817  ...         24.8016      0.3111   \n",
       "148                   0.3566   7.1590  ...         22.7557      0.9395   \n",
       "155                   0.3069  17.4764  ...         11.7610      0.4459   \n",
       "\n",
       "     Obesity  Undernourished  Confirmed    Deaths  Recovered    Active  \\\n",
       "4       19.1             NaN   0.151020  0.005102   0.140816  0.005102   \n",
       "10      32.1             NaN   1.952672  0.041476   1.544529  0.366667   \n",
       "26      31.3            <2.5   1.238073  0.035533   1.008172       NaN   \n",
       "29      28.8             2.7   2.947252  0.081823   2.807078       NaN   \n",
       "52       NaN             4.2        NaN       NaN        NaN       NaN   \n",
       "59      20.2             NaN   0.061062  0.000000   0.036283  0.024779   \n",
       "80      45.6             2.7        NaN       NaN        NaN       NaN   \n",
       "81       7.1            47.8        NaN       NaN        NaN       NaN   \n",
       "105      5.7            10.6        NaN       NaN        NaN       NaN   \n",
       "109      NaN             7.1        NaN       NaN        NaN       NaN   \n",
       "124     20.1             NaN   3.599802  0.073494   3.116803  0.409505   \n",
       "128     23.1             NaN   0.051852  0.000000   0.042593  0.009259   \n",
       "129     19.8             NaN   0.152747  0.002198   0.131868  0.018681   \n",
       "147      NaN             3.5   0.003134  0.000030   0.002567  0.000538   \n",
       "148     12.6             NaN   0.135126  0.000933   0.129091  0.005101   \n",
       "155     17.5             5.4        NaN       NaN        NaN       NaN   \n",
       "\n",
       "     Population  Unit (all except Population)  \n",
       "4       98000.0                             %  \n",
       "10     393000.0                             %  \n",
       "26   38190000.0                             %  \n",
       "29   19470000.0                             %  \n",
       "52     280000.0                             %  \n",
       "59     113000.0                             %  \n",
       "80     125000.0                             %  \n",
       "81   25779000.0                             %  \n",
       "105  54704000.0                             %  \n",
       "109    295000.0                             %  \n",
       "124   3535000.0                             %  \n",
       "128     54000.0                             %  \n",
       "129    182000.0                             %  \n",
       "147  23610000.0                             %  \n",
       "148   9429000.0                             %  \n",
       "155   6031000.0                             %  \n",
       "\n",
       "[16 rows x 32 columns]"
      ]
     },
     "metadata": {},
     "output_type": "display_data"
    }
   ],
   "source": [
    "display(fat_quantity[fat_quantity.isna().any(axis=1)])\n",
    "df_FSQD = df_FSQD.dropna(axis=0,how='any')"
   ]
  },
  {
   "attachments": {},
   "cell_type": "markdown",
   "metadata": {},
   "source": [
    "Look at the different data types for each variable."
   ]
  },
  {
   "cell_type": "code",
   "execution_count": 103,
   "metadata": {},
   "outputs": [],
   "source": [
    "num_col = df_FSQD.describe().columns.to_list()\n",
    "num_col = df_FSQD[num_col].corr().sort_values(by='Deaths').index.tolist()"
   ]
  },
  {
   "cell_type": "code",
   "execution_count": 104,
   "metadata": {},
   "outputs": [
    {
     "ename": "ModuleNotFoundError",
     "evalue": "No module named 'seaborn'",
     "output_type": "error",
     "traceback": [
      "\u001b[31m---------------------------------------------------------------------------\u001b[39m",
      "\u001b[31mModuleNotFoundError\u001b[39m                       Traceback (most recent call last)",
      "\u001b[36mCell\u001b[39m\u001b[36m \u001b[39m\u001b[32mIn[104]\u001b[39m\u001b[32m, line 1\u001b[39m\n\u001b[32m----> \u001b[39m\u001b[32m1\u001b[39m \u001b[38;5;28;01mimport\u001b[39;00m\u001b[38;5;250m \u001b[39m\u001b[34;01mseaborn\u001b[39;00m\u001b[38;5;250m \u001b[39m\u001b[38;5;28;01mas\u001b[39;00m\u001b[38;5;250m \u001b[39m\u001b[34;01msns\u001b[39;00m\n\u001b[32m      2\u001b[39m sns.heatmap(df_FSQD.corr())\n",
      "\u001b[31mModuleNotFoundError\u001b[39m: No module named 'seaborn'"
     ]
    }
   ],
   "source": [
    "import seaborn as sns\n",
    "sns.heatmap(df_FSQD.corr())\n"
   ]
  },
  {
   "attachments": {},
   "cell_type": "markdown",
   "metadata": {},
   "source": [
    "Explore the variables that are not of float type and see of you can convert them in to float type."
   ]
  },
  {
   "cell_type": "code",
   "execution_count": null,
   "metadata": {},
   "outputs": [],
   "source": []
  },
  {
   "attachments": {},
   "cell_type": "markdown",
   "metadata": {},
   "source": [
    "# Clustering"
   ]
  },
  {
   "attachments": {},
   "cell_type": "markdown",
   "metadata": {},
   "source": [
    "## Data preparation"
   ]
  },
  {
   "attachments": {},
   "cell_type": "markdown",
   "metadata": {},
   "source": [
    "Scale the dataset"
   ]
  },
  {
   "cell_type": "code",
   "execution_count": null,
   "metadata": {},
   "outputs": [],
   "source": []
  },
  {
   "attachments": {},
   "cell_type": "markdown",
   "metadata": {},
   "source": [
    "## Plot some data"
   ]
  },
  {
   "attachments": {},
   "cell_type": "markdown",
   "metadata": {},
   "source": [
    "Now, we want to visualize some variables for each state. To do so, we use plotly express to have the possibility to hover on a scatter plot and see the statistics per country clearer as explained here."
   ]
  },
  {
   "attachments": {},
   "cell_type": "markdown",
   "metadata": {},
   "source": [
    "https://plotly.com/python/hover-text-and-formatting/#:~:text=Basic%20Charts%20tutorials.-,Hover%20Labels,having%20a%20hover%20label%20appear."
   ]
  },
  {
   "attachments": {},
   "cell_type": "markdown",
   "metadata": {},
   "source": [
    "Plot the \"Obesity\" vs \"Deaths\" statistics"
   ]
  },
  {
   "cell_type": "code",
   "execution_count": null,
   "metadata": {},
   "outputs": [],
   "source": []
  },
  {
   "attachments": {},
   "cell_type": "markdown",
   "metadata": {},
   "source": [
    "Plot the \"Animal fats\" vs \"Deaths\" statistics"
   ]
  },
  {
   "cell_type": "code",
   "execution_count": null,
   "metadata": {},
   "outputs": [],
   "source": []
  },
  {
   "attachments": {},
   "cell_type": "markdown",
   "metadata": {},
   "source": [
    "## K-means and Elbow method"
   ]
  },
  {
   "attachments": {},
   "cell_type": "markdown",
   "metadata": {},
   "source": [
    "We start with the K-Means model:\n",
    "- use the scikit-learn method\n",
    "- use the method you implemented.\n",
    "\n",
    "Use a graphical tool, the elbow method, to estimate the optimal number of clusters k for a given task.\n",
    "- Determine the optimal number of clusters for the previous 2 plots."
   ]
  },
  {
   "cell_type": "code",
   "execution_count": 1,
   "metadata": {},
   "outputs": [],
   "source": [
    "from sklearn.cluster import KMeans\n"
   ]
  },
  {
   "attachments": {},
   "cell_type": "markdown",
   "metadata": {},
   "source": [
    "Plot the obtained clusters"
   ]
  },
  {
   "cell_type": "code",
   "execution_count": null,
   "metadata": {},
   "outputs": [],
   "source": []
  },
  {
   "attachments": {},
   "cell_type": "markdown",
   "metadata": {},
   "source": [
    "## Other clustering methods"
   ]
  },
  {
   "attachments": {},
   "cell_type": "markdown",
   "metadata": {},
   "source": [
    "We are going to explore other clustering methods, such as Mean-Shift.\n",
    "\n",
    "You can read more about it in the next ressource:\n",
    "https://scikit-learn.org/stable/modules/clustering.html\n"
   ]
  },
  {
   "attachments": {},
   "cell_type": "markdown",
   "metadata": {},
   "source": [
    "Apply the method to our datasets made of 2 variables (\"Obesity\" vs \"Deaths\")"
   ]
  },
  {
   "cell_type": "code",
   "execution_count": 2,
   "metadata": {},
   "outputs": [],
   "source": [
    "# Mean-Shift\n",
    "from sklearn.cluster import MeanShift, estimate_bandwidth\n"
   ]
  },
  {
   "attachments": {},
   "cell_type": "markdown",
   "metadata": {},
   "source": [
    "Plot the obtained clusters"
   ]
  },
  {
   "cell_type": "code",
   "execution_count": null,
   "metadata": {},
   "outputs": [],
   "source": []
  },
  {
   "attachments": {},
   "cell_type": "markdown",
   "metadata": {},
   "source": [
    "Check out other algorithms such as DBSAN or OPTICS, why are these algorithms very interesting and in what cases? "
   ]
  },
  {
   "cell_type": "code",
   "execution_count": 36,
   "metadata": {},
   "outputs": [],
   "source": [
    "from sklearn.cluster import DBSCAN\n"
   ]
  },
  {
   "cell_type": "code",
   "execution_count": null,
   "metadata": {},
   "outputs": [],
   "source": []
  },
  {
   "attachments": {},
   "cell_type": "markdown",
   "metadata": {},
   "source": [
    "# Regression and prediction"
   ]
  },
  {
   "attachments": {},
   "cell_type": "markdown",
   "metadata": {},
   "source": [
    "Given this dataset and the emphasis we have already laid on deaths through clustering, it would be interesting to study this dataset for a classification purpose and see how accurately we can predict the mortality rate in fonction of the given features."
   ]
  },
  {
   "attachments": {},
   "cell_type": "markdown",
   "metadata": {},
   "source": [
    "## Creating train and test sets "
   ]
  },
  {
   "attachments": {},
   "cell_type": "markdown",
   "metadata": {},
   "source": [
    "Let's separate the data into a training and testing sets using random selection."
   ]
  },
  {
   "cell_type": "code",
   "execution_count": null,
   "metadata": {},
   "outputs": [],
   "source": []
  },
  {
   "attachments": {},
   "cell_type": "markdown",
   "metadata": {},
   "source": [
    "Now drop the labels from the training set and create a new variable for the labels."
   ]
  },
  {
   "cell_type": "code",
   "execution_count": 42,
   "metadata": {},
   "outputs": [],
   "source": []
  },
  {
   "attachments": {},
   "cell_type": "markdown",
   "metadata": {},
   "source": [
    "Scale the datasets."
   ]
  },
  {
   "cell_type": "code",
   "execution_count": 44,
   "metadata": {},
   "outputs": [],
   "source": []
  },
  {
   "attachments": {},
   "cell_type": "markdown",
   "metadata": {},
   "source": [
    "## Random Forest"
   ]
  },
  {
   "attachments": {},
   "cell_type": "markdown",
   "metadata": {},
   "source": [
    "Let's try a random forest model on the prepared fat_quantity training set."
   ]
  },
  {
   "cell_type": "code",
   "execution_count": 47,
   "metadata": {},
   "outputs": [
    {
     "data": {
      "text/plain": [
       "RandomForestRegressor(random_state=42)"
      ]
     },
     "execution_count": 47,
     "metadata": {},
     "output_type": "execute_result"
    }
   ],
   "source": []
  },
  {
   "attachments": {},
   "cell_type": "markdown",
   "metadata": {},
   "source": [
    "Now we predict."
   ]
  },
  {
   "cell_type": "code",
   "execution_count": null,
   "metadata": {},
   "outputs": [],
   "source": []
  },
  {
   "attachments": {},
   "cell_type": "markdown",
   "metadata": {},
   "source": [
    "Let's perform a 10 fold cross validation.\n",
    "And display the resulting scores:"
   ]
  },
  {
   "cell_type": "code",
   "execution_count": null,
   "metadata": {},
   "outputs": [],
   "source": []
  },
  {
   "attachments": {},
   "cell_type": "markdown",
   "metadata": {},
   "source": [
    "## Learning Curves analysis "
   ]
  },
  {
   "attachments": {},
   "cell_type": "markdown",
   "metadata": {},
   "source": [
    "Use the function seen in **Module 1 to plot learning curves with cross validation.** "
   ]
  },
  {
   "cell_type": "code",
   "execution_count": 31,
   "metadata": {},
   "outputs": [],
   "source": [
    "from sklearn.model_selection import learning_curve\n",
    "\n",
    "def plot_learning_curve(estimator, title, X, y, axes=None, ylim=None, cv=None,\n",
    "                        n_jobs=None, train_sizes=np.linspace(.1, 1.0, 5)):\n",
    "    pass"
   ]
  },
  {
   "attachments": {},
   "cell_type": "markdown",
   "metadata": {},
   "source": [
    "Try to interpret the obtained learning curve."
   ]
  },
  {
   "cell_type": "code",
   "execution_count": null,
   "metadata": {},
   "outputs": [],
   "source": []
  },
  {
   "attachments": {},
   "cell_type": "markdown",
   "metadata": {},
   "source": [
    "Perform a grid search to try to obtain the best hyperparameters. What is the best score that you obtained?"
   ]
  },
  {
   "cell_type": "code",
   "execution_count": 77,
   "metadata": {},
   "outputs": [],
   "source": []
  },
  {
   "attachments": {},
   "cell_type": "markdown",
   "metadata": {},
   "source": [
    "## SVM"
   ]
  },
  {
   "attachments": {},
   "cell_type": "markdown",
   "metadata": {},
   "source": [
    "Use the SVM regressor to estimate the death rate. See if you can get a better model than with the Random forest regressor."
   ]
  },
  {
   "cell_type": "code",
   "execution_count": null,
   "metadata": {},
   "outputs": [],
   "source": []
  },
  {
   "attachments": {},
   "cell_type": "markdown",
   "metadata": {},
   "source": [
    "## Linear regression"
   ]
  },
  {
   "cell_type": "code",
   "execution_count": 3,
   "metadata": {},
   "outputs": [],
   "source": []
  },
  {
   "attachments": {},
   "cell_type": "markdown",
   "metadata": {},
   "source": [
    "# Dimensionality reduction"
   ]
  },
  {
   "attachments": {},
   "cell_type": "markdown",
   "metadata": {},
   "source": [
    "Let's take a look at the whole dataset and see if there are any clusters.\n",
    "\n",
    "In order to do these perform and plot a PCA of 2 components.\n",
    "\n",
    "Dimensionality reduction is a way to reduce the number of features in your dataset without having to lose much information and keep the model’s performance. Check out the Random Forest based method and PCA for dimensionality reduction in the following ressource:\n",
    "\n",
    "https://www.analyticsvidhya.com/blog/2018/08/dimensionality-reduction-techniques-python/"
   ]
  },
  {
   "attachments": {},
   "cell_type": "markdown",
   "metadata": {},
   "source": [
    "## Random Forest feature selection"
   ]
  },
  {
   "cell_type": "code",
   "execution_count": 50,
   "metadata": {},
   "outputs": [],
   "source": []
  },
  {
   "attachments": {},
   "cell_type": "markdown",
   "metadata": {},
   "source": [
    "Plot the feature importance graph."
   ]
  },
  {
   "cell_type": "code",
   "execution_count": null,
   "metadata": {},
   "outputs": [],
   "source": []
  },
  {
   "attachments": {},
   "cell_type": "markdown",
   "metadata": {},
   "source": [
    "Comment the graph."
   ]
  },
  {
   "attachments": {},
   "cell_type": "markdown",
   "metadata": {},
   "source": [
    "## PCA dimensionality reduction"
   ]
  },
  {
   "attachments": {},
   "cell_type": "markdown",
   "metadata": {},
   "source": [
    "PCA is a technique which helps us in extracting a new set of variables from an existing large set of variables. Apply clustering methods on this new set of variables. Are the clusters obtained different than the clusters obtained on the \"Obesity\" vs \"Deaths\"?\n",
    "\n",
    "Apply the Elbow method to determne the right number of clusters.\n",
    "\n",
    "Use diverse methods to cluster the countries."
   ]
  },
  {
   "cell_type": "code",
   "execution_count": 52,
   "metadata": {},
   "outputs": [],
   "source": []
  }
 ],
 "metadata": {
  "kernelspec": {
   "display_name": "ml3",
   "language": "python",
   "name": "python3"
  },
  "language_info": {
   "codemirror_mode": {
    "name": "ipython",
    "version": 3
   },
   "file_extension": ".py",
   "mimetype": "text/x-python",
   "name": "python",
   "nbconvert_exporter": "python",
   "pygments_lexer": "ipython3",
   "version": "3.11.13"
  },
  "toc": {
   "base_numbering": 1,
   "nav_menu": {},
   "number_sections": true,
   "sideBar": true,
   "skip_h1_title": false,
   "title_cell": "Table of Contents",
   "title_sidebar": "Contents",
   "toc_cell": false,
   "toc_position": {},
   "toc_section_display": true,
   "toc_window_display": true
  },
  "varInspector": {
   "cols": {
    "lenName": 16,
    "lenType": 16,
    "lenVar": 40
   },
   "kernels_config": {
    "python": {
     "delete_cmd_postfix": "",
     "delete_cmd_prefix": "del ",
     "library": "var_list.py",
     "varRefreshCmd": "print(var_dic_list())"
    },
    "r": {
     "delete_cmd_postfix": ") ",
     "delete_cmd_prefix": "rm(",
     "library": "var_list.r",
     "varRefreshCmd": "cat(var_dic_list()) "
    }
   },
   "types_to_exclude": [
    "module",
    "function",
    "builtin_function_or_method",
    "instance",
    "_Feature"
   ],
   "window_display": false
  }
 },
 "nbformat": 4,
 "nbformat_minor": 4
}
