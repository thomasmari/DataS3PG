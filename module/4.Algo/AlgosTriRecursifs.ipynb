{
 "cells": [
  {
   "cell_type": "markdown",
   "metadata": {},
   "source": [
    "# 0 Mise en place des fonctions de travail "
   ]
  },
  {
   "cell_type": "code",
   "execution_count": null,
   "metadata": {},
   "outputs": [],
   "source": [
    "import random\n",
    "\n",
    "def generate_random_array(debug=False, N=21):\n",
    "    \"\"\"Renvoie un tableau contenant toutes les valeurs entières de 0 (inclus)\n",
    "    à N (exclus) rangées dans un ordre aléatoire\n",
    "\n",
    "    Args:\n",
    "        debug (boolean): quand debug est vrai, la fonction renvoie toujours le\n",
    "                         même tableau afin de simplifier le débogage de vos\n",
    "                         algorithmes de tri\n",
    "        N (int): la taille du tableau à renvoyer\n",
    "\n",
    "    Returns:\n",
    "        list[int]: un tableau d'entiers, de taille N, non ordonné\n",
    "    \"\"\"\n",
    "\n",
    "    if debug:\n",
    "        return [3, 9, 7, 1, 6, 2, 8, 4, 5, 0]\n",
    "\n",
    "    array = list(range(0, N))\n",
    "    random.shuffle(array)\n",
    "\n",
    "    return array"
   ]
  },
  {
   "cell_type": "code",
   "execution_count": null,
   "metadata": {},
   "outputs": [],
   "source": [
    "def swap(tab, i, j):\n",
    "    \"\"\"Échange la place des éléments aux indices i et j du tableau\"\"\"\n",
    "    \n",
    "    raise NotImplementedError"
   ]
  },
  {
   "cell_type": "markdown",
   "metadata": {},
   "source": [
    "# 1 Les tris recursif "
   ]
  },
  {
   "cell_type": "markdown",
   "metadata": {},
   "source": [
    "## 1.1 Merge Sort"
   ]
  },
  {
   "cell_type": "code",
   "execution_count": 1,
   "metadata": {
    "collapsed": true,
    "jupyter": {
     "outputs_hidden": true
    },
    "scrolled": true
   },
   "outputs": [
    {
     "data": {
      "image/jpeg": "[encoded data removed]",
      "text/html": [
       "\n",
       "        <iframe\n",
       "            width=\"900\"\n",
       "            height=\"600\"\n",
       "            src=\"https://www.youtube.com/embed/XaqR3G_NVoo\"\n",
       "            frameborder=\"0\"\n",
       "            allowfullscreen\n",
       "            \n",
       "        ></iframe>\n",
       "        "
      ],
      "text/plain": [
       "<IPython.lib.display.YouTubeVideo at 0x7f4e962e9760>"
      ]
     },
     "execution_count": 1,
     "metadata": {},
     "output_type": "execute_result"
    }
   ],
   "source": [
    "from IPython.display import YouTubeVideo\n",
    "\n",
    "YouTubeVideo('XaqR3G_NVoo', height=600, width=900)"
   ]
  },
  {
   "cell_type": "markdown",
   "metadata": {},
   "source": [
    "```pseudocode\n",
    "FONCTION tri_fusion(liste)\n",
    "\n",
    "  // Exercice : ajouter un commentaire d'explication\n",
    "  SI longueur(liste) <= 1 ALORS\n",
    "    RETOURNER liste  \n",
    "  FIN SI\n",
    "\n",
    "  // Exercice : ajouter un commentaire d'explication\n",
    "  milieu = longueur(liste) / 2\n",
    "  gauche = sous-liste de liste depuis le début jusqu'à milieu\n",
    "  droite = sous-liste de liste depuis milieu jusqu'à la fin\n",
    "\n",
    "  // Exercice : ajouter un commentaire d'explication\n",
    "  gauche_triee = tri_fusion(gauche)\n",
    "  droite_triee = tri_fusion(droite)\n",
    "\n",
    "  // Exercice : ajouter un commentaire d'explication\n",
    "  RETOURNER fusionner(gauche_triee, droite_triee)\n",
    "FIN FONCTION\n",
    "\n",
    "FONCTION fusionner(gauche, droite)\n",
    "\n",
    "  resultat = nouvelle liste vide\n",
    "\n",
    "  // Exercice : ajouter un commentaire d'explication\n",
    "  TANT QUE longueur(gauche) > 0 ET longueur(droite) > 0 FAIRE\n",
    "    SI premier_element(gauche) <= premier_element(droite) ALORS\n",
    "      ajouter premier_element(gauche) à resultat\n",
    "      supprimer premier_element(gauche)\n",
    "    SINON\n",
    "      ajouter premier_element(droite) à resultat\n",
    "      supprimer premier_element(droite)\n",
    "    FIN SI\n",
    "  FIN TANT QUE\n",
    "\n",
    "  // Exercice : ajouter un commentaire d'explication\n",
    "  TANT QUE longueur(gauche) > 0 FAIRE\n",
    "    ajouter premier_element(gauche) à resultat\n",
    "    supprimer premier_element(gauche)\n",
    "  FIN TANT QUE\n",
    "\n",
    "  // Exercice : ajouter un commentaire d'explication\n",
    "  TANT QUE longueur(droite) > 0 FAIRE\n",
    "    ajouter premier_element(droite) à resultat\n",
    "    supprimer premier_element(droite)\n",
    "  FIN TANT QUE\n",
    "\n",
    "  RETOURNER resultat\n",
    "FIN FONCTION"
   ]
  },
  {
   "cell_type": "code",
   "execution_count": null,
   "metadata": {},
   "outputs": [],
   "source": [
    "def merge_sort(tab):\n",
    "    \"\"\"Trie le tableau via le principe de « diviser pour mieux régner »\n",
    "    avec l'intelligence du tri qui se trouve au moment de la fusion\"\"\"\n",
    "\n",
    "    merge_sort_r(tab, 0, len(tab))\n",
    "    \n",
    "    raise NotImplementedError\n",
    "\n",
    "def merge_sort_r(tab, start, end):\n",
    "    raise NotImplementedError\n",
    "\n",
    "def merge(tab, start, middle, end):\n",
    "    raise NotImplementedError"
   ]
  },
  {
   "cell_type": "code",
   "execution_count": null,
   "metadata": {},
   "outputs": [],
   "source": [
    "merge_sort(generate_random_array())"
   ]
  },
  {
   "cell_type": "markdown",
   "metadata": {},
   "source": [
    "## 1.2 Tri quick sort"
   ]
  },
  {
   "cell_type": "code",
   "execution_count": null,
   "metadata": {},
   "outputs": [],
   "source": [
    "from IPython.display import YouTubeVideo\n",
    "\n",
    "YouTubeVideo('ywWBy6J5gz8', height=600, width=900)"
   ]
  },
  {
   "cell_type": "markdown",
   "metadata": {},
   "source": [
    "**Un pseudocode possible** \n",
    "\n",
    "\n",
    "```pseudocode\n",
    "quickSort(tableau T, entier premier, entier dernier)\n",
    "\n",
    "    // Exercice : commentaire d'explication \n",
    "    SI premier < dernier ALORS\n",
    "        index_pivot := partitionner(T, premier, dernier)\n",
    "        quickSort(T, premier, index_pivot-1)\n",
    "        quickSort(T, index_pivot+1, dernier)\n",
    "    FIN SI\n",
    "\n",
    "partition(tableau, debut, fin)\n",
    "    \n",
    "    pivot <- tableau[fin] // Choisir le dernier élément comme pivot\n",
    "\n",
    "    // Exercice : commentaire d'explication\n",
    "    index_frontiere <- debut - 1\n",
    "\n",
    "    // Exercice : commentaire d'explication\n",
    "    POUR j DE debut A fin - 1 \n",
    "        SI tableau[j] <= pivot ALORS\n",
    "            index_frontiere <- index_frontiere + 1\n",
    "            Échanger tableau[ index_frontiere ] et tableau[j]\n",
    "        FIN SI\n",
    "    FIN POUR\n",
    "\n",
    "    // Exercice : commentaire d'explication\n",
    "    Echanger(tableau[ index_frontiere + 1], tableau[fin])\n",
    "\n",
    "    RETOURNER ( index_frontiere + 1 )      \n",
    "```"
   ]
  },
  {
   "cell_type": "code",
   "execution_count": null,
   "metadata": {},
   "outputs": [],
   "source": [
    "def quick_sort(tab, first=None, last=None):\n",
    "    \"\"\"Divise le tableau en deux, trie chacune des sous-parties et fusionne\n",
    "    intelligemment les deux sous-parties triées. L'intelligence se trouve\n",
    "    dans la division du tableau.\"\"\"\n",
    "\n",
    "    raise NotImplementedError\n",
    "\n",
    "def quick_sort_r(tab, first, last):\n",
    "    raise NotImplementedError\n",
    "\n",
    "        \n",
    "def partition(tab, first, last):\n",
    "    raise NotImplementedError"
   ]
  }
 ],
 "metadata": {
  "kernelspec": {
   "display_name": "Python 3 (ipykernel)",
   "language": "python",
   "name": "python3"
  },
  "language_info": {
   "codemirror_mode": {
    "name": "ipython",
    "version": 3
   },
   "file_extension": ".py",
   "mimetype": "text/x-python",
   "name": "python",
   "nbconvert_exporter": "python",
   "pygments_lexer": "ipython3",
   "version": "3.13.3"
  }
 },
 "nbformat": 4,
 "nbformat_minor": 4
}
