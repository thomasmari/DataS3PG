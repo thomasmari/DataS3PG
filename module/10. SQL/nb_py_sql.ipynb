{
 "cells": [
  {
   "cell_type": "markdown",
   "id": "6f0dd1b0",
   "metadata": {},
   "source": [
    "## ITERATION 1 -- psycopg2"
   ]
  },
  {
   "cell_type": "code",
   "execution_count": 18,
   "id": "3818c9d2",
   "metadata": {},
   "outputs": [],
   "source": [
    "import psycopg2"
   ]
  },
  {
   "cell_type": "code",
   "execution_count": 54,
   "id": "e51bb3c3",
   "metadata": {},
   "outputs": [],
   "source": [
    "#\n",
    "postgres_pw = \"allaguana!!\""
   ]
  },
  {
   "cell_type": "code",
   "execution_count": 56,
   "id": "f2a00201",
   "metadata": {},
   "outputs": [],
   "source": [
    "# Connexion à la base de données\n",
    "conn = psycopg2.connect(\n",
    "dbname=\"lieu\",\n",
    "user=\"postgres\",\n",
    "password=postgres_pw,\n",
    "host=\"localhost\",\n",
    "port=\"5432\"\n",
    ")"
   ]
  },
  {
   "cell_type": "code",
   "execution_count": 57,
   "id": "583ebbff",
   "metadata": {},
   "outputs": [
    {
     "name": "stdout",
     "output_type": "stream",
     "text": [
      "(1, 'Arthur', 'le_graal@gmail.com', '12345', 'user', False)\n",
      "(2, 'Lancelot', 'lancelot@gmail.com', '12344', 'user', False)\n",
      "(3, 'Merlin', 'LaMagie@gmail.com', '1234', 'cartograph', False)\n",
      "(4, 'Guenievre', 'guenievre@gmail.com', '12345', 'user', False)\n",
      "(5, 'Dame du Lac', 'ddl@gmail.com', '1234', 'cartograph', False)\n",
      "(6, 'Alice', 'alice@example.com', 'password123', 'admin', True)\n",
      "(7, 'Bob', 'bob@example.com', 'secure456', 'user', True)\n",
      "(8, 'Charlie', 'charlie@example.com', 'pass789', 'user', False)\n"
     ]
    }
   ],
   "source": [
    "\n",
    "# Création d'un curseur\n",
    "cursor = conn.cursor()\n",
    "# Exécution d'une requête SQL\n",
    "cursor.execute(\"SELECT * FROM utilisateur ;\")\n",
    "rows = cursor.fetchall()\n",
    "# Affichage des résultats\n",
    "for row in rows:\n",
    "    print(row)\n",
    "# Fermeture de la connexion\n",
    "cursor.close()\n"
   ]
  },
  {
   "cell_type": "markdown",
   "id": "dd365b57",
   "metadata": {},
   "source": [
    "1. Dans un nouveau notebook Jupyter, connectez-vous à la base de données numcity en\n",
    "utilisant psycopg2.\n",
    "2. Créez une fonction Python permettant d’exécuter une requête SQL et de retourner les\n",
    "résultats dans un format lisible.\n",
    "3. Écrivez des requêtes pour interroger chacune des tables disponibles dans votre base\n",
    "de données.\n",
    "4. Testez vos requêtes et vérifiez les résultats pour vous assurer qu’ils sont corrects.\n",
    "5. Documentez votre notebook avec des descriptions des tables et des objectifs de\n",
    "chaque requête."
   ]
  },
  {
   "cell_type": "code",
   "execution_count": 58,
   "id": "0032f687",
   "metadata": {},
   "outputs": [],
   "source": [
    "#Generate connector_bdd\n",
    "def connection():\n",
    "    return(psycopg2.connect(dbname=\"lieu\",user=\"postgres\",password=postgres_pw,host=\"localhost\",port=\"5432\"))\n",
    "def querry_sql(querry:str):\n",
    "    conn=connection()\n",
    "    # Création d'un curseur\n",
    "    cursor = conn.cursor()\n",
    "    # Exécution d'une requête SQL\n",
    "    cursor.execute(querry)\n",
    "    rows = cursor.fetchall()\n",
    "    # Fermeture de la connexion\n",
    "    cursor.close()\n",
    "    conn.close()\n",
    "    return(rows)"
   ]
  },
  {
   "cell_type": "code",
   "execution_count": 59,
   "id": "4c226f5c",
   "metadata": {},
   "outputs": [
    {
     "data": {
      "text/plain": [
       "[(1, 5.725, 45.183, None, 1),\n",
       " (2, 5.725, 45.183, 1, 1),\n",
       " (3, 5.728, 45.183, 1, 1),\n",
       " (4, 5.7295, 45.1835, 1, 1),\n",
       " (5, 5.729, 45.1858, 1, 1),\n",
       " (6, 5.7264, 45.1858, 1, 1),\n",
       " (7, 5.7245, 45.185, 1, 1),\n",
       " (8, 5.7245, 45.1835, 1, 1),\n",
       " (9, 5.7368, 45.1829, None, 2),\n",
       " (10, 5.7384, 45.1845, 9, 2),\n",
       " (11, 5.7388, 45.1862, 9, 2),\n",
       " (12, 5.7379, 45.1874, 9, 2),\n",
       " (13, 5.7364, 45.188, 9, 2),\n",
       " (14, 5.7348, 45.1881, 9, 2),\n",
       " (15, 5.7333, 45.1873, 9, 2),\n",
       " (16, 5.7327, 45.1861, 9, 2),\n",
       " (17, 5.7329, 45.1849, 9, 2),\n",
       " (18, 5.7343, 45.1837, 9, 2),\n",
       " (19, 5.7358, 45.1832, 9, 2),\n",
       " (20, 5.7368, 45.1829, 9, 2),\n",
       " (21, 45.1883, 5.724, None, None),\n",
       " (22, 45.1893, 5.7348, None, None),\n",
       " (23, 45.22, 5.3942, None, None),\n",
       " (24, 45.1845, 5.735, None, None)]"
      ]
     },
     "execution_count": 59,
     "metadata": {},
     "output_type": "execute_result"
    }
   ],
   "source": [
    "querry_sql(\"SELECT * FROM pointgps ;\")"
   ]
  },
  {
   "cell_type": "markdown",
   "id": "3dec31fc",
   "metadata": {},
   "source": [
    "## ITÉRATION 2 -- pandas"
   ]
  },
  {
   "cell_type": "code",
   "execution_count": 60,
   "id": "deba6310",
   "metadata": {},
   "outputs": [
    {
     "name": "stdout",
     "output_type": "stream",
     "text": [
      "   id_poi            type_poi  is_valid  id_point     description  id_creator  \\\n",
      "0       1  Parking Trotinette     False        21  Parking Trot 1           6   \n",
      "1       2  Parking Trotinette     False        22  Parking Trot 2           6   \n",
      "2       3        Parking Vélo     False        21  Parking VELO 1           7   \n",
      "3       4        Parking Vélo     False        22  Parking VELO 2           7   \n",
      "\n",
      "  id_validator  \n",
      "0         None  \n",
      "1         None  \n",
      "2         None  \n",
      "3         None  \n"
     ]
    },
    {
     "name": "stderr",
     "output_type": "stream",
     "text": [
      "/tmp/ipykernel_42755/2525771783.py:13: UserWarning: pandas only supports SQLAlchemy connectable (engine/connection) or database string URI or sqlite3 DBAPI2 connection. Other DBAPI2 objects are not tested. Please consider using SQLAlchemy.\n",
      "  df = pd.read_sql_query(query, conn)\n"
     ]
    }
   ],
   "source": [
    "import pandas as pd\n",
    "import psycopg2\n",
    "# Connexion à la base de données\n",
    "conn = psycopg2.connect(\n",
    "dbname=\"lieu\",\n",
    "user=\"postgres\",\n",
    "password=postgres_pw,\n",
    "host=\"localhost\",\n",
    "port=\"5432\"\n",
    ")\n",
    "# Charger des données dans un DataFrame\n",
    "query = \"SELECT * FROM poi;\"\n",
    "df = pd.read_sql_query(query, conn)\n",
    "# Afficher un aperçu des données\n",
    "print(df.head())\n",
    "# Fermer la connexion\n",
    "conn.close()"
   ]
  },
  {
   "cell_type": "code",
   "execution_count": 61,
   "id": "6331d7d5",
   "metadata": {},
   "outputs": [],
   "source": [
    "def df_from_sql(querry_sql:str):\n",
    "    conn = connection()\n",
    "    df = (pd.read_sql_query(querry_sql, conn))\n",
    "    conn.close()\n",
    "    return(df)"
   ]
  },
  {
   "cell_type": "code",
   "execution_count": 63,
   "id": "86d4822b",
   "metadata": {},
   "outputs": [
    {
     "name": "stderr",
     "output_type": "stream",
     "text": [
      "/tmp/ipykernel_42755/805175623.py:3: UserWarning: pandas only supports SQLAlchemy connectable (engine/connection) or database string URI or sqlite3 DBAPI2 connection. Other DBAPI2 objects are not tested. Please consider using SQLAlchemy.\n",
      "  df = (pd.read_sql_query(querry_sql, conn))\n"
     ]
    },
    {
     "data": {
      "text/html": [
       "<div>\n",
       "<style scoped>\n",
       "    .dataframe tbody tr th:only-of-type {\n",
       "        vertical-align: middle;\n",
       "    }\n",
       "\n",
       "    .dataframe tbody tr th {\n",
       "        vertical-align: top;\n",
       "    }\n",
       "\n",
       "    .dataframe thead th {\n",
       "        text-align: right;\n",
       "    }\n",
       "</style>\n",
       "<table border=\"1\" class=\"dataframe\">\n",
       "  <thead>\n",
       "    <tr style=\"text-align: right;\">\n",
       "      <th></th>\n",
       "      <th>id_polygon</th>\n",
       "      <th>poly_name</th>\n",
       "      <th>poly_description</th>\n",
       "      <th>id_creator</th>\n",
       "    </tr>\n",
       "  </thead>\n",
       "  <tbody>\n",
       "    <tr>\n",
       "      <th>0</th>\n",
       "      <td>1</td>\n",
       "      <td>Q_Hoche</td>\n",
       "      <td>Quartier Hoche</td>\n",
       "      <td>5</td>\n",
       "    </tr>\n",
       "    <tr>\n",
       "      <th>1</th>\n",
       "      <td>2</td>\n",
       "      <td>Q_PPM</td>\n",
       "      <td>Parc Paul Mistral</td>\n",
       "      <td>3</td>\n",
       "    </tr>\n",
       "  </tbody>\n",
       "</table>\n",
       "</div>"
      ],
      "text/plain": [
       "   id_polygon poly_name   poly_description  id_creator\n",
       "0           1   Q_Hoche     Quartier Hoche           5\n",
       "1           2     Q_PPM  Parc Paul Mistral           3"
      ]
     },
     "execution_count": 63,
     "metadata": {},
     "output_type": "execute_result"
    }
   ],
   "source": [
    "df_from_sql(\"SELECT * FROM polygon\")"
   ]
  }
 ],
 "metadata": {
  "kernelspec": {
   "display_name": "base",
   "language": "python",
   "name": "python3"
  },
  "language_info": {
   "codemirror_mode": {
    "name": "ipython",
    "version": 3
   },
   "file_extension": ".py",
   "mimetype": "text/x-python",
   "name": "python",
   "nbconvert_exporter": "python",
   "pygments_lexer": "ipython3",
   "version": "3.12.2"
  }
 },
 "nbformat": 4,
 "nbformat_minor": 5
}
