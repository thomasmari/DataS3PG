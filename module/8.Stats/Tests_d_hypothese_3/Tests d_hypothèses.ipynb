{
 "cells": [
  {
   "cell_type": "markdown",
   "metadata": {},
   "source": [
    "Temps estimés :\n",
    "- Parties 2/3 lois et théorèmes : 1/2 journée\n",
    "- 4.2.1 > 4.2.3 : 1 journée\n",
    "- 4.2.4 : 1/2 journée\n",
    "- 5 enquête bonheur : 1/2 journée"
   ]
  },
  {
   "cell_type": "markdown",
   "metadata": {},
   "source": [
    "Signification des émoticones :\n",
    "- 🌞 : documentations importantes\n",
    "- 🌚 : en complément\n",
    "- (vide) : à vous de voir"
   ]
  },
  {
   "cell_type": "markdown",
   "metadata": {
    "heading_collapsed": true
   },
   "source": [
    "# Import des librairies"
   ]
  },
  {
   "cell_type": "code",
   "execution_count": 274,
   "metadata": {
    "hidden": true
   },
   "outputs": [],
   "source": [
    "# manipulation de dataframes\n",
    "import pandas as pd "
   ]
  },
  {
   "cell_type": "markdown",
   "metadata": {
    "hidden": true
   },
   "source": [
    "🌞 https://pandas.pydata.org/Pandas_Cheat_Sheet.pdf"
   ]
  },
  {
   "cell_type": "code",
   "execution_count": 275,
   "metadata": {
    "hidden": true
   },
   "outputs": [],
   "source": [
    "# réalisation des graphiques\n",
    "import matplotlib.pyplot as plt"
   ]
  },
  {
   "cell_type": "code",
   "execution_count": 276,
   "metadata": {
    "hidden": true
   },
   "outputs": [],
   "source": [
    "# réalisation des graphiques\n",
    "import seaborn as sns"
   ]
  },
  {
   "cell_type": "code",
   "execution_count": 277,
   "metadata": {
    "hidden": true
   },
   "outputs": [],
   "source": [
    "# tests d'hypothèses\n",
    "import scipy.stats as stats\n",
    "from statsmodels.stats.proportion import proportions_ztest"
   ]
  },
  {
   "cell_type": "code",
   "execution_count": 278,
   "metadata": {
    "hidden": true
   },
   "outputs": [],
   "source": [
    "# calculs scientifiques\n",
    "import numpy as np"
   ]
  },
  {
   "cell_type": "code",
   "execution_count": 279,
   "metadata": {
    "hidden": true
   },
   "outputs": [],
   "source": [
    "# fonction de répartition empirique\n",
    "from statsmodels.distributions.empirical_distribution import ECDF"
   ]
  },
  {
   "cell_type": "markdown",
   "metadata": {
    "heading_collapsed": true
   },
   "source": [
    "# Quelques lois intéressantes à connaitre en statistiques"
   ]
  },
  {
   "cell_type": "markdown",
   "metadata": {
    "hidden": true
   },
   "source": [
    "Nous notons ici différentes lois intéressantes en statistiques. L'idée ici n'est pas de les connaitre toutes dans un premier temps, mais de savoir qu'elles existent. L'intérêt des lois pour nous aujourd'hui est de pouvoir comparer la distribution de nos variables à ces lois."
   ]
  },
  {
   "cell_type": "markdown",
   "metadata": {
    "heading_collapsed": true,
    "hidden": true
   },
   "source": [
    "## Modèles discrets"
   ]
  },
  {
   "cell_type": "markdown",
   "metadata": {
    "hidden": true
   },
   "source": [
    "Les variables aléatoires <b/>discrètes</b> prennent <b/>un nombre fini ou dénombrable</b> de valeurs distinctes.</br>\n",
    "</br>\n",
    "\n",
    "- Loi Uniforme : https://fr.wikipedia.org/wiki/Loi_uniforme_discr%C3%A8te</br>\n",
    "La probabilité que la variable aléatoire X prenne chacune des valeurs de son support est identique, autrement dit, il y a équiprobabilité.</br>\n",
    "</br>\n",
    "\n",
    "- Loi de Bernouilli : https://fr.wikipedia.org/wiki/Loi_de_Bernoulli</br>\n",
    "On considère une épreuve aléatoire à deux issues. L'une est considérée comme le succès, l'autre comme l'échec. C'est ce que l'on appelle une épreuve de Bernoulli.</br>\n",
    "Par exemple, on lance un dé. On obtient 6, c'est le succès. On n'obtient pas 6, c'est l'échec.</br>\n",
    "</br>\n",
    "\n",
    "- Loi Binomiale : https://fr.wikipedia.org/wiki/Loi_binomiale</br>\n",
    "On considère à nouveau une épreuve de Bernoulli : épreuve aléatoire à deux issues. L'une est considérée comme le succès, l'autre comme l'échec. Cette fois, on répète cette épreuve de manière identique et indépendante pour obtenir ce que l'on appelle un schéma de Bernoulli. </br>\n",
    "Exemple : on reprend le lancer de dé. On lance ce dé un certain nombre de fois. Disons n fois, n étant un entier naturel non nul. On désigne par X la VAD qui compte le nombre de succès, c'est-à-dire le nombre de fois où on a obtenu un 6."
   ]
  },
  {
   "cell_type": "markdown",
   "metadata": {
    "hidden": true
   },
   "source": [
    "🌚 https://openclassrooms.com/fr/courses/4525296-maitrisez-les-bases-des-probabilites/5327541-apprenez-a-utiliser-quelques-lois-usuelles-discretes"
   ]
  },
  {
   "cell_type": "markdown",
   "metadata": {
    "heading_collapsed": true,
    "hidden": true
   },
   "source": [
    "## Modèles continus"
   ]
  },
  {
   "cell_type": "markdown",
   "metadata": {
    "hidden": true
   },
   "source": [
    "Les variables aléatoires <b/>continues</b> peuvent prendre <b/>une infinité de valeurs</b> dans un intervalle donné.</br>\n",
    "\n",
    "- Loi Uniforme : https://fr.wikipedia.org/wiki/Loi_uniforme_continue</br>\n",
    "Toutes les valeurs possibles d'un intervalle donné ont la même probabilité de se produire.</br>\n",
    "\n",
    "- Loi Normale : https://fr.wikipedia.org/wiki/Loi_normale</br>\n",
    "C'est une loi symétrique en forme de cloche, où la majorité des valeurs se concentrent autour de la moyenne, avec une décroissance des probabilités à mesure que l'on s'éloigne de celle-ci.</br>\n",
    "\n",
    "- Loi de Student : https://fr.wikipedia.org/wiki/Loi_de_Student</br>\n",
    "Cette loi est utilisée pour estimer les moyennes de populations normalement distribuées lorsqu'on a un petit échantillon, caractérisée par des queues plus épaisses que celles de la loi normale.</br>\n",
    "\n",
    "- Loi du Chi-Deux : https://fr.wikipedia.org/wiki/Loi_du_%CF%87%C2%B2</br>\n",
    "On l'utilise pour tester l'adéquation entre des données observées et des données théoriques. Elle est souvent appliquée dans les tests d'indépendance et les tests d'ajustement."
   ]
  },
  {
   "cell_type": "markdown",
   "metadata": {
    "hidden": true
   },
   "source": [
    "🌚 https://openclassrooms.com/fr/courses/4525296-maitrisez-les-bases-des-probabilites/5437151-familiarisez-vous-avec-quelques-lois-usuelles-continues"
   ]
  },
  {
   "cell_type": "markdown",
   "metadata": {
    "heading_collapsed": true,
    "hidden": true
   },
   "source": [
    "## Focus sur la Loi Normale : la plus intéressante pour nous aujourd'hui"
   ]
  },
  {
   "cell_type": "markdown",
   "metadata": {
    "hidden": true
   },
   "source": [
    "Générons de manière aléatoire une variable température (de moyenne 15°C et d'écart-type 3°C par exemple) qui suivrait une loi Normale afin de se rendre compte de la forme qu'elle a :"
   ]
  },
  {
   "cell_type": "markdown",
   "metadata": {
    "hidden": true
   },
   "source": [
    "https://numpy.org/doc/stable/reference/random/generated/numpy.random.normal.html"
   ]
  },
  {
   "cell_type": "code",
   "execution_count": 280,
   "metadata": {
    "hidden": true
   },
   "outputs": [
    {
     "data": {
      "text/plain": [
       "14.924465004359158"
      ]
     },
     "execution_count": 280,
     "metadata": {},
     "output_type": "execute_result"
    }
   ],
   "source": [
    "import numpy as np\n",
    "# np.random.normal(loc=15,scale=3,size=1)\n",
    "np.random.normal(loc=15,scale=3,size=None) "
   ]
  },
  {
   "cell_type": "markdown",
   "metadata": {
    "hidden": true
   },
   "source": [
    "Que se passe-t-il si on joue avec la size ?\n",
    "\n",
    "size :  \n",
    "        \n",
    "        None -> return 1 float\n",
    "        \n",
    "        n:int -> return float list of size n\n",
    "\n",
    "        (e_1,...,e_n) : int tuple -> n-dimension array \n"
   ]
  },
  {
   "cell_type": "code",
   "execution_count": 281,
   "metadata": {
    "hidden": true
   },
   "outputs": [
    {
     "data": {
      "text/plain": [
       "array([15.13369972, 14.69128617, 17.51602394, 18.29915719, 15.91763988])"
      ]
     },
     "execution_count": 281,
     "metadata": {},
     "output_type": "execute_result"
    }
   ],
   "source": [
    "np.random.normal(loc=15,scale=3,size=5)"
   ]
  },
  {
   "cell_type": "code",
   "execution_count": 282,
   "metadata": {},
   "outputs": [
    {
     "data": {
      "text/plain": [
       "array([[[18.8888465 , 17.30214159, 17.74522843],\n",
       "        [13.94442811, 18.29525844, 17.80629929]]])"
      ]
     },
     "execution_count": 282,
     "metadata": {},
     "output_type": "execute_result"
    }
   ],
   "source": [
    "np.random.normal(loc=15,scale=3,size=(1,2,3))"
   ]
  },
  {
   "cell_type": "markdown",
   "metadata": {},
   "source": [
    "# Quelques théorèmes fondamentaux à connaitre en statistiques"
   ]
  },
  {
   "cell_type": "markdown",
   "metadata": {
    "heading_collapsed": true,
    "hidden": true
   },
   "source": [
    "## La loi des grands nombres"
   ]
  },
  {
   "cell_type": "markdown",
   "metadata": {
    "hidden": true
   },
   "source": [
    "Ressources :</br>\n",
    "- 🌞 https://www.youtube.com/watch?v=HRnYFpdR8WM\n",
    "- https://fr.wikipedia.org/wiki/Loi_des_grands_nombres\n",
    "- 🌚 https://openclassrooms.com/fr/courses/4525296-maitrisez-les-bases-des-probabilites/5422416-decouvrez-la-loi-faible-des-grands-nombres"
   ]
  },
  {
   "cell_type": "markdown",
   "metadata": {
    "hidden": true
   },
   "source": [
    "**En résumé** : elle signifie que la moyenne empirique (calculée sur les valeurs d’un échantillon), converge vers l’espérance (moyenne de la population globale réelle : extrapolation) lorsque la taille de l’échantillon tend vers l’infini."
   ]
  },
  {
   "cell_type": "markdown",
   "metadata": {
    "heading_collapsed": true,
    "hidden": true
   },
   "source": [
    "## Le Théorème Central Limite (TCL)"
   ]
  },
  {
   "cell_type": "markdown",
   "metadata": {
    "hidden": true
   },
   "source": [
    "Ressources :</br>\n",
    "- 🌞 https://www.youtube.com/watch?v=4dhm2QAA2x4\n",
    "- 🌞 https://www.youtube.com/watch?v=YAlJCEDH2uY\n",
    "- https://fr.wikipedia.org/wiki/Th%C3%A9or%C3%A8me_central_limite\n",
    "- 🌚 https://openclassrooms.com/fr/courses/4525296-maitrisez-les-bases-des-probabilites/5422586-utilisez-le-theoreme-central-limite\n",
    "- 🌚 Afin de bien saisir la notion, vous pouvez jouer avec ce simulateur : https://im2ag-shiny.univ-grenoble-alpes.fr/fcorset/TCL/\n",
    "- 🌚 Un autre petit jeu à explorer pour comprendre : https://probastat.dyndoc.fr/statinf/aep"
   ]
  },
  {
   "cell_type": "markdown",
   "metadata": {
    "hidden": true
   },
   "source": [
    "**En résumé** : il établit la convergence en loi de la somme d'une suite de variables aléatoires vers la loi normale."
   ]
  },
  {
   "cell_type": "markdown",
   "metadata": {
    "heading_collapsed": true
   },
   "source": [
    "# Sujet 1 : Les passagers du Titanic"
   ]
  },
  {
   "cell_type": "markdown",
   "metadata": {
    "hidden": true
   },
   "source": [
    "🌞 Source : https://www.kaggle.com/datasets/vinicius150987/titanic3"
   ]
  },
  {
   "cell_type": "markdown",
   "metadata": {
    "heading_collapsed": true,
    "hidden": true
   },
   "source": [
    "## A quoi ressemblent nos données ?"
   ]
  },
  {
   "cell_type": "markdown",
   "metadata": {
    "hidden": true
   },
   "source": [
    "### Importons le jeu de données"
   ]
  },
  {
   "cell_type": "code",
   "execution_count": 283,
   "metadata": {
    "hidden": true
   },
   "outputs": [],
   "source": [
    "df_titanic = pd.read_csv(\"data/titanic_complet.csv\",sep=';')"
   ]
  },
  {
   "cell_type": "markdown",
   "metadata": {
    "hidden": true
   },
   "source": [
    "### Combien y a-t-il de personnes sur le paquebot ?"
   ]
  },
  {
   "cell_type": "code",
   "execution_count": 284,
   "metadata": {
    "hidden": true
   },
   "outputs": [
    {
     "data": {
      "text/plain": [
       "1310"
      ]
     },
     "execution_count": 284,
     "metadata": {},
     "output_type": "execute_result"
    }
   ],
   "source": [
    "n = df_titanic.index.size\n",
    "n"
   ]
  },
  {
   "cell_type": "markdown",
   "metadata": {
    "hidden": true
   },
   "source": [
    "### Combien d'informations a-t-on sur ces personnes ?"
   ]
  },
  {
   "cell_type": "code",
   "execution_count": 285,
   "metadata": {
    "hidden": true
   },
   "outputs": [
    {
     "data": {
      "text/html": [
       "<div>\n",
       "<style scoped>\n",
       "    .dataframe tbody tr th:only-of-type {\n",
       "        vertical-align: middle;\n",
       "    }\n",
       "\n",
       "    .dataframe tbody tr th {\n",
       "        vertical-align: top;\n",
       "    }\n",
       "\n",
       "    .dataframe thead th {\n",
       "        text-align: right;\n",
       "    }\n",
       "</style>\n",
       "<table border=\"1\" class=\"dataframe\">\n",
       "  <thead>\n",
       "    <tr style=\"text-align: right;\">\n",
       "      <th></th>\n",
       "      <th>% not nan</th>\n",
       "    </tr>\n",
       "  </thead>\n",
       "  <tbody>\n",
       "    <tr>\n",
       "      <th>pclass</th>\n",
       "      <td>99.923664</td>\n",
       "    </tr>\n",
       "    <tr>\n",
       "      <th>survived</th>\n",
       "      <td>99.923664</td>\n",
       "    </tr>\n",
       "    <tr>\n",
       "      <th>name</th>\n",
       "      <td>99.923664</td>\n",
       "    </tr>\n",
       "    <tr>\n",
       "      <th>sex</th>\n",
       "      <td>99.923664</td>\n",
       "    </tr>\n",
       "    <tr>\n",
       "      <th>age</th>\n",
       "      <td>79.847328</td>\n",
       "    </tr>\n",
       "    <tr>\n",
       "      <th>sibsp</th>\n",
       "      <td>99.923664</td>\n",
       "    </tr>\n",
       "    <tr>\n",
       "      <th>parch</th>\n",
       "      <td>99.923664</td>\n",
       "    </tr>\n",
       "    <tr>\n",
       "      <th>ticket</th>\n",
       "      <td>99.923664</td>\n",
       "    </tr>\n",
       "    <tr>\n",
       "      <th>fare</th>\n",
       "      <td>99.847328</td>\n",
       "    </tr>\n",
       "    <tr>\n",
       "      <th>cabin</th>\n",
       "      <td>22.519084</td>\n",
       "    </tr>\n",
       "    <tr>\n",
       "      <th>embarked</th>\n",
       "      <td>99.770992</td>\n",
       "    </tr>\n",
       "    <tr>\n",
       "      <th>boat</th>\n",
       "      <td>37.099237</td>\n",
       "    </tr>\n",
       "    <tr>\n",
       "      <th>body</th>\n",
       "      <td>9.236641</td>\n",
       "    </tr>\n",
       "    <tr>\n",
       "      <th>home.dest</th>\n",
       "      <td>56.870229</td>\n",
       "    </tr>\n",
       "  </tbody>\n",
       "</table>\n",
       "</div>"
      ],
      "text/plain": [
       "           % not nan\n",
       "pclass     99.923664\n",
       "survived   99.923664\n",
       "name       99.923664\n",
       "sex        99.923664\n",
       "age        79.847328\n",
       "sibsp      99.923664\n",
       "parch      99.923664\n",
       "ticket     99.923664\n",
       "fare       99.847328\n",
       "cabin      22.519084\n",
       "embarked   99.770992\n",
       "boat       37.099237\n",
       "body        9.236641\n",
       "home.dest  56.870229"
      ]
     },
     "execution_count": 285,
     "metadata": {},
     "output_type": "execute_result"
    }
   ],
   "source": [
    "pd.DataFrame((n-df_titanic.isna().sum(axis=0))*100/n, columns=['% not nan'])"
   ]
  },
  {
   "cell_type": "markdown",
   "metadata": {
    "hidden": true
   },
   "source": [
    "### Regardons les premières lignes de nos données afin de se faire une idée"
   ]
  },
  {
   "cell_type": "code",
   "execution_count": 286,
   "metadata": {
    "hidden": true
   },
   "outputs": [
    {
     "data": {
      "text/html": [
       "<div>\n",
       "<style scoped>\n",
       "    .dataframe tbody tr th:only-of-type {\n",
       "        vertical-align: middle;\n",
       "    }\n",
       "\n",
       "    .dataframe tbody tr th {\n",
       "        vertical-align: top;\n",
       "    }\n",
       "\n",
       "    .dataframe thead th {\n",
       "        text-align: right;\n",
       "    }\n",
       "</style>\n",
       "<table border=\"1\" class=\"dataframe\">\n",
       "  <thead>\n",
       "    <tr style=\"text-align: right;\">\n",
       "      <th></th>\n",
       "      <th>pclass</th>\n",
       "      <th>survived</th>\n",
       "      <th>name</th>\n",
       "      <th>sex</th>\n",
       "      <th>age</th>\n",
       "      <th>sibsp</th>\n",
       "      <th>parch</th>\n",
       "      <th>ticket</th>\n",
       "      <th>fare</th>\n",
       "      <th>cabin</th>\n",
       "      <th>embarked</th>\n",
       "      <th>boat</th>\n",
       "      <th>body</th>\n",
       "      <th>home.dest</th>\n",
       "    </tr>\n",
       "  </thead>\n",
       "  <tbody>\n",
       "    <tr>\n",
       "      <th>0</th>\n",
       "      <td>1.0</td>\n",
       "      <td>1.0</td>\n",
       "      <td>Allen, Miss. Elisabeth Walton</td>\n",
       "      <td>female</td>\n",
       "      <td>29</td>\n",
       "      <td>0.0</td>\n",
       "      <td>0.0</td>\n",
       "      <td>24160</td>\n",
       "      <td>211,3375</td>\n",
       "      <td>B5</td>\n",
       "      <td>S</td>\n",
       "      <td>2</td>\n",
       "      <td>NaN</td>\n",
       "      <td>St Louis, MO</td>\n",
       "    </tr>\n",
       "    <tr>\n",
       "      <th>1</th>\n",
       "      <td>1.0</td>\n",
       "      <td>1.0</td>\n",
       "      <td>Allison, Master. Hudson Trevor</td>\n",
       "      <td>male</td>\n",
       "      <td>0,9167</td>\n",
       "      <td>1.0</td>\n",
       "      <td>2.0</td>\n",
       "      <td>113781</td>\n",
       "      <td>151,5500</td>\n",
       "      <td>C22 C26</td>\n",
       "      <td>S</td>\n",
       "      <td>11</td>\n",
       "      <td>NaN</td>\n",
       "      <td>Montreal, PQ / Chesterville, ON</td>\n",
       "    </tr>\n",
       "    <tr>\n",
       "      <th>2</th>\n",
       "      <td>1.0</td>\n",
       "      <td>0.0</td>\n",
       "      <td>Allison, Miss. Helen Loraine</td>\n",
       "      <td>female</td>\n",
       "      <td>2</td>\n",
       "      <td>1.0</td>\n",
       "      <td>2.0</td>\n",
       "      <td>113781</td>\n",
       "      <td>151,5500</td>\n",
       "      <td>C22 C26</td>\n",
       "      <td>S</td>\n",
       "      <td>NaN</td>\n",
       "      <td>NaN</td>\n",
       "      <td>Montreal, PQ / Chesterville, ON</td>\n",
       "    </tr>\n",
       "  </tbody>\n",
       "</table>\n",
       "</div>"
      ],
      "text/plain": [
       "   pclass  survived                            name     sex     age  sibsp  \\\n",
       "0     1.0       1.0   Allen, Miss. Elisabeth Walton  female      29    0.0   \n",
       "1     1.0       1.0  Allison, Master. Hudson Trevor    male  0,9167    1.0   \n",
       "2     1.0       0.0    Allison, Miss. Helen Loraine  female       2    1.0   \n",
       "\n",
       "   parch  ticket      fare    cabin embarked boat  body  \\\n",
       "0    0.0   24160  211,3375       B5        S    2   NaN   \n",
       "1    2.0  113781  151,5500  C22 C26        S   11   NaN   \n",
       "2    2.0  113781  151,5500  C22 C26        S  NaN   NaN   \n",
       "\n",
       "                         home.dest  \n",
       "0                     St Louis, MO  \n",
       "1  Montreal, PQ / Chesterville, ON  \n",
       "2  Montreal, PQ / Chesterville, ON  "
      ]
     },
     "execution_count": 286,
     "metadata": {},
     "output_type": "execute_result"
    }
   ],
   "source": [
    "df_titanic.head(3)"
   ]
  },
  {
   "cell_type": "markdown",
   "metadata": {
    "hidden": true
   },
   "source": [
    "### Réalisons un résumé statistique afin d'avoir une idée des chiffres globaux\n",
    "\n",
    "Let us orguaninize a bit the data with a single type per column"
   ]
  },
  {
   "cell_type": "code",
   "execution_count": 287,
   "metadata": {},
   "outputs": [
    {
     "data": {
      "text/plain": [
       "pclass       float64\n",
       "survived     float64\n",
       "name          object\n",
       "sex           object\n",
       "age           object\n",
       "sibsp        float64\n",
       "parch        float64\n",
       "ticket        object\n",
       "fare          object\n",
       "cabin         object\n",
       "embarked      object\n",
       "boat          object\n",
       "body         float64\n",
       "home.dest     object\n",
       "dtype: object"
      ]
     },
     "execution_count": 287,
     "metadata": {},
     "output_type": "execute_result"
    }
   ],
   "source": [
    "df_titanic.dtypes"
   ]
  },
  {
   "cell_type": "code",
   "execution_count": 288,
   "metadata": {},
   "outputs": [],
   "source": [
    "def to_real_number(x):\n",
    "    try :\n",
    "        return(float(x))\n",
    "    except ValueError:\n",
    "        return(float(x.replace(',','.')))\n",
    "df = df_titanic\n",
    "df_titanic['age'].apply(to_real_number).size\n",
    "df['age'] = df_titanic['age'].apply(to_real_number)"
   ]
  },
  {
   "cell_type": "code",
   "execution_count": 289,
   "metadata": {},
   "outputs": [
    {
     "data": {
      "text/html": [
       "<div>\n",
       "<style scoped>\n",
       "    .dataframe tbody tr th:only-of-type {\n",
       "        vertical-align: middle;\n",
       "    }\n",
       "\n",
       "    .dataframe tbody tr th {\n",
       "        vertical-align: top;\n",
       "    }\n",
       "\n",
       "    .dataframe thead th {\n",
       "        text-align: right;\n",
       "    }\n",
       "</style>\n",
       "<table border=\"1\" class=\"dataframe\">\n",
       "  <thead>\n",
       "    <tr style=\"text-align: right;\">\n",
       "      <th></th>\n",
       "      <th>pclass</th>\n",
       "      <th>survived</th>\n",
       "      <th>age</th>\n",
       "      <th>sibsp</th>\n",
       "      <th>parch</th>\n",
       "      <th>body</th>\n",
       "    </tr>\n",
       "  </thead>\n",
       "  <tbody>\n",
       "    <tr>\n",
       "      <th>count</th>\n",
       "      <td>1309.000000</td>\n",
       "      <td>1309.000000</td>\n",
       "      <td>1046.000000</td>\n",
       "      <td>1309.000000</td>\n",
       "      <td>1309.000000</td>\n",
       "      <td>121.000000</td>\n",
       "    </tr>\n",
       "    <tr>\n",
       "      <th>mean</th>\n",
       "      <td>2.294882</td>\n",
       "      <td>0.381971</td>\n",
       "      <td>29.881135</td>\n",
       "      <td>0.498854</td>\n",
       "      <td>0.385027</td>\n",
       "      <td>160.809917</td>\n",
       "    </tr>\n",
       "    <tr>\n",
       "      <th>std</th>\n",
       "      <td>0.837836</td>\n",
       "      <td>0.486055</td>\n",
       "      <td>14.413500</td>\n",
       "      <td>1.041658</td>\n",
       "      <td>0.865560</td>\n",
       "      <td>97.696922</td>\n",
       "    </tr>\n",
       "    <tr>\n",
       "      <th>min</th>\n",
       "      <td>1.000000</td>\n",
       "      <td>0.000000</td>\n",
       "      <td>0.166700</td>\n",
       "      <td>0.000000</td>\n",
       "      <td>0.000000</td>\n",
       "      <td>1.000000</td>\n",
       "    </tr>\n",
       "    <tr>\n",
       "      <th>25%</th>\n",
       "      <td>2.000000</td>\n",
       "      <td>0.000000</td>\n",
       "      <td>21.000000</td>\n",
       "      <td>0.000000</td>\n",
       "      <td>0.000000</td>\n",
       "      <td>72.000000</td>\n",
       "    </tr>\n",
       "    <tr>\n",
       "      <th>50%</th>\n",
       "      <td>3.000000</td>\n",
       "      <td>0.000000</td>\n",
       "      <td>28.000000</td>\n",
       "      <td>0.000000</td>\n",
       "      <td>0.000000</td>\n",
       "      <td>155.000000</td>\n",
       "    </tr>\n",
       "    <tr>\n",
       "      <th>75%</th>\n",
       "      <td>3.000000</td>\n",
       "      <td>1.000000</td>\n",
       "      <td>39.000000</td>\n",
       "      <td>1.000000</td>\n",
       "      <td>0.000000</td>\n",
       "      <td>256.000000</td>\n",
       "    </tr>\n",
       "    <tr>\n",
       "      <th>max</th>\n",
       "      <td>3.000000</td>\n",
       "      <td>1.000000</td>\n",
       "      <td>80.000000</td>\n",
       "      <td>8.000000</td>\n",
       "      <td>9.000000</td>\n",
       "      <td>328.000000</td>\n",
       "    </tr>\n",
       "  </tbody>\n",
       "</table>\n",
       "</div>"
      ],
      "text/plain": [
       "            pclass     survived          age        sibsp        parch  \\\n",
       "count  1309.000000  1309.000000  1046.000000  1309.000000  1309.000000   \n",
       "mean      2.294882     0.381971    29.881135     0.498854     0.385027   \n",
       "std       0.837836     0.486055    14.413500     1.041658     0.865560   \n",
       "min       1.000000     0.000000     0.166700     0.000000     0.000000   \n",
       "25%       2.000000     0.000000    21.000000     0.000000     0.000000   \n",
       "50%       3.000000     0.000000    28.000000     0.000000     0.000000   \n",
       "75%       3.000000     1.000000    39.000000     1.000000     0.000000   \n",
       "max       3.000000     1.000000    80.000000     8.000000     9.000000   \n",
       "\n",
       "             body  \n",
       "count  121.000000  \n",
       "mean   160.809917  \n",
       "std     97.696922  \n",
       "min      1.000000  \n",
       "25%     72.000000  \n",
       "50%    155.000000  \n",
       "75%    256.000000  \n",
       "max    328.000000  "
      ]
     },
     "execution_count": 289,
     "metadata": {},
     "output_type": "execute_result"
    }
   ],
   "source": [
    "df.describe()"
   ]
  },
  {
   "cell_type": "markdown",
   "metadata": {
    "heading_collapsed": true,
    "hidden": true
   },
   "source": [
    "## Analyse univariée : quelles informations pourraient être intéressantes à regarder par variable ?"
   ]
  },
  {
   "cell_type": "markdown",
   "metadata": {
    "heading_collapsed": true,
    "hidden": true
   },
   "source": [
    "### Regardons les variables qualitatives"
   ]
  },
  {
   "cell_type": "markdown",
   "metadata": {
    "hidden": true
   },
   "source": [
    "#### Quelles sont les variables qualitatives ?"
   ]
  },
  {
   "cell_type": "code",
   "execution_count": 290,
   "metadata": {
    "hidden": true
   },
   "outputs": [
    {
     "data": {
      "text/html": [
       "<div>\n",
       "<style scoped>\n",
       "    .dataframe tbody tr th:only-of-type {\n",
       "        vertical-align: middle;\n",
       "    }\n",
       "\n",
       "    .dataframe tbody tr th {\n",
       "        vertical-align: top;\n",
       "    }\n",
       "\n",
       "    .dataframe thead th {\n",
       "        text-align: right;\n",
       "    }\n",
       "</style>\n",
       "<table border=\"1\" class=\"dataframe\">\n",
       "  <thead>\n",
       "    <tr style=\"text-align: right;\">\n",
       "      <th></th>\n",
       "      <th>name</th>\n",
       "      <th>sex</th>\n",
       "      <th>cabin</th>\n",
       "      <th>home.dest</th>\n",
       "    </tr>\n",
       "  </thead>\n",
       "  <tbody>\n",
       "    <tr>\n",
       "      <th>0</th>\n",
       "      <td>Allen, Miss. Elisabeth Walton</td>\n",
       "      <td>female</td>\n",
       "      <td>B5</td>\n",
       "      <td>St Louis, MO</td>\n",
       "    </tr>\n",
       "    <tr>\n",
       "      <th>1</th>\n",
       "      <td>Allison, Master. Hudson Trevor</td>\n",
       "      <td>male</td>\n",
       "      <td>C22 C26</td>\n",
       "      <td>Montreal, PQ / Chesterville, ON</td>\n",
       "    </tr>\n",
       "    <tr>\n",
       "      <th>2</th>\n",
       "      <td>Allison, Miss. Helen Loraine</td>\n",
       "      <td>female</td>\n",
       "      <td>C22 C26</td>\n",
       "      <td>Montreal, PQ / Chesterville, ON</td>\n",
       "    </tr>\n",
       "    <tr>\n",
       "      <th>3</th>\n",
       "      <td>Allison, Mr. Hudson Joshua Creighton</td>\n",
       "      <td>male</td>\n",
       "      <td>C22 C26</td>\n",
       "      <td>Montreal, PQ / Chesterville, ON</td>\n",
       "    </tr>\n",
       "    <tr>\n",
       "      <th>4</th>\n",
       "      <td>Allison, Mrs. Hudson J C (Bessie Waldo Daniels)</td>\n",
       "      <td>female</td>\n",
       "      <td>C22 C26</td>\n",
       "      <td>Montreal, PQ / Chesterville, ON</td>\n",
       "    </tr>\n",
       "    <tr>\n",
       "      <th>...</th>\n",
       "      <td>...</td>\n",
       "      <td>...</td>\n",
       "      <td>...</td>\n",
       "      <td>...</td>\n",
       "    </tr>\n",
       "    <tr>\n",
       "      <th>1305</th>\n",
       "      <td>Zabour, Miss. Thamine</td>\n",
       "      <td>female</td>\n",
       "      <td>NaN</td>\n",
       "      <td>NaN</td>\n",
       "    </tr>\n",
       "    <tr>\n",
       "      <th>1306</th>\n",
       "      <td>Zakarian, Mr. Mapriededer</td>\n",
       "      <td>male</td>\n",
       "      <td>NaN</td>\n",
       "      <td>NaN</td>\n",
       "    </tr>\n",
       "    <tr>\n",
       "      <th>1307</th>\n",
       "      <td>Zakarian, Mr. Ortin</td>\n",
       "      <td>male</td>\n",
       "      <td>NaN</td>\n",
       "      <td>NaN</td>\n",
       "    </tr>\n",
       "    <tr>\n",
       "      <th>1308</th>\n",
       "      <td>Zimmerman, Mr. Leo</td>\n",
       "      <td>male</td>\n",
       "      <td>NaN</td>\n",
       "      <td>NaN</td>\n",
       "    </tr>\n",
       "    <tr>\n",
       "      <th>1309</th>\n",
       "      <td>NaN</td>\n",
       "      <td>NaN</td>\n",
       "      <td>NaN</td>\n",
       "      <td>NaN</td>\n",
       "    </tr>\n",
       "  </tbody>\n",
       "</table>\n",
       "<p>1310 rows × 4 columns</p>\n",
       "</div>"
      ],
      "text/plain": [
       "                                                 name     sex    cabin  \\\n",
       "0                       Allen, Miss. Elisabeth Walton  female       B5   \n",
       "1                      Allison, Master. Hudson Trevor    male  C22 C26   \n",
       "2                        Allison, Miss. Helen Loraine  female  C22 C26   \n",
       "3                Allison, Mr. Hudson Joshua Creighton    male  C22 C26   \n",
       "4     Allison, Mrs. Hudson J C (Bessie Waldo Daniels)  female  C22 C26   \n",
       "...                                               ...     ...      ...   \n",
       "1305                            Zabour, Miss. Thamine  female      NaN   \n",
       "1306                        Zakarian, Mr. Mapriededer    male      NaN   \n",
       "1307                              Zakarian, Mr. Ortin    male      NaN   \n",
       "1308                               Zimmerman, Mr. Leo    male      NaN   \n",
       "1309                                              NaN     NaN      NaN   \n",
       "\n",
       "                            home.dest  \n",
       "0                        St Louis, MO  \n",
       "1     Montreal, PQ / Chesterville, ON  \n",
       "2     Montreal, PQ / Chesterville, ON  \n",
       "3     Montreal, PQ / Chesterville, ON  \n",
       "4     Montreal, PQ / Chesterville, ON  \n",
       "...                               ...  \n",
       "1305                              NaN  \n",
       "1306                              NaN  \n",
       "1307                              NaN  \n",
       "1308                              NaN  \n",
       "1309                              NaN  \n",
       "\n",
       "[1310 rows x 4 columns]"
      ]
     },
     "execution_count": 290,
     "metadata": {},
     "output_type": "execute_result"
    }
   ],
   "source": [
    "df[['name','sex','cabin','home.dest']]"
   ]
  },
  {
   "cell_type": "markdown",
   "metadata": {
    "hidden": true
   },
   "source": [
    "#### Quelle est la part d'hommes et de femmes ?"
   ]
  },
  {
   "cell_type": "code",
   "execution_count": 291,
   "metadata": {
    "hidden": true
   },
   "outputs": [
    {
     "data": {
      "text/html": [
       "<div>\n",
       "<style scoped>\n",
       "    .dataframe tbody tr th:only-of-type {\n",
       "        vertical-align: middle;\n",
       "    }\n",
       "\n",
       "    .dataframe tbody tr th {\n",
       "        vertical-align: top;\n",
       "    }\n",
       "\n",
       "    .dataframe thead th {\n",
       "        text-align: right;\n",
       "    }\n",
       "</style>\n",
       "<table border=\"1\" class=\"dataframe\">\n",
       "  <thead>\n",
       "    <tr style=\"text-align: right;\">\n",
       "      <th></th>\n",
       "      <th>POP</th>\n",
       "      <th>%</th>\n",
       "    </tr>\n",
       "    <tr>\n",
       "      <th>sex</th>\n",
       "      <th></th>\n",
       "      <th></th>\n",
       "    </tr>\n",
       "  </thead>\n",
       "  <tbody>\n",
       "    <tr>\n",
       "      <th>male</th>\n",
       "      <td>843</td>\n",
       "      <td>64.351145</td>\n",
       "    </tr>\n",
       "    <tr>\n",
       "      <th>female</th>\n",
       "      <td>466</td>\n",
       "      <td>35.572519</td>\n",
       "    </tr>\n",
       "  </tbody>\n",
       "</table>\n",
       "</div>"
      ],
      "text/plain": [
       "        POP          %\n",
       "sex                   \n",
       "male    843  64.351145\n",
       "female  466  35.572519"
      ]
     },
     "execution_count": 291,
     "metadata": {},
     "output_type": "execute_result"
    }
   ],
   "source": [
    "part_homme_femme = pd.DataFrame(columns=['POP','%'])\n",
    "part_homme_femme['POP'] = df['sex'].value_counts()\n",
    "part_homme_femme['%'] = df['sex'].value_counts()/n*100\n",
    "part_homme_femme"
   ]
  },
  {
   "cell_type": "markdown",
   "metadata": {
    "hidden": true
   },
   "source": [
    "Réalisons la table de contingence des fréquences :"
   ]
  },
  {
   "cell_type": "markdown",
   "metadata": {
    "hidden": true
   },
   "source": [
    "https://fr.wikipedia.org/wiki/Fr%C3%A9quence_(statistiques)"
   ]
  },
  {
   "cell_type": "code",
   "execution_count": 292,
   "metadata": {
    "hidden": true
   },
   "outputs": [
    {
     "data": {
      "text/html": [
       "<div>\n",
       "<style scoped>\n",
       "    .dataframe tbody tr th:only-of-type {\n",
       "        vertical-align: middle;\n",
       "    }\n",
       "\n",
       "    .dataframe tbody tr th {\n",
       "        vertical-align: top;\n",
       "    }\n",
       "\n",
       "    .dataframe thead th {\n",
       "        text-align: right;\n",
       "    }\n",
       "</style>\n",
       "<table border=\"1\" class=\"dataframe\">\n",
       "  <thead>\n",
       "    <tr style=\"text-align: right;\">\n",
       "      <th>sex</th>\n",
       "      <th>female</th>\n",
       "      <th>male</th>\n",
       "    </tr>\n",
       "    <tr>\n",
       "      <th>survived</th>\n",
       "      <th></th>\n",
       "      <th></th>\n",
       "    </tr>\n",
       "  </thead>\n",
       "  <tbody>\n",
       "    <tr>\n",
       "      <th>0.0</th>\n",
       "      <td>127</td>\n",
       "      <td>682</td>\n",
       "    </tr>\n",
       "    <tr>\n",
       "      <th>1.0</th>\n",
       "      <td>339</td>\n",
       "      <td>161</td>\n",
       "    </tr>\n",
       "  </tbody>\n",
       "</table>\n",
       "</div>"
      ],
      "text/plain": [
       "sex       female  male\n",
       "survived              \n",
       "0.0          127   682\n",
       "1.0          339   161"
      ]
     },
     "metadata": {},
     "output_type": "display_data"
    },
    {
     "data": {
      "text/html": [
       "<div>\n",
       "<style scoped>\n",
       "    .dataframe tbody tr th:only-of-type {\n",
       "        vertical-align: middle;\n",
       "    }\n",
       "\n",
       "    .dataframe tbody tr th {\n",
       "        vertical-align: top;\n",
       "    }\n",
       "\n",
       "    .dataframe thead th {\n",
       "        text-align: right;\n",
       "    }\n",
       "</style>\n",
       "<table border=\"1\" class=\"dataframe\">\n",
       "  <thead>\n",
       "    <tr style=\"text-align: right;\">\n",
       "      <th>sex</th>\n",
       "      <th>female</th>\n",
       "      <th>male</th>\n",
       "    </tr>\n",
       "    <tr>\n",
       "      <th>survived</th>\n",
       "      <th></th>\n",
       "      <th></th>\n",
       "    </tr>\n",
       "  </thead>\n",
       "  <tbody>\n",
       "    <tr>\n",
       "      <th>0.0</th>\n",
       "      <td>27.253219</td>\n",
       "      <td>80.901542</td>\n",
       "    </tr>\n",
       "    <tr>\n",
       "      <th>1.0</th>\n",
       "      <td>72.746781</td>\n",
       "      <td>19.098458</td>\n",
       "    </tr>\n",
       "  </tbody>\n",
       "</table>\n",
       "</div>"
      ],
      "text/plain": [
       "sex          female       male\n",
       "survived                      \n",
       "0.0       27.253219  80.901542\n",
       "1.0       72.746781  19.098458"
      ]
     },
     "metadata": {},
     "output_type": "display_data"
    }
   ],
   "source": [
    "cont_sex_survived = pd.crosstab(df.survived,df.sex)\n",
    "display(cont_sex_survived)\n",
    "cont_sex_survived_per100 = cont_sex_survived / cont_sex_survived.sum(axis=0) *100\n",
    "display(cont_sex_survived_per100)"
   ]
  },
  {
   "cell_type": "markdown",
   "metadata": {
    "hidden": true
   },
   "source": [
    "#### Représentons ça sous forme de graphiques afin que ce soit plus visuel"
   ]
  },
  {
   "cell_type": "markdown",
   "metadata": {
    "hidden": true
   },
   "source": [
    "Diagramme en barres en effectifs :\n",
    "Diagramme en barres en proportion :"
   ]
  },
  {
   "cell_type": "code",
   "execution_count": 293,
   "metadata": {},
   "outputs": [
    {
     "data": {
      "image/png": "[encoded data removed]",
      "text/plain": [
       "<Figure size 1600x600 with 2 Axes>"
      ]
     },
     "metadata": {},
     "output_type": "display_data"
    }
   ],
   "source": [
    "plt.figure(figsize=(16,6))\n",
    "axes = [plt.subplot(1,2,1),plt.subplot(1,2,2)]\n",
    "cont_sex_survived.plot.bar(ax=axes[0],title='contigency sex survived by count',ylabel='count')\n",
    "cont_sex_survived_per100.plot.bar(ax=axes[1],title='contigency sex survived by proportion',ylabel='%')\n",
    "plt.tight_layout() # adjust title over lapping\n"
   ]
  },
  {
   "cell_type": "markdown",
   "metadata": {
    "hidden": true
   },
   "source": [
    "#### Continuez d'explorer ce qui vous semble intéressant !\n",
    "Is there a correlation between age and survival rate ?"
   ]
  },
  {
   "cell_type": "code",
   "execution_count": 294,
   "metadata": {},
   "outputs": [
    {
     "data": {
      "text/plain": [
       "<Axes: title={'center': 'contigency survived by rounded(age,10**-1) : rate\\ncorr=-0.056'}, xlabel='survived', ylabel='%'>"
      ]
     },
     "execution_count": 294,
     "metadata": {},
     "output_type": "execute_result"
    },
    {
     "data": {
      "image/png": "[encoded data removed]",
      "text/plain": [
       "<Figure size 1600x600 with 2 Axes>"
      ]
     },
     "metadata": {},
     "output_type": "display_data"
    }
   ],
   "source": [
    "#data\n",
    "df_age_round = df[['age','survived','sex']].copy()\n",
    "df_age_round['age rounded by 10'] = df[['age']].apply(lambda x : round(x,-1),axis=1)\n",
    "cont_age_surv_count = pd.crosstab(df_age_round['survived'],df_age_round['age rounded by 10'])\n",
    "cont_age_surv_rate = cont_age_surv_count / cont_age_surv_count.sum(axis=0) *100\n",
    "corr_age_surv = round(df[['age','survived']].corr(method='pearson').loc['age','survived'],3)\n",
    "#plotting\n",
    "plt.figure(figsize=(16,6))\n",
    "axes = [plt.subplot(1,2,1),plt.subplot(1,2,2)]\n",
    "cont_age_surv_count.plot.bar(ax=axes[0],title=f'contigency survived by rounded(age,10**-1) : count\\ncorr={corr_age_surv}',ylabel='count')\n",
    "cont_age_surv_rate.plot.bar(ax=axes[1],title=f'contigency survived by rounded(age,10**-1) : rate\\ncorr={corr_age_surv}',ylabel='%')\n"
   ]
  },
  {
   "cell_type": "code",
   "execution_count": null,
   "metadata": {},
   "outputs": [],
   "source": [
    "\n"
   ]
  },
  {
   "cell_type": "code",
   "execution_count": 295,
   "metadata": {
    "hidden": true
   },
   "outputs": [],
   "source": [
    "# import nbimporter1\n",
    "# import Gapminder_2/IntroGapminder as IntroGapminder\n",
    "# %run ../Gapminder_2/IntroGapminder.ipynb \n",
    "# IntroGapminder.correlation_Pearson([],[])"
   ]
  },
  {
   "cell_type": "markdown",
   "metadata": {
    "heading_collapsed": true,
    "hidden": true
   },
   "source": [
    "### Regardons les variables quantitatives"
   ]
  },
  {
   "cell_type": "markdown",
   "metadata": {
    "hidden": true
   },
   "source": [
    "#### Quelles sont les variables quantitatives ?"
   ]
  },
  {
   "cell_type": "code",
   "execution_count": 296,
   "metadata": {
    "hidden": true
   },
   "outputs": [
    {
     "data": {
      "text/plain": [
       "pclass      float64\n",
       "survived    float64\n",
       "age         float64\n",
       "sibsp       float64\n",
       "parch       float64\n",
       "body        float64\n",
       "dtype: object"
      ]
     },
     "execution_count": 296,
     "metadata": {},
     "output_type": "execute_result"
    }
   ],
   "source": [
    "# df.dtypes.loc['float64']\n",
    "df.dtypes.loc[lambda x : x=='float64']"
   ]
  },
  {
   "cell_type": "markdown",
   "metadata": {
    "hidden": true
   },
   "source": [
    "#### Comment est représenté l'âge des voyageurs ?"
   ]
  },
  {
   "cell_type": "markdown",
   "metadata": {
    "hidden": true
   },
   "source": [
    "Regardons le résumé statistiques :"
   ]
  },
  {
   "cell_type": "code",
   "execution_count": 297,
   "metadata": {
    "hidden": true
   },
   "outputs": [
    {
     "data": {
      "text/html": [
       "<div>\n",
       "<style scoped>\n",
       "    .dataframe tbody tr th:only-of-type {\n",
       "        vertical-align: middle;\n",
       "    }\n",
       "\n",
       "    .dataframe tbody tr th {\n",
       "        vertical-align: top;\n",
       "    }\n",
       "\n",
       "    .dataframe thead th {\n",
       "        text-align: right;\n",
       "    }\n",
       "</style>\n",
       "<table border=\"1\" class=\"dataframe\">\n",
       "  <thead>\n",
       "    <tr style=\"text-align: right;\">\n",
       "      <th></th>\n",
       "      <th>age</th>\n",
       "    </tr>\n",
       "  </thead>\n",
       "  <tbody>\n",
       "    <tr>\n",
       "      <th>count</th>\n",
       "      <td>1046.000000</td>\n",
       "    </tr>\n",
       "    <tr>\n",
       "      <th>mean</th>\n",
       "      <td>29.881135</td>\n",
       "    </tr>\n",
       "    <tr>\n",
       "      <th>std</th>\n",
       "      <td>14.413500</td>\n",
       "    </tr>\n",
       "    <tr>\n",
       "      <th>min</th>\n",
       "      <td>0.166700</td>\n",
       "    </tr>\n",
       "    <tr>\n",
       "      <th>25%</th>\n",
       "      <td>21.000000</td>\n",
       "    </tr>\n",
       "    <tr>\n",
       "      <th>50%</th>\n",
       "      <td>28.000000</td>\n",
       "    </tr>\n",
       "    <tr>\n",
       "      <th>75%</th>\n",
       "      <td>39.000000</td>\n",
       "    </tr>\n",
       "    <tr>\n",
       "      <th>max</th>\n",
       "      <td>80.000000</td>\n",
       "    </tr>\n",
       "  </tbody>\n",
       "</table>\n",
       "</div>"
      ],
      "text/plain": [
       "               age\n",
       "count  1046.000000\n",
       "mean     29.881135\n",
       "std      14.413500\n",
       "min       0.166700\n",
       "25%      21.000000\n",
       "50%      28.000000\n",
       "75%      39.000000\n",
       "max      80.000000"
      ]
     },
     "execution_count": 297,
     "metadata": {},
     "output_type": "execute_result"
    }
   ],
   "source": [
    "df[['age']].describe()"
   ]
  },
  {
   "cell_type": "markdown",
   "metadata": {
    "hidden": true
   },
   "source": [
    "#### Comment peut-on regarder la répartition de l'âge sous forme de graphique ?"
   ]
  },
  {
   "cell_type": "markdown",
   "metadata": {
    "hidden": true
   },
   "source": [
    "Regardons un diagramme en barre des effectifs / histogramme"
   ]
  },
  {
   "cell_type": "code",
   "execution_count": 298,
   "metadata": {
    "hidden": true
   },
   "outputs": [
    {
     "data": {
      "text/plain": [
       "array([[<Axes: title={'center': 'age'}>]], dtype=object)"
      ]
     },
     "execution_count": 298,
     "metadata": {},
     "output_type": "execute_result"
    },
    {
     "data": {
      "image/png": "[encoded data removed]",
      "text/plain": [
       "<Figure size 640x480 with 1 Axes>"
      ]
     },
     "metadata": {},
     "output_type": "display_data"
    }
   ],
   "source": [
    "df[['age']].hist()"
   ]
  },
  {
   "cell_type": "markdown",
   "metadata": {
    "hidden": true
   },
   "source": [
    "Regardons le boxplot :"
   ]
  },
  {
   "cell_type": "markdown",
   "metadata": {
    "hidden": true
   },
   "source": [
    "https://fr.wikipedia.org/wiki/Bo%C3%AEte_%C3%A0_moustaches"
   ]
  },
  {
   "cell_type": "code",
   "execution_count": 299,
   "metadata": {
    "hidden": true
   },
   "outputs": [
    {
     "data": {
      "text/plain": [
       "<Axes: >"
      ]
     },
     "execution_count": 299,
     "metadata": {},
     "output_type": "execute_result"
    },
    {
     "data": {
      "image/png": "[encoded data removed]",
      "text/plain": [
       "<Figure size 640x480 with 1 Axes>"
      ]
     },
     "metadata": {},
     "output_type": "display_data"
    }
   ],
   "source": [
    "df[['age']].boxplot()"
   ]
  },
  {
   "cell_type": "markdown",
   "metadata": {
    "hidden": true
   },
   "source": [
    "#### Continuez d'explorer ce qui vous semble intéressant !"
   ]
  },
  {
   "cell_type": "markdown",
   "metadata": {
    "heading_collapsed": true,
    "hidden": true
   },
   "source": [
    "## Croisons un peu les variables !"
   ]
  },
  {
   "cell_type": "markdown",
   "metadata": {
    "heading_collapsed": true,
    "hidden": true
   },
   "source": [
    "### Quelle est la part de femmes ayant survécu ?"
   ]
  },
  {
   "cell_type": "code",
   "execution_count": 300,
   "metadata": {},
   "outputs": [
    {
     "data": {
      "text/plain": [
       "<Axes: title={'center': 'Female : contigency(survived,rounded(age,10**-1)) : rate\\ncorr(age,surv)=0.135'}, xlabel='survived', ylabel='%'>"
      ]
     },
     "execution_count": 300,
     "metadata": {},
     "output_type": "execute_result"
    },
    {
     "data": {
      "image/png": "[encoded data removed]",
      "text/plain": [
       "<Figure size 1600x600 with 2 Axes>"
      ]
     },
     "metadata": {},
     "output_type": "display_data"
    }
   ],
   "source": [
    "#data\n",
    "df_age_round = df[['age','survived','sex']].copy()\n",
    "df_age_round['age rounded by 10'] = df[['age']].apply(lambda x : round(x,-1),axis=1)\n",
    "cont_age_surv_count_m = pd.crosstab(df_age_round[df_age_round.sex=='male']['survived'],df_age_round[df_age_round.sex=='male']['age rounded by 10'])\n",
    "cont_age_surv_count_f = pd.crosstab(df_age_round[df_age_round.sex=='female']['survived'],df_age_round[df_age_round.sex=='female']['age rounded by 10'])\n",
    "cont_age_surv_rate_m = cont_age_surv_count_m / cont_age_surv_count_m.sum(axis=0) *100\n",
    "cont_age_surv_rate_f = cont_age_surv_count_f / cont_age_surv_count_f.sum(axis=0) *100\n",
    "corr_age_surv_m = round(df[df.sex=='male'][['age','survived']].corr(method='pearson').loc['age','survived'],3)\n",
    "corr_age_surv_f = round(df[df.sex=='female'][['age','survived']].corr(method='pearson').loc['age','survived'],3)\n",
    "#plotting\n",
    "plt.figure(figsize=(16,6))\n",
    "axes = [plt.subplot(1,2,1),plt.subplot(1,2,2)]\n",
    "cont_age_surv_rate_m.plot.bar(ax=axes[0],title=f'Male : contigency(survived,rounded(age,10**-1)) : rate\\ncorr(age,surv)={corr_age_surv_m}',ylabel='%')\n",
    "cont_age_surv_rate_f.plot.bar(ax=axes[1],title=f'Female : contigency(survived,rounded(age,10**-1)) : rate\\ncorr(age,surv)={corr_age_surv_f}',ylabel='%')"
   ]
  },
  {
   "cell_type": "markdown",
   "metadata": {
    "hidden": true
   },
   "source": [
    "Regardons la table de contingence en effectifs :"
   ]
  },
  {
   "cell_type": "code",
   "execution_count": 301,
   "metadata": {},
   "outputs": [
    {
     "data": {
      "text/html": [
       "<div>\n",
       "<style scoped>\n",
       "    .dataframe tbody tr th:only-of-type {\n",
       "        vertical-align: middle;\n",
       "    }\n",
       "\n",
       "    .dataframe tbody tr th {\n",
       "        vertical-align: top;\n",
       "    }\n",
       "\n",
       "    .dataframe thead th {\n",
       "        text-align: right;\n",
       "    }\n",
       "</style>\n",
       "<table border=\"1\" class=\"dataframe\">\n",
       "  <thead>\n",
       "    <tr style=\"text-align: right;\">\n",
       "      <th>sex</th>\n",
       "      <th>female</th>\n",
       "      <th>male</th>\n",
       "    </tr>\n",
       "    <tr>\n",
       "      <th>survived</th>\n",
       "      <th></th>\n",
       "      <th></th>\n",
       "    </tr>\n",
       "  </thead>\n",
       "  <tbody>\n",
       "    <tr>\n",
       "      <th>0.0</th>\n",
       "      <td>127</td>\n",
       "      <td>682</td>\n",
       "    </tr>\n",
       "    <tr>\n",
       "      <th>1.0</th>\n",
       "      <td>339</td>\n",
       "      <td>161</td>\n",
       "    </tr>\n",
       "  </tbody>\n",
       "</table>\n",
       "</div>"
      ],
      "text/plain": [
       "sex       female  male\n",
       "survived              \n",
       "0.0          127   682\n",
       "1.0          339   161"
      ]
     },
     "execution_count": 301,
     "metadata": {},
     "output_type": "execute_result"
    }
   ],
   "source": [
    "pd.crosstab(df['survived'],df['sex'])"
   ]
  },
  {
   "cell_type": "markdown",
   "metadata": {
    "hidden": true
   },
   "source": [
    "Regardons la table de contingence en fréquences :"
   ]
  },
  {
   "cell_type": "code",
   "execution_count": 302,
   "metadata": {
    "hidden": true
   },
   "outputs": [
    {
     "data": {
      "text/html": [
       "<div>\n",
       "<style scoped>\n",
       "    .dataframe tbody tr th:only-of-type {\n",
       "        vertical-align: middle;\n",
       "    }\n",
       "\n",
       "    .dataframe tbody tr th {\n",
       "        vertical-align: top;\n",
       "    }\n",
       "\n",
       "    .dataframe thead th {\n",
       "        text-align: right;\n",
       "    }\n",
       "</style>\n",
       "<table border=\"1\" class=\"dataframe\">\n",
       "  <thead>\n",
       "    <tr style=\"text-align: right;\">\n",
       "      <th>sex</th>\n",
       "      <th>female</th>\n",
       "      <th>male</th>\n",
       "    </tr>\n",
       "    <tr>\n",
       "      <th>survived</th>\n",
       "      <th></th>\n",
       "      <th></th>\n",
       "    </tr>\n",
       "  </thead>\n",
       "  <tbody>\n",
       "    <tr>\n",
       "      <th>0.0</th>\n",
       "      <td>9.694656</td>\n",
       "      <td>52.061069</td>\n",
       "    </tr>\n",
       "    <tr>\n",
       "      <th>1.0</th>\n",
       "      <td>25.877863</td>\n",
       "      <td>12.290076</td>\n",
       "    </tr>\n",
       "  </tbody>\n",
       "</table>\n",
       "</div>"
      ],
      "text/plain": [
       "sex          female       male\n",
       "survived                      \n",
       "0.0        9.694656  52.061069\n",
       "1.0       25.877863  12.290076"
      ]
     },
     "execution_count": 302,
     "metadata": {},
     "output_type": "execute_result"
    }
   ],
   "source": [
    "pd.crosstab(df['survived'],df['sex'])/n*100\n"
   ]
  },
  {
   "cell_type": "code",
   "execution_count": 303,
   "metadata": {},
   "outputs": [
    {
     "data": {
      "text/html": [
       "<div>\n",
       "<style scoped>\n",
       "    .dataframe tbody tr th:only-of-type {\n",
       "        vertical-align: middle;\n",
       "    }\n",
       "\n",
       "    .dataframe tbody tr th {\n",
       "        vertical-align: top;\n",
       "    }\n",
       "\n",
       "    .dataframe thead th {\n",
       "        text-align: right;\n",
       "    }\n",
       "</style>\n",
       "<table border=\"1\" class=\"dataframe\">\n",
       "  <thead>\n",
       "    <tr style=\"text-align: right;\">\n",
       "      <th>sex</th>\n",
       "      <th>female</th>\n",
       "      <th>male</th>\n",
       "    </tr>\n",
       "    <tr>\n",
       "      <th>survived</th>\n",
       "      <th></th>\n",
       "      <th></th>\n",
       "    </tr>\n",
       "  </thead>\n",
       "  <tbody>\n",
       "    <tr>\n",
       "      <th>0.0</th>\n",
       "      <td>0.097021</td>\n",
       "      <td>0.521008</td>\n",
       "    </tr>\n",
       "    <tr>\n",
       "      <th>1.0</th>\n",
       "      <td>0.258976</td>\n",
       "      <td>0.122995</td>\n",
       "    </tr>\n",
       "  </tbody>\n",
       "</table>\n",
       "</div>"
      ],
      "text/plain": [
       "sex         female      male\n",
       "survived                    \n",
       "0.0       0.097021  0.521008\n",
       "1.0       0.258976  0.122995"
      ]
     },
     "execution_count": 303,
     "metadata": {},
     "output_type": "execute_result"
    }
   ],
   "source": [
    "pd.crosstab(df['survived'],df['sex'],normalize='all')"
   ]
  },
  {
   "cell_type": "markdown",
   "metadata": {
    "heading_collapsed": true,
    "hidden": true
   },
   "source": [
    "### Est-ce que les survivants sont plus des femmes ?"
   ]
  },
  {
   "cell_type": "markdown",
   "metadata": {
    "hidden": true
   },
   "source": [
    "Regardons la table de contingence en proportion en fonction des colonnes"
   ]
  },
  {
   "cell_type": "code",
   "execution_count": 304,
   "metadata": {
    "hidden": true
   },
   "outputs": [
    {
     "data": {
      "text/html": [
       "<div>\n",
       "<style scoped>\n",
       "    .dataframe tbody tr th:only-of-type {\n",
       "        vertical-align: middle;\n",
       "    }\n",
       "\n",
       "    .dataframe tbody tr th {\n",
       "        vertical-align: top;\n",
       "    }\n",
       "\n",
       "    .dataframe thead th {\n",
       "        text-align: right;\n",
       "    }\n",
       "</style>\n",
       "<table border=\"1\" class=\"dataframe\">\n",
       "  <thead>\n",
       "    <tr style=\"text-align: right;\">\n",
       "      <th>sex</th>\n",
       "      <th>female</th>\n",
       "      <th>male</th>\n",
       "    </tr>\n",
       "    <tr>\n",
       "      <th>survived</th>\n",
       "      <th></th>\n",
       "      <th></th>\n",
       "    </tr>\n",
       "  </thead>\n",
       "  <tbody>\n",
       "    <tr>\n",
       "      <th>0.0</th>\n",
       "      <td>0.272532</td>\n",
       "      <td>0.809015</td>\n",
       "    </tr>\n",
       "    <tr>\n",
       "      <th>1.0</th>\n",
       "      <td>0.727468</td>\n",
       "      <td>0.190985</td>\n",
       "    </tr>\n",
       "  </tbody>\n",
       "</table>\n",
       "</div>"
      ],
      "text/plain": [
       "sex         female      male\n",
       "survived                    \n",
       "0.0       0.272532  0.809015\n",
       "1.0       0.727468  0.190985"
      ]
     },
     "execution_count": 304,
     "metadata": {},
     "output_type": "execute_result"
    }
   ],
   "source": [
    "pd.crosstab(df['survived'],df['sex'],normalize='columns')\n"
   ]
  },
  {
   "cell_type": "markdown",
   "metadata": {
    "heading_collapsed": true,
    "hidden": true
   },
   "source": [
    "### Est-ce que les femmes sont plus nombreuses à avoir survécu que les hommes ?"
   ]
  },
  {
   "cell_type": "markdown",
   "metadata": {
    "hidden": true
   },
   "source": [
    "Regardons la table de contingence en proportion en fonction des lignes"
   ]
  },
  {
   "cell_type": "code",
   "execution_count": 305,
   "metadata": {
    "hidden": true
   },
   "outputs": [
    {
     "data": {
      "text/html": [
       "<div>\n",
       "<style scoped>\n",
       "    .dataframe tbody tr th:only-of-type {\n",
       "        vertical-align: middle;\n",
       "    }\n",
       "\n",
       "    .dataframe tbody tr th {\n",
       "        vertical-align: top;\n",
       "    }\n",
       "\n",
       "    .dataframe thead th {\n",
       "        text-align: right;\n",
       "    }\n",
       "</style>\n",
       "<table border=\"1\" class=\"dataframe\">\n",
       "  <thead>\n",
       "    <tr style=\"text-align: right;\">\n",
       "      <th>sex</th>\n",
       "      <th>female</th>\n",
       "      <th>male</th>\n",
       "    </tr>\n",
       "    <tr>\n",
       "      <th>survived</th>\n",
       "      <th></th>\n",
       "      <th></th>\n",
       "    </tr>\n",
       "  </thead>\n",
       "  <tbody>\n",
       "    <tr>\n",
       "      <th>0.0</th>\n",
       "      <td>0.156984</td>\n",
       "      <td>0.843016</td>\n",
       "    </tr>\n",
       "    <tr>\n",
       "      <th>1.0</th>\n",
       "      <td>0.678000</td>\n",
       "      <td>0.322000</td>\n",
       "    </tr>\n",
       "  </tbody>\n",
       "</table>\n",
       "</div>"
      ],
      "text/plain": [
       "sex         female      male\n",
       "survived                    \n",
       "0.0       0.156984  0.843016\n",
       "1.0       0.678000  0.322000"
      ]
     },
     "execution_count": 305,
     "metadata": {},
     "output_type": "execute_result"
    }
   ],
   "source": [
    "pd.crosstab(df['survived'],df['sex'],normalize='index')\n"
   ]
  },
  {
   "cell_type": "markdown",
   "metadata": {
    "heading_collapsed": true,
    "hidden": true
   },
   "source": [
    "### Observons ça en graphiques !"
   ]
  },
  {
   "cell_type": "markdown",
   "metadata": {
    "hidden": true
   },
   "source": [
    "Réalisons un diagramme en barres en effectifs"
   ]
  },
  {
   "cell_type": "code",
   "execution_count": 306,
   "metadata": {
    "hidden": true
   },
   "outputs": [
    {
     "data": {
      "text/plain": [
       "<Axes: title={'center': 'by sex'}, xlabel='survived'>"
      ]
     },
     "execution_count": 306,
     "metadata": {},
     "output_type": "execute_result"
    },
    {
     "data": {
      "image/png": "[encoded data removed]",
      "text/plain": [
       "<Figure size 1600x600 with 4 Axes>"
      ]
     },
     "metadata": {},
     "output_type": "display_data"
    }
   ],
   "source": [
    "plt.figure(figsize=(16,6))\n",
    "axes = [plt.subplot(1,4,i) for i in [1,2,3,4]]\n",
    "pd.crosstab(df['survived'],df['sex']).plot.bar(ax=axes[0],title=\"count\")\n",
    "pd.crosstab(df['survived'],df['sex'],normalize='all').plot.bar(ax=axes[1],title=\"Fréquences\")\n",
    "pd.crosstab(df['survived'],df['sex'],normalize='index').plot.bar(ax=axes[2],title=\"by survivors\")\n",
    "pd.crosstab(df['survived'],df['sex'],normalize='columns').plot.bar(ax=axes[3],title=\"by sex\")\n"
   ]
  },
  {
   "cell_type": "markdown",
   "metadata": {
    "heading_collapsed": true,
    "hidden": true
   },
   "source": [
    "### Comment sont représentés les âges par genre ?"
   ]
  },
  {
   "cell_type": "markdown",
   "metadata": {
    "hidden": true
   },
   "source": [
    "Réalisons le résumé statistique par modalité :"
   ]
  },
  {
   "cell_type": "code",
   "execution_count": 307,
   "metadata": {
    "hidden": true
   },
   "outputs": [
    {
     "data": {
      "text/plain": [
       "count    658.000000\n",
       "mean      30.585233\n",
       "std       14.280571\n",
       "min        0.333300\n",
       "25%       21.000000\n",
       "50%       28.000000\n",
       "75%       39.000000\n",
       "max       80.000000\n",
       "Name: age, dtype: float64"
      ]
     },
     "execution_count": 307,
     "metadata": {},
     "output_type": "execute_result"
    }
   ],
   "source": [
    "df[df.sex=='male']['age'].describe()"
   ]
  },
  {
   "cell_type": "code",
   "execution_count": 308,
   "metadata": {},
   "outputs": [
    {
     "data": {
      "text/plain": [
       "count    388.000000\n",
       "mean      28.687071\n",
       "std       14.576995\n",
       "min        0.166700\n",
       "25%       19.000000\n",
       "50%       27.000000\n",
       "75%       38.000000\n",
       "max       76.000000\n",
       "Name: age, dtype: float64"
      ]
     },
     "execution_count": 308,
     "metadata": {},
     "output_type": "execute_result"
    }
   ],
   "source": [
    "df[df.sex=='female']['age'].describe()"
   ]
  },
  {
   "cell_type": "markdown",
   "metadata": {
    "heading_collapsed": true,
    "hidden": true
   },
   "source": [
    "### Regardons ça en graphiques !"
   ]
  },
  {
   "cell_type": "markdown",
   "metadata": {
    "hidden": true
   },
   "source": [
    "Avec le boxplot :"
   ]
  },
  {
   "cell_type": "code",
   "execution_count": 309,
   "metadata": {
    "hidden": true
   },
   "outputs": [
    {
     "data": {
      "text/plain": [
       "Text(0, 0.5, 'age')"
      ]
     },
     "execution_count": 309,
     "metadata": {},
     "output_type": "execute_result"
    },
    {
     "data": {
      "image/png": "[encoded data removed]",
      "text/plain": [
       "<Figure size 640x480 with 1 Axes>"
      ]
     },
     "metadata": {},
     "output_type": "display_data"
    }
   ],
   "source": [
    "data_m = df[df.sex=='male']['age'].dropna()\n",
    "data_f = df[df.sex=='female']['age'].dropna()\n",
    "plt.boxplot([data_m,data_f],tick_labels=['male','female'])\n",
    "plt.title('male and female age distributions')\n",
    "plt.ylabel('age')\n"
   ]
  },
  {
   "cell_type": "markdown",
   "metadata": {
    "hidden": true
   },
   "source": [
    "Avec la fonction de répartition empirique :"
   ]
  },
  {
   "cell_type": "code",
   "execution_count": 310,
   "metadata": {
    "hidden": true
   },
   "outputs": [
    {
     "data": {
      "text/plain": [
       "<Axes: xlabel='age', ylabel='Proportion'>"
      ]
     },
     "execution_count": 310,
     "metadata": {},
     "output_type": "execute_result"
    },
    {
     "data": {
      "image/png": "[encoded data removed]",
      "text/plain": [
       "<Figure size 640x480 with 1 Axes>"
      ]
     },
     "metadata": {},
     "output_type": "display_data"
    }
   ],
   "source": [
    "import seaborn\n",
    "seaborn.ecdfplot(data = df,x=\"age\",hue='sex')"
   ]
  },
  {
   "cell_type": "markdown",
   "metadata": {
    "heading_collapsed": true,
    "hidden": true
   },
   "source": [
    "### Peut-on voir un lien entre l'âge et le prix du ticket ?"
   ]
  },
  {
   "cell_type": "markdown",
   "metadata": {
    "hidden": true
   },
   "source": [
    "Regardons ça avec un scatter plot :"
   ]
  },
  {
   "cell_type": "code",
   "execution_count": 311,
   "metadata": {},
   "outputs": [],
   "source": [
    "df['fare'] = df['fare'].apply(to_real_number)"
   ]
  },
  {
   "cell_type": "code",
   "execution_count": 312,
   "metadata": {
    "hidden": true
   },
   "outputs": [
    {
     "data": {
      "text/plain": [
       "<Axes: xlabel='age', ylabel='fare'>"
      ]
     },
     "execution_count": 312,
     "metadata": {},
     "output_type": "execute_result"
    },
    {
     "data": {
      "image/png": "[encoded data removed]",
      "text/plain": [
       "<Figure size 640x480 with 1 Axes>"
      ]
     },
     "metadata": {},
     "output_type": "display_data"
    }
   ],
   "source": [
    "df.plot.scatter(x='age',y='fare')"
   ]
  },
  {
   "cell_type": "markdown",
   "metadata": {
    "hidden": true
   },
   "source": [
    "Regardons le coefficient de corrélation :"
   ]
  },
  {
   "cell_type": "code",
   "execution_count": 313,
   "metadata": {
    "hidden": true
   },
   "outputs": [
    {
     "data": {
      "text/html": [
       "<div>\n",
       "<style scoped>\n",
       "    .dataframe tbody tr th:only-of-type {\n",
       "        vertical-align: middle;\n",
       "    }\n",
       "\n",
       "    .dataframe tbody tr th {\n",
       "        vertical-align: top;\n",
       "    }\n",
       "\n",
       "    .dataframe thead th {\n",
       "        text-align: right;\n",
       "    }\n",
       "</style>\n",
       "<table border=\"1\" class=\"dataframe\">\n",
       "  <thead>\n",
       "    <tr style=\"text-align: right;\">\n",
       "      <th></th>\n",
       "      <th>age</th>\n",
       "      <th>fare</th>\n",
       "    </tr>\n",
       "  </thead>\n",
       "  <tbody>\n",
       "    <tr>\n",
       "      <th>age</th>\n",
       "      <td>1.000000</td>\n",
       "      <td>0.178739</td>\n",
       "    </tr>\n",
       "    <tr>\n",
       "      <th>fare</th>\n",
       "      <td>0.178739</td>\n",
       "      <td>1.000000</td>\n",
       "    </tr>\n",
       "  </tbody>\n",
       "</table>\n",
       "</div>"
      ],
      "text/plain": [
       "           age      fare\n",
       "age   1.000000  0.178739\n",
       "fare  0.178739  1.000000"
      ]
     },
     "execution_count": 313,
     "metadata": {},
     "output_type": "execute_result"
    }
   ],
   "source": [
    "df[['age','fare']].corr(method='pearson')"
   ]
  },
  {
   "cell_type": "markdown",
   "metadata": {
    "hidden": true
   },
   "source": [
    "Réalisons la matrice de corrélation en heatmap pour voir ça graphiquement :"
   ]
  },
  {
   "cell_type": "code",
   "execution_count": 314,
   "metadata": {
    "hidden": true
   },
   "outputs": [
    {
     "data": {
      "text/plain": [
       "<Axes: >"
      ]
     },
     "execution_count": 314,
     "metadata": {},
     "output_type": "execute_result"
    },
    {
     "data": {
      "image/png": "[encoded data removed]",
      "text/plain": [
       "<Figure size 640x480 with 2 Axes>"
      ]
     },
     "metadata": {},
     "output_type": "display_data"
    }
   ],
   "source": [
    "seaborn.heatmap(df[['age','fare']].corr(method='pearson'))"
   ]
  },
  {
   "cell_type": "markdown",
   "metadata": {},
   "source": [
    "Par défaut, la fonction .corr() calcule la <b/>corrélation de Pearson</b>, adaptée lorsque la relation entre les deux variables est linéaire.<br/>\n",
    "La <b/>corrélation de Spearman</b> quant à elle mesure la relation monotone entre deux variables en se basant sur les rangs des données. Elle est ainsi moins sensible aux outliers et permet de repérer des relations monotones non linéaires.<br/>\n",
    "\n",
    "🌞 Ressource : https://datascientest.com/correlations-de-pearson-et-de-spearman <br/>\n",
    "\n",
    "Calculer le coefficient de corrélation de Spearman et comparer le résultat."
   ]
  },
  {
   "cell_type": "code",
   "execution_count": 315,
   "metadata": {},
   "outputs": [
    {
     "data": {
      "text/html": [
       "<div>\n",
       "<style scoped>\n",
       "    .dataframe tbody tr th:only-of-type {\n",
       "        vertical-align: middle;\n",
       "    }\n",
       "\n",
       "    .dataframe tbody tr th {\n",
       "        vertical-align: top;\n",
       "    }\n",
       "\n",
       "    .dataframe thead th {\n",
       "        text-align: right;\n",
       "    }\n",
       "</style>\n",
       "<table border=\"1\" class=\"dataframe\">\n",
       "  <thead>\n",
       "    <tr style=\"text-align: right;\">\n",
       "      <th></th>\n",
       "      <th>age</th>\n",
       "      <th>fare</th>\n",
       "    </tr>\n",
       "  </thead>\n",
       "  <tbody>\n",
       "    <tr>\n",
       "      <th>age</th>\n",
       "      <td>1.000000</td>\n",
       "      <td>0.192676</td>\n",
       "    </tr>\n",
       "    <tr>\n",
       "      <th>fare</th>\n",
       "      <td>0.192676</td>\n",
       "      <td>1.000000</td>\n",
       "    </tr>\n",
       "  </tbody>\n",
       "</table>\n",
       "</div>"
      ],
      "text/plain": [
       "           age      fare\n",
       "age   1.000000  0.192676\n",
       "fare  0.192676  1.000000"
      ]
     },
     "execution_count": 315,
     "metadata": {},
     "output_type": "execute_result"
    }
   ],
   "source": [
    "df[['age','fare']].corr(method='spearman')"
   ]
  },
  {
   "cell_type": "code",
   "execution_count": 316,
   "metadata": {},
   "outputs": [
    {
     "data": {
      "text/plain": [
       "<Axes: >"
      ]
     },
     "execution_count": 316,
     "metadata": {},
     "output_type": "execute_result"
    },
    {
     "data": {
      "image/png": "[encoded data removed]",
      "text/plain": [
       "<Figure size 640x480 with 2 Axes>"
      ]
     },
     "metadata": {},
     "output_type": "display_data"
    }
   ],
   "source": [
    "seaborn.heatmap(df[['age','fare']].corr(method='spearman'))"
   ]
  },
  {
   "cell_type": "markdown",
   "metadata": {
    "heading_collapsed": true,
    "hidden": true
   },
   "source": [
    "### Semble-t-il y avoir un lien entre la classe sociale et la survie ?"
   ]
  },
  {
   "cell_type": "code",
   "execution_count": 317,
   "metadata": {
    "hidden": true
   },
   "outputs": [
    {
     "data": {
      "text/html": [
       "<div>\n",
       "<style scoped>\n",
       "    .dataframe tbody tr th:only-of-type {\n",
       "        vertical-align: middle;\n",
       "    }\n",
       "\n",
       "    .dataframe tbody tr th {\n",
       "        vertical-align: top;\n",
       "    }\n",
       "\n",
       "    .dataframe thead th {\n",
       "        text-align: right;\n",
       "    }\n",
       "</style>\n",
       "<table border=\"1\" class=\"dataframe\">\n",
       "  <thead>\n",
       "    <tr style=\"text-align: right;\">\n",
       "      <th>pclass</th>\n",
       "      <th>1.0</th>\n",
       "      <th>2.0</th>\n",
       "      <th>3.0</th>\n",
       "    </tr>\n",
       "    <tr>\n",
       "      <th>survived</th>\n",
       "      <th></th>\n",
       "      <th></th>\n",
       "      <th></th>\n",
       "    </tr>\n",
       "  </thead>\n",
       "  <tbody>\n",
       "    <tr>\n",
       "      <th>0.0</th>\n",
       "      <td>0.380805</td>\n",
       "      <td>0.570397</td>\n",
       "      <td>0.744711</td>\n",
       "    </tr>\n",
       "    <tr>\n",
       "      <th>1.0</th>\n",
       "      <td>0.619195</td>\n",
       "      <td>0.429603</td>\n",
       "      <td>0.255289</td>\n",
       "    </tr>\n",
       "  </tbody>\n",
       "</table>\n",
       "</div>"
      ],
      "text/plain": [
       "pclass         1.0       2.0       3.0\n",
       "survived                              \n",
       "0.0       0.380805  0.570397  0.744711\n",
       "1.0       0.619195  0.429603  0.255289"
      ]
     },
     "execution_count": 317,
     "metadata": {},
     "output_type": "execute_result"
    }
   ],
   "source": [
    "df[['survived','pclass']].groupby(by='pclass').sum()\n",
    "pd.crosstab(df['survived'],df['pclass'],normalize='columns')"
   ]
  },
  {
   "cell_type": "markdown",
   "metadata": {
    "heading_collapsed": true,
    "hidden": true
   },
   "source": [
    "### Continuez d'explorer ce qui vous semble intéressant !"
   ]
  },
  {
   "cell_type": "code",
   "execution_count": null,
   "metadata": {
    "hidden": true
   },
   "outputs": [],
   "source": []
  },
  {
   "cell_type": "markdown",
   "metadata": {
    "heading_collapsed": true,
    "hidden": true
   },
   "source": [
    "## Tests statistiques"
   ]
  },
  {
   "cell_type": "markdown",
   "metadata": {
    "hidden": true
   },
   "source": [
    "Nous avons pu voir plusieurs informations avec les analyses préliminaires réalisées :\n",
    "- Les femmes semblent être plus nombreuses à survivre\n",
    "- Les 1ère classes semblent avoir plus de chance de survivre que les 3ème classe\n",
    "- ..."
   ]
  },
  {
   "cell_type": "markdown",
   "metadata": {
    "heading_collapsed": true,
    "hidden": true
   },
   "source": [
    "### Qu'est-ce qu'un test d'hypothèses ?"
   ]
  },
  {
   "cell_type": "markdown",
   "metadata": {
    "hidden": true
   },
   "source": [
    "Quelques ressources :\n",
    "- 🌞 https://www.youtube.com/watch?v=0oc49DyA3hU\n",
    "- 🌞 https://www.youtube.com/watch?v=5koKb5B_YWo"
   ]
  },
  {
   "cell_type": "markdown",
   "metadata": {
    "hidden": true
   },
   "source": [
    "Idée principale : vérifier que les statistiques de l'échantillon sont significatives, c'est à dire que si on reproduit l'expérience, on aurait les mêmes résultats (extrapolation à la population globale).\n",
    "\n",
    "Autrement dit : à partir des conclusions faites sur un <b/>échantillon</b>, on veut voir si on peut les <b/>généraliser à l'ensemble de la population</b> dont est tiré cet échantillon.\n",
    "\n",
    "Par exemple si on analyse un échantillon de personnes ayant un cancer en testant deux méthodes pour le soigner et qu'on trouve que la meilleure des solutions est de dormir 12h par nuit, on souhaite que nos statistiques sur cet échantillon soient valables pour toutes les personnes ayant un cancer afin d'être sûre que cette méthode peut être utilisée sur tout le monde.<br/>\n",
    "<br/>\n",
    "\n",
    "Il existe différents types de tests, notamment :\n",
    "- les tests <b/>de conformité à une valeur</b> <i/>(ex : les paquets de farine de ma chaîne de production font-ils bien 500g ?)</i>\n",
    "- les tests <b/>de comparaison entre des échantillons</b> <i/>(ex : est-ce que les fumeurs ont davantage de risque de cancer que les non fumeurs ?)</i>\n",
    "- les tests <b/>d'adéquation / de conformité à une loi de probabilité</b> <i/>(ex : est-ce que la distribution des revenus suit une loi normale ?)</i>\n",
    "\n",
    "Dans chacun des cas, on utilisera une formule spécifique à ce type de test (une fonction différente sur Python).\n",
    "\n",
    "🌚 Ressource pour plus tard : guide de choix de test statistique - https://help.xlstat.com/fr/6443-which-statistical-test-should-you-use\n",
    "\n",
    "Commençons par les tests de comparaison de deux moyennes."
   ]
  },
  {
   "cell_type": "markdown",
   "metadata": {
    "heading_collapsed": true,
    "hidden": true
   },
   "source": [
    "### Les femmes ont-elles significativement plus de chance de survie que les hommes ?"
   ]
  },
  {
   "cell_type": "markdown",
   "metadata": {
    "hidden": true
   },
   "source": [
    "Ou la répartition est-elle due au hasard ?"
   ]
  },
  {
   "cell_type": "markdown",
   "metadata": {
    "hidden": true
   },
   "source": [
    "Peut-être que vous vous demandez : ça se voit avec les effectifs, pourquoi le vérifier statistiquement ?\n",
    "\n",
    "L'idée des tests d'hypothèses est d'extrapoler ce qu'on voit sur un échantillon à la population globale. Dans notre cas, c'est comme si on voulait vérifier si à l'époque la survie des femmes sur les bâteaux qui rencontrent des icebergs est toujours supérieure à celle des hommes. Pour cela on prend notre échantillon du Titanic en référence."
   ]
  },
  {
   "cell_type": "markdown",
   "metadata": {
    "hidden": true
   },
   "source": [
    "De la même manière, vous avez peut-être déjà entendu parlé de ça en politique pendant les élections, on peut prendre un village qui aurait les mêmes proportions de femmes, de jeunes, d'artisans,... que la France entière (= échantillon) afin d'extrapoler leurs intentions de vote au niveau national."
   ]
  },
  {
   "cell_type": "markdown",
   "metadata": {
    "hidden": true
   },
   "source": [
    "**Réalisons notre premier test statistique pas à pas !**"
   ]
  },
  {
   "cell_type": "markdown",
   "metadata": {
    "hidden": true
   },
   "source": [
    "Commençons par réaliser les sous-échantillons d'hommes et de femmes :"
   ]
  },
  {
   "cell_type": "code",
   "execution_count": 318,
   "metadata": {
    "hidden": true
   },
   "outputs": [],
   "source": [
    "df_male = df[df.sex=='male']\n",
    "df_female = df[df.sex=='female']"
   ]
  },
  {
   "cell_type": "markdown",
   "metadata": {
    "hidden": true
   },
   "source": [
    "Calculons le taux de survie dans chaque échantillon pour vérifier que notre hypothèse est plausible :"
   ]
  },
  {
   "cell_type": "code",
   "execution_count": 319,
   "metadata": {
    "hidden": true
   },
   "outputs": [
    {
     "name": "stdout",
     "output_type": "stream",
     "text": [
      "survival rate : 0.19098457888493475(Male)\t 0.7274678111587983(Female)\n"
     ]
    }
   ],
   "source": [
    "mu_m_sample = df_male[['survived']].mean().iloc[0]\n",
    "mu_f_sample = df_female[['survived']].mean().iloc[0]\n",
    "print(f\"survival rate : {mu_m_sample}(Male)\\t {mu_f_sample}(Female)\")"
   ]
  },
  {
   "cell_type": "markdown",
   "metadata": {
    "hidden": true
   },
   "source": [
    "Réalisons un premier test afin de voir si les deux proportions sont statistiquement significativement différentes :"
   ]
  },
  {
   "cell_type": "markdown",
   "metadata": {
    "hidden": true
   },
   "source": [
    "Quelques petites informations intéressantes, prenez le temps d'y jeter un coup d'oeil :\n",
    "- Documentation Python :\n",
    "    - Test sur une moyenne : https://docs.scipy.org/doc/scipy/reference/generated/scipy.stats.ttest_1samp.html#scipy.stats.ttest_1samp\n",
    "    - Test de comparaison de 2 moyennes : https://docs.scipy.org/doc/scipy/reference/generated/scipy.stats.ttest_ind.html\n",
    "    - Test sur une proportion : https://docs.scipy.org/doc/scipy/reference/generated/scipy.stats.binomtest.html\n",
    "    - Test de comparaison de 2 proportions : https://www.statsmodels.org/stable/generated/statsmodels.stats.proportion.proportions_ztest.html\n",
    "    - 🌚 Tous les tests d'hypothèse sur Python : https://docs.scipy.org/doc/scipy/reference/stats.html#hypothesis-tests-and-related-functions <br/>\n",
    "<br/>\n",
    "- 🌞 Les étapes de la réalisation d'un test d'hypothèses : https://www.youtube.com/watch?v=I3vnzM1X15g&list=PLWwpP-YNkDjYa9PTCOwJ0A6LNtvbjThsf&index=1"
   ]
  },
  {
   "cell_type": "markdown",
   "metadata": {
    "hidden": true
   },
   "source": [
    "A noter que dans la plupart des cas (notamment quand ce n'est pas précisé), on prendra à une pvaleur à 5%"
   ]
  },
  {
   "cell_type": "markdown",
   "metadata": {
    "hidden": true
   },
   "source": [
    "(1) On pose nos hypothèses H0 et H1 :\\\n",
    "    - $H_0: μ_{f} = μ_m$\\\n",
    "    - $H_1: μ_{f} \\neq μ_m$\\\n",
    "Where $μ_{f}, μ_{m}$ is a the survival rate (the mean of 'survived') at sea of the global population female,male\n",
    "\n",
    "On réalise notre test :"
   ]
  },
  {
   "cell_type": "code",
   "execution_count": 320,
   "metadata": {
    "hidden": true
   },
   "outputs": [
    {
     "data": {
      "text/plain": [
       "TtestResult(statistic=array([-22.51797719]), pvalue=array([3.77589236e-95]), df=array([1307.]))"
      ]
     },
     "execution_count": 320,
     "metadata": {},
     "output_type": "execute_result"
    }
   ],
   "source": [
    "#by comparing means\n",
    "stats.ttest_ind(a=df_male[['survived']],b=df_female[['survived']])"
   ]
  },
  {
   "cell_type": "code",
   "execution_count": 321,
   "metadata": {},
   "outputs": [
    {
     "data": {
      "text/plain": [
       "(19.12817157522173, 1.471453101692132e-81)"
      ]
     },
     "execution_count": 321,
     "metadata": {},
     "output_type": "execute_result"
    }
   ],
   "source": [
    "#by compraring rates \n",
    "n_s_male = df_male['survived'].sum()\n",
    "n_s_female = df_female['survived'].sum()\n",
    "n_male = len(df_male)\n",
    "n_female = len(df_female)\n",
    "stat_res, pvalue = proportions_ztest(count = [n_s_female,n_s_male], \n",
    "                                   nobs = [n_female,n_male], value=None, alternative='two-sided', prop_var=False)\n",
    "stat_res, pvalue"
   ]
  },
  {
   "cell_type": "markdown",
   "metadata": {
    "hidden": true
   },
   "source": [
    "Analyse des résultats et conclusion :\\\n",
    "The pvalue is below 5\\%, we can safely reject $H_0$"
   ]
  },
  {
   "cell_type": "markdown",
   "metadata": {
    "hidden": true
   },
   "source": [
    "On peut refaire le test en vérifiant que la survie des femmes est supérieure à celle des hommes :\n",
    "\n",
    "(2) On pose nos hypothèses H0 et H1 :\\\n",
    "    - $H_0: μ_{f} \\leq μ_m$\\\n",
    "    - $H_1: μ_{f} > μ_m$\\\n",
    "Where $μ_{m}, μ_{f}$ is a the survival rate at sea of the global population male,female\n",
    "\n",
    "On réalise notre test :"
   ]
  },
  {
   "cell_type": "code",
   "execution_count": 322,
   "metadata": {},
   "outputs": [
    {
     "data": {
      "text/plain": [
       "(19.12817157522173, 7.35726550846066e-82)"
      ]
     },
     "execution_count": 322,
     "metadata": {},
     "output_type": "execute_result"
    }
   ],
   "source": [
    "stat_res, pvalue = proportions_ztest(count = [n_s_female,n_s_male], \n",
    "                                   nobs = [n_female,n_male], value=None, alternative='larger', prop_var=False)\n",
    "stat_res, pvalue"
   ]
  },
  {
   "cell_type": "markdown",
   "metadata": {
    "hidden": true
   },
   "source": [
    "Conclusion :\\\n",
    "The pvalue is below 5\\%, we can safely reject $H_0$, le taux de survie des femmes est plus grand que celui des hommes."
   ]
  },
  {
   "cell_type": "markdown",
   "metadata": {
    "heading_collapsed": true,
    "hidden": true
   },
   "source": [
    "### Focus pvalue + intervalle de confiance"
   ]
  },
  {
   "cell_type": "markdown",
   "metadata": {
    "hidden": true
   },
   "source": [
    "Quelques ressources pour bien comprendre la notion de pvaleur :\n",
    "- https://fr.wikipedia.org/wiki/Valeur_p\n",
    "- 🌞 https://www.youtube.com/watch?v=vemZtEM63GY\n",
    "- 🌞 https://www.youtube.com/watch?v=xVIt51ybvu0\n",
    "- 🌚 https://www.youtube.com/watch?v=jy9b1HSqtSk"
   ]
  },
  {
   "cell_type": "markdown",
   "metadata": {
    "hidden": true
   },
   "source": [
    "Quelques ressources pour bien comprendre la notion d'intervalle de confiance :\n",
    "- https://fr.wikipedia.org/wiki/Intervalle_de_confiance\n",
    "- 🌞 https://www.youtube.com/watch?v=TqOeMYtOc1w\n",
    "- 🌚 simulateur pour aider à la compréhension : https://im2ag-shiny.univ-grenoble-alpes.fr/fcorset/ICmu/"
   ]
  },
  {
   "cell_type": "markdown",
   "metadata": {
    "heading_collapsed": true,
    "hidden": true
   },
   "source": [
    "### COMPETENCE - Les 3ème classe ont-il moins de chance de survie que les 1ère classe ?\n",
    "\n",
    "(3) On pose nos hypothèses H0 et H1 :\\\n",
    "    - $H_0: μ_3 > μ_1$\\\n",
    "    - $H_1: μ_3 \\leq μ_3$\\\n",
    "Where $μ_{3}, μ_{1}$ is a the survival rate at sea of the global population of class $3$ and $1$ passenger\n",
    "\n",
    "On réalise notre test :"
   ]
  },
  {
   "cell_type": "code",
   "execution_count": 323,
   "metadata": {
    "hidden": true
   },
   "outputs": [
    {
     "data": {
      "text/plain": [
       "(-11.233118756180044, 1.4020149069770155e-29)"
      ]
     },
     "execution_count": 323,
     "metadata": {},
     "output_type": "execute_result"
    }
   ],
   "source": [
    "sample_1, sample_2, sample_3 = df[df.pclass==1.0], df[df.pclass==2.0], df[df.pclass==3.0]\n",
    "n1, n2, n3 = len(sample_1.index), len(sample_2.index), len(sample_3.index)\n",
    "surv1, surv2, surv3=len(sample_1[sample_1.survived==1.0].index), len(sample_2[sample_2.survived==1.0].index), len(sample_3[sample_3.survived==1.0].index)\n",
    "stat_res, pvalue = proportions_ztest(count = [surv3,surv1],nobs = [n3,n1], value=None, alternative='smaller', prop_var=False)\n",
    "stat_res, pvalue"
   ]
  },
  {
   "cell_type": "markdown",
   "metadata": {},
   "source": [
    "Conclusion :\\\n",
    "The pvalue is below 5\\%, we can safely reject $H_0$ : The survival rate of class 3 passenger is lower than the survival rate of class 1 passenger"
   ]
  },
  {
   "cell_type": "markdown",
   "metadata": {
    "hidden": true
   },
   "source": [
    "##### Qu'en est-il des 2nde classe ?\n",
    "\n",
    "(4) On pose nos hypothèses H0 et H1 :\\\n",
    "    - $H_0: μ_2 > μ_1$\\\n",
    "    - $H_1: μ_2 \\leq μ_1$\\\n",
    "Where $μ_{2}, μ_{1}$ is a the survival rate at sea of the global population of class $2$ and $1$ passenger\n",
    "\n",
    "On réalise notre test :"
   ]
  },
  {
   "cell_type": "code",
   "execution_count": 324,
   "metadata": {
    "hidden": true
   },
   "outputs": [
    {
     "data": {
      "text/plain": [
       "(-14.54924540257775, 2.952541554267854e-48)"
      ]
     },
     "execution_count": 324,
     "metadata": {},
     "output_type": "execute_result"
    }
   ],
   "source": [
    "stat_res, pvalue = proportions_ztest(count = [surv2,surv1],nobs = [n3,n1], value=None, alternative='smaller', prop_var=False)\n",
    "stat_res, pvalue"
   ]
  },
  {
   "cell_type": "markdown",
   "metadata": {},
   "source": [
    "### Les chances de survie des mineurs étaient-elles supérieures à 50% ?"
   ]
  },
  {
   "cell_type": "markdown",
   "metadata": {},
   "source": [
    "Identifier le type de test à réaliser parmi ceux cités plus haut.\n",
    "\n",
    "(2) On pose nos hypothèses H0 et H1 :\\\n",
    "    - $H_0: μ_{minor} \\leq μ_0$\\\n",
    "    - $H_1: μ_{mimor} > μ_0$\\\n",
    "Where $μ_{minor}$ is a the survival rate at sea of minors (age<18) and $, μ_{0}=50\\%$\n",
    "\n",
    "On réalise notre test :\n",
    "\n",
    "(Statistiques 1) On choisit un Ztest de comparaison d'une proportion à une valeur ($μ_{0}=50\\%$)"
   ]
  },
  {
   "cell_type": "code",
   "execution_count": 325,
   "metadata": {},
   "outputs": [],
   "source": [
    "#data\n",
    "sample_minor = df.loc[lambda x: x.age < 18,['age','survived']].dropna()\n",
    "n_minor = len(sample_minor.index)\n",
    "n_surv_minor = len(sample_minor[sample_minor.survived==1.0].index)"
   ]
  },
  {
   "cell_type": "code",
   "execution_count": 326,
   "metadata": {},
   "outputs": [
    {
     "data": {
      "text/plain": [
       "(0.6455299732694927, 0.25929190044187567)"
      ]
     },
     "execution_count": 326,
     "metadata": {},
     "output_type": "execute_result"
    }
   ],
   "source": [
    "stat_res, pvalue = proportions_ztest(count = n_surv_minor,nobs = n_minor, value=0.5, alternative='larger', prop_var=False)\n",
    "stat_res, pvalue"
   ]
  },
  {
   "cell_type": "markdown",
   "metadata": {},
   "source": [
    "(Statistiques 2) On choisit un comparaison à une loi binomiale(n,p=0.5) d'une proportion (k parmis n)"
   ]
  },
  {
   "cell_type": "code",
   "execution_count": 327,
   "metadata": {},
   "outputs": [
    {
     "data": {
      "text/plain": [
       "BinomTestResult(k=81, n=154, alternative='greater', statistic=0.525974025974026, pvalue=0.286422984499854)"
      ]
     },
     "execution_count": 327,
     "metadata": {},
     "output_type": "execute_result"
    }
   ],
   "source": [
    "stats.binomtest(k=n_surv_minor,n=n_minor, p=0.5, alternative='greater')"
   ]
  },
  {
   "cell_type": "markdown",
   "metadata": {},
   "source": [
    "### Conclusion : \n",
    "(Statistiques 1 ou 2) La p-valeur est de 0.25/0.28... (trop gros pour réfuter $H_0$) \\\n",
    "Le taux de survie des mineurs obsvervé (52.5974025974026%) et la taille de l'échantillon (154) ne permet pas de réfuter que \"le taux de survie en mer est inférieur à 50 %\"\n"
   ]
  },
  {
   "cell_type": "markdown",
   "metadata": {},
   "source": [
    "### Le genre et la survie sont-elles deux variables indépendantes ?"
   ]
  },
  {
   "cell_type": "markdown",
   "metadata": {},
   "source": [
    "Une autre manière d'aborder la question de la survie selon le genre est de réaliser un test d'indépendance du Khi-deux.<br/>\n",
    "<br/>\n",
    "🌞 Ressources :\n",
    "- Pour expliquer ce test : https://datatab.fr/tutorial/chi-square-test\n",
    "- Test du Khi-deux d'indépendance sur Python : https://docs.scipy.org/doc/scipy/reference/generated/scipy.stats.chi2_contingency.html"
   ]
  },
  {
   "cell_type": "code",
   "execution_count": 332,
   "metadata": {},
   "outputs": [
    {
     "data": {
      "text/html": [
       "<div>\n",
       "<style scoped>\n",
       "    .dataframe tbody tr th:only-of-type {\n",
       "        vertical-align: middle;\n",
       "    }\n",
       "\n",
       "    .dataframe tbody tr th {\n",
       "        vertical-align: top;\n",
       "    }\n",
       "\n",
       "    .dataframe thead th {\n",
       "        text-align: right;\n",
       "    }\n",
       "</style>\n",
       "<table border=\"1\" class=\"dataframe\">\n",
       "  <thead>\n",
       "    <tr style=\"text-align: right;\">\n",
       "      <th>sex</th>\n",
       "      <th>female</th>\n",
       "      <th>male</th>\n",
       "    </tr>\n",
       "    <tr>\n",
       "      <th>survived</th>\n",
       "      <th></th>\n",
       "      <th></th>\n",
       "    </tr>\n",
       "  </thead>\n",
       "  <tbody>\n",
       "    <tr>\n",
       "      <th>0.0</th>\n",
       "      <td>127</td>\n",
       "      <td>682</td>\n",
       "    </tr>\n",
       "    <tr>\n",
       "      <th>1.0</th>\n",
       "      <td>339</td>\n",
       "      <td>161</td>\n",
       "    </tr>\n",
       "  </tbody>\n",
       "</table>\n",
       "</div>"
      ],
      "text/plain": [
       "sex       female  male\n",
       "survived              \n",
       "0.0          127   682\n",
       "1.0          339   161"
      ]
     },
     "execution_count": 332,
     "metadata": {},
     "output_type": "execute_result"
    }
   ],
   "source": [
    "# Tableau de contingence avec crosstab\n",
    "cont_table = pd.crosstab(df.survived,df.sex)\n",
    "cont_table\n"
   ]
  },
  {
   "cell_type": "markdown",
   "metadata": {},
   "source": [
    "- The two variables are categorical\n",
    "- The frequency per cell in the cross tab is > 5\n",
    "- There is no rankings in any variables\n",
    "\n",
    "$\\rarr$ We use the $χ_2$-test ! \n",
    "\n",
    "(5) On pose nos hypothèses $H_0$ et $H_1$ :\n",
    "\n",
    "- $H_0$: There is a no relationship between sex and survival in a ship sinking\n",
    "- $H_1$: There is a relationship between sex and survivabily in a ship sinking"
   ]
  },
  {
   "cell_type": "code",
   "execution_count": 343,
   "metadata": {},
   "outputs": [
    {
     "data": {
      "text/plain": [
       "Chi2ContingencyResult(statistic=20.378781205085588, pvalue=3.7566772719164024e-05, dof=2, expected_freq=array([[114.98701299, 208.01298701],\n",
       "       [ 98.61115355, 178.38884645],\n",
       "       [252.40183346, 456.59816654]]))"
      ]
     },
     "execution_count": 343,
     "metadata": {},
     "output_type": "execute_result"
    }
   ],
   "source": [
    "# Test du Chi-deux\n",
    "stats.chi2_contingency(cont_table)"
   ]
  },
  {
   "cell_type": "markdown",
   "metadata": {},
   "source": [
    "Conclusion : pvalue=4.589924936952945e-81 < 5\\% \\\n",
    "$H_0$ is rejected $\\rarr$ There is a relationship between sex and survival in a ship sinking "
   ]
  },
  {
   "cell_type": "markdown",
   "metadata": {},
   "source": [
    "### COMPETENCE - Y a-t-il un lien entre le genre et la classe ?"
   ]
  },
  {
   "cell_type": "code",
   "execution_count": 350,
   "metadata": {},
   "outputs": [
    {
     "data": {
      "text/html": [
       "<div>\n",
       "<style scoped>\n",
       "    .dataframe tbody tr th:only-of-type {\n",
       "        vertical-align: middle;\n",
       "    }\n",
       "\n",
       "    .dataframe tbody tr th {\n",
       "        vertical-align: top;\n",
       "    }\n",
       "\n",
       "    .dataframe thead th {\n",
       "        text-align: right;\n",
       "    }\n",
       "</style>\n",
       "<table border=\"1\" class=\"dataframe\">\n",
       "  <thead>\n",
       "    <tr style=\"text-align: right;\">\n",
       "      <th>sex</th>\n",
       "      <th>female</th>\n",
       "      <th>male</th>\n",
       "    </tr>\n",
       "    <tr>\n",
       "      <th>pclass</th>\n",
       "      <th></th>\n",
       "      <th></th>\n",
       "    </tr>\n",
       "  </thead>\n",
       "  <tbody>\n",
       "    <tr>\n",
       "      <th>1.0</th>\n",
       "      <td>144</td>\n",
       "      <td>179</td>\n",
       "    </tr>\n",
       "    <tr>\n",
       "      <th>2.0</th>\n",
       "      <td>106</td>\n",
       "      <td>171</td>\n",
       "    </tr>\n",
       "    <tr>\n",
       "      <th>3.0</th>\n",
       "      <td>216</td>\n",
       "      <td>493</td>\n",
       "    </tr>\n",
       "  </tbody>\n",
       "</table>\n",
       "</div>"
      ],
      "text/plain": [
       "sex     female  male\n",
       "pclass              \n",
       "1.0        144   179\n",
       "2.0        106   171\n",
       "3.0        216   493"
      ]
     },
     "execution_count": 350,
     "metadata": {},
     "output_type": "execute_result"
    }
   ],
   "source": [
    "# Tableau de contingence avec crosstab\n",
    "cont_table = pd.crosstab(df.pclass,df.sex)\n",
    "cont_table"
   ]
  },
  {
   "cell_type": "markdown",
   "metadata": {},
   "source": [
    "- The two variables are categorical\n",
    "- The frequency per cell in the cross tab is > 5\n",
    "- There is no rankings in any variables\n",
    "\n",
    "$\\rarr$ We use the $χ_2$-test ! \n",
    "\n",
    "(5) On pose nos hypothèses $H_0$ et $H_1$ :\n",
    "\n",
    "- $H_0$: There is a no relationship between sex and pclass\n",
    "- $H_1$: There is a relationship between sex and pclass"
   ]
  },
  {
   "cell_type": "code",
   "execution_count": 351,
   "metadata": {},
   "outputs": [
    {
     "data": {
      "text/plain": [
       "3.7566772719164024e-05"
      ]
     },
     "execution_count": 351,
     "metadata": {},
     "output_type": "execute_result"
    }
   ],
   "source": [
    "# Test du Chi-deux\n",
    "res = stats.chi2_contingency(cont_table)\n",
    "res.pvalue"
   ]
  },
  {
   "cell_type": "markdown",
   "metadata": {},
   "source": [
    "Conclusion : pvalue=3.756e-05 < 5\\% \\\n",
    "$H_0$ is rejected $\\rarr$ There is a relationship between pclass and survival in a ship sinking "
   ]
  },
  {
   "cell_type": "markdown",
   "metadata": {
    "heading_collapsed": true,
    "hidden": true
   },
   "source": [
    "### Continuez d'explorer ce qui vous semble intéressant !"
   ]
  },
  {
   "cell_type": "code",
   "execution_count": null,
   "metadata": {
    "hidden": true
   },
   "outputs": [],
   "source": []
  },
  {
   "cell_type": "markdown",
   "metadata": {
    "heading_collapsed": true
   },
   "source": [
    "# Petite pause avec le paradoxe de Simpson"
   ]
  },
  {
   "cell_type": "markdown",
   "metadata": {
    "hidden": true
   },
   "source": [
    "🌞 https://www.youtube.com/watch?v=vs_Zzf_vL2I"
   ]
  },
  {
   "cell_type": "markdown",
   "metadata": {
    "heading_collapsed": true
   },
   "source": [
    "# Sujet 2 : Enquête sur le bonheur"
   ]
  },
  {
   "cell_type": "markdown",
   "metadata": {
    "hidden": true
   },
   "source": [
    "Des étudiants en Master 1 Sciences Des Données à l'Université Grenoble Alpes ont réalisée une étude sur le bonheur lors d'un de leurs projets tutorés en 2020"
   ]
  },
  {
   "cell_type": "markdown",
   "metadata": {
    "hidden": true
   },
   "source": [
    "Importez les données :"
   ]
  },
  {
   "cell_type": "code",
   "execution_count": 374,
   "metadata": {
    "hidden": true
   },
   "outputs": [
    {
     "data": {
      "text/html": [
       "<div>\n",
       "<style scoped>\n",
       "    .dataframe tbody tr th:only-of-type {\n",
       "        vertical-align: middle;\n",
       "    }\n",
       "\n",
       "    .dataframe tbody tr th {\n",
       "        vertical-align: top;\n",
       "    }\n",
       "\n",
       "    .dataframe thead th {\n",
       "        text-align: right;\n",
       "    }\n",
       "</style>\n",
       "<table border=\"1\" class=\"dataframe\">\n",
       "  <thead>\n",
       "    <tr style=\"text-align: right;\">\n",
       "      <th></th>\n",
       "      <th>Timestamp</th>\n",
       "      <th>sexe</th>\n",
       "      <th>age</th>\n",
       "      <th>departement</th>\n",
       "      <th>bohneur</th>\n",
       "      <th>focus</th>\n",
       "      <th>epanoui_au_boulot</th>\n",
       "      <th>focus_argent</th>\n",
       "      <th>ville_ou_nature</th>\n",
       "      <th>temps_perso</th>\n",
       "      <th>focus_sport</th>\n",
       "      <th>focus_crea</th>\n",
       "      <th>focus_sante</th>\n",
       "      <th>focus_dvlpt</th>\n",
       "      <th>reve_enfant</th>\n",
       "      <th>endroit_pose</th>\n",
       "      <th>hobby</th>\n",
       "      <th>source_bohneur</th>\n",
       "      <th>but_vie</th>\n",
       "      <th>definition_bohneur</th>\n",
       "    </tr>\n",
       "  </thead>\n",
       "  <tbody>\n",
       "    <tr>\n",
       "      <th>0</th>\n",
       "      <td>9/29/2020 18:16:11</td>\n",
       "      <td>Femme</td>\n",
       "      <td>24</td>\n",
       "      <td>38</td>\n",
       "      <td>3</td>\n",
       "      <td>Votre famille, Vos amis, Vos relations amoureu...</td>\n",
       "      <td>3.0</td>\n",
       "      <td>2</td>\n",
       "      <td>5</td>\n",
       "      <td>5</td>\n",
       "      <td>2</td>\n",
       "      <td>5</td>\n",
       "      <td>2</td>\n",
       "      <td>5</td>\n",
       "      <td>Je rêvais d'être artiste et d'avoir plein d'an...</td>\n",
       "      <td>C'est une vaste plaine, avec énormément de fle...</td>\n",
       "      <td>Des créations artistiques (bijoux, dessins, br...</td>\n",
       "      <td>Savoir que les personnes qui m'entourent vont ...</td>\n",
       "      <td>Être heureux, trouver le bonheur.</td>\n",
       "      <td>Être dans un bon état d'esprit, sans angoissé ...</td>\n",
       "    </tr>\n",
       "    <tr>\n",
       "      <th>1</th>\n",
       "      <td>9/29/2020 18:19:18</td>\n",
       "      <td>Femme</td>\n",
       "      <td>22</td>\n",
       "      <td>38</td>\n",
       "      <td>4</td>\n",
       "      <td>Votre famille, Vos amis, Vos relations amoureu...</td>\n",
       "      <td>3.0</td>\n",
       "      <td>5</td>\n",
       "      <td>4</td>\n",
       "      <td>5</td>\n",
       "      <td>2</td>\n",
       "      <td>1</td>\n",
       "      <td>3</td>\n",
       "      <td>2</td>\n",
       "      <td>Je n'avais pas de rêve quand j'étais enfant.</td>\n",
       "      <td>Un endroit ni calme, ni bruyant, confortableme...</td>\n",
       "      <td>Manger, ou dormir.</td>\n",
       "      <td>Les petits plaisirs de la vie, la colloc, la f...</td>\n",
       "      <td>Je n'en ai pas spécialement, avoir les bonnes ...</td>\n",
       "      <td>Pour moi, c'est être satisfait de soi-même, de...</td>\n",
       "    </tr>\n",
       "    <tr>\n",
       "      <th>2</th>\n",
       "      <td>9/29/2020 18:26:09</td>\n",
       "      <td>Femme</td>\n",
       "      <td>24</td>\n",
       "      <td>38</td>\n",
       "      <td>4</td>\n",
       "      <td>Votre famille, Vos amis, Vos relations amoureu...</td>\n",
       "      <td>5.0</td>\n",
       "      <td>3</td>\n",
       "      <td>4</td>\n",
       "      <td>2</td>\n",
       "      <td>4</td>\n",
       "      <td>5</td>\n",
       "      <td>5</td>\n",
       "      <td>2</td>\n",
       "      <td>Je revaiq de devenir fermière et d'élever des ...</td>\n",
       "      <td>Une table de Noël avec toute ma famille et les...</td>\n",
       "      <td>Je prend soin de moi</td>\n",
       "      <td>Etre avec les gens que j'aime</td>\n",
       "      <td>Fonder une famille plein d'amour</td>\n",
       "      <td>Etre bien dans sa peau, dans sa vie. Et être e...</td>\n",
       "    </tr>\n",
       "    <tr>\n",
       "      <th>3</th>\n",
       "      <td>9/29/2020 18:28:35</td>\n",
       "      <td>Femme</td>\n",
       "      <td>30</td>\n",
       "      <td>1</td>\n",
       "      <td>4</td>\n",
       "      <td>Votre famille, Vos amis, Vos relations amoureuses</td>\n",
       "      <td>4.0</td>\n",
       "      <td>5</td>\n",
       "      <td>4</td>\n",
       "      <td>3</td>\n",
       "      <td>2</td>\n",
       "      <td>4</td>\n",
       "      <td>4</td>\n",
       "      <td>2</td>\n",
       "      <td>Avoir des enfants</td>\n",
       "      <td>Dans la nature, surtout près de l'eau</td>\n",
       "      <td>Prendre du temps pour moi</td>\n",
       "      <td>Ma maison, mes chats, mon chéri</td>\n",
       "      <td>Être pleinement épanouie entre ma vie perso (u...</td>\n",
       "      <td>Accomplir son objectif de vie, faire ce qui no...</td>\n",
       "    </tr>\n",
       "    <tr>\n",
       "      <th>4</th>\n",
       "      <td>9/29/2020 18:30:32</td>\n",
       "      <td>Homme</td>\n",
       "      <td>33</td>\n",
       "      <td>77</td>\n",
       "      <td>4</td>\n",
       "      <td>Votre famille, Vos amis, Vos relations amoureuses</td>\n",
       "      <td>3.0</td>\n",
       "      <td>5</td>\n",
       "      <td>1</td>\n",
       "      <td>5</td>\n",
       "      <td>3</td>\n",
       "      <td>3</td>\n",
       "      <td>3</td>\n",
       "      <td>3</td>\n",
       "      <td>devenir footballeur</td>\n",
       "      <td>Avec ma famille dans un parc</td>\n",
       "      <td>Me reposer</td>\n",
       "      <td>Manger et se reposer</td>\n",
       "      <td>Que ma famille ne manque de rien</td>\n",
       "      <td>Avoir la paix intérieure</td>\n",
       "    </tr>\n",
       "    <tr>\n",
       "      <th>...</th>\n",
       "      <td>...</td>\n",
       "      <td>...</td>\n",
       "      <td>...</td>\n",
       "      <td>...</td>\n",
       "      <td>...</td>\n",
       "      <td>...</td>\n",
       "      <td>...</td>\n",
       "      <td>...</td>\n",
       "      <td>...</td>\n",
       "      <td>...</td>\n",
       "      <td>...</td>\n",
       "      <td>...</td>\n",
       "      <td>...</td>\n",
       "      <td>...</td>\n",
       "      <td>...</td>\n",
       "      <td>...</td>\n",
       "      <td>...</td>\n",
       "      <td>...</td>\n",
       "      <td>...</td>\n",
       "      <td>...</td>\n",
       "    </tr>\n",
       "    <tr>\n",
       "      <th>418</th>\n",
       "      <td>10/12/2020 10:02:00</td>\n",
       "      <td>Femme</td>\n",
       "      <td>29</td>\n",
       "      <td>38</td>\n",
       "      <td>4</td>\n",
       "      <td>Votre famille, Vos amis, Vos relations amoureu...</td>\n",
       "      <td>4.0</td>\n",
       "      <td>1</td>\n",
       "      <td>5</td>\n",
       "      <td>5</td>\n",
       "      <td>4</td>\n",
       "      <td>4</td>\n",
       "      <td>4</td>\n",
       "      <td>4</td>\n",
       "      <td>Je ne me rappelle plus si j'en avais un</td>\n",
       "      <td>Assise dans la nature devant un beau ciel colo...</td>\n",
       "      <td>Je partage du temps avec mes amis, ma famille,...</td>\n",
       "      <td>Idem + partager avec mes adorables étudiants</td>\n",
       "      <td>Être heureuse</td>\n",
       "      <td>Profiter des petits moments partagés avec mes ...</td>\n",
       "    </tr>\n",
       "    <tr>\n",
       "      <th>419</th>\n",
       "      <td>10/12/2020 13:21:43</td>\n",
       "      <td>Homme</td>\n",
       "      <td>63</td>\n",
       "      <td>974</td>\n",
       "      <td>4</td>\n",
       "      <td>Votre famille, Vos amis, Vos relations amoureuses</td>\n",
       "      <td>4.0</td>\n",
       "      <td>4</td>\n",
       "      <td>3</td>\n",
       "      <td>4</td>\n",
       "      <td>5</td>\n",
       "      <td>2</td>\n",
       "      <td>4</td>\n",
       "      <td>4</td>\n",
       "      <td>Devenir vétérinaire</td>\n",
       "      <td>Un endroit avec de la verdure, de la chaleur, ...</td>\n",
       "      <td>Des câlins</td>\n",
       "      <td>Le soleil, la vue de l'océan, les oiseaux qui ...</td>\n",
       "      <td>être heureux et sans pb d'argent</td>\n",
       "      <td>Avant toute chose, une santé de fer. Puis un s...</td>\n",
       "    </tr>\n",
       "    <tr>\n",
       "      <th>420</th>\n",
       "      <td>10/12/2020 19:25:39</td>\n",
       "      <td>Femme</td>\n",
       "      <td>21</td>\n",
       "      <td>69</td>\n",
       "      <td>3</td>\n",
       "      <td>Votre famille, Vos amis, Vos relations amoureu...</td>\n",
       "      <td>5.0</td>\n",
       "      <td>5</td>\n",
       "      <td>4</td>\n",
       "      <td>4</td>\n",
       "      <td>3</td>\n",
       "      <td>4</td>\n",
       "      <td>5</td>\n",
       "      <td>5</td>\n",
       "      <td>Etre une chanteuse et remplir des salles de sp...</td>\n",
       "      <td>Je me vois sur une plage de galets, avec le br...</td>\n",
       "      <td>Je fais du sport, de la musique, je chante, je...</td>\n",
       "      <td>Développer un peu plus chaque jour des relatio...</td>\n",
       "      <td>Avoir un métier stimulant, qui me permette de ...</td>\n",
       "      <td>Pouvoir manger sans grossir !</td>\n",
       "    </tr>\n",
       "    <tr>\n",
       "      <th>421</th>\n",
       "      <td>10/12/2020 21:53:41</td>\n",
       "      <td>Femme</td>\n",
       "      <td>22</td>\n",
       "      <td>69</td>\n",
       "      <td>4</td>\n",
       "      <td>Votre famille, Vos amis, Vos relations amoureu...</td>\n",
       "      <td>4.0</td>\n",
       "      <td>4</td>\n",
       "      <td>3</td>\n",
       "      <td>4</td>\n",
       "      <td>5</td>\n",
       "      <td>1</td>\n",
       "      <td>3</td>\n",
       "      <td>3</td>\n",
       "      <td>Devenir chanteuse</td>\n",
       "      <td>Calme, au bord de la mer et entourée des perso...</td>\n",
       "      <td>Du sport, profiter de ma famille</td>\n",
       "      <td>Les personnes qui m’entourent</td>\n",
       "      <td>Être épanouie et heureuse avec ma famille et m...</td>\n",
       "      <td>Se sentir bien et vivre sa vie comme on l’entend</td>\n",
       "    </tr>\n",
       "    <tr>\n",
       "      <th>422</th>\n",
       "      <td>10/12/2020 21:54:17</td>\n",
       "      <td>Femme</td>\n",
       "      <td>21</td>\n",
       "      <td>59</td>\n",
       "      <td>3</td>\n",
       "      <td>Votre famille, Vos amis, Vos relations amoureu...</td>\n",
       "      <td>4.0</td>\n",
       "      <td>2</td>\n",
       "      <td>5</td>\n",
       "      <td>3</td>\n",
       "      <td>4</td>\n",
       "      <td>2</td>\n",
       "      <td>3</td>\n",
       "      <td>5</td>\n",
       "      <td>Beaucoup de reves differents, mes souvenirs s'...</td>\n",
       "      <td>Une praire en haut dune vallee, la mer pas tee...</td>\n",
       "      <td>Passer du temps avec mes proches. Danser, fair...</td>\n",
       "      <td>Les petites choses, la contemplation, le souri...</td>\n",
       "      <td>Trouver un métier qui me plaira, ou je serais ...</td>\n",
       "      <td>Sourire dans lheure suivant le réveil parce qu...</td>\n",
       "    </tr>\n",
       "  </tbody>\n",
       "</table>\n",
       "<p>423 rows × 20 columns</p>\n",
       "</div>"
      ],
      "text/plain": [
       "               Timestamp   sexe  age  departement  bohneur  \\\n",
       "0     9/29/2020 18:16:11  Femme   24           38        3   \n",
       "1     9/29/2020 18:19:18  Femme   22           38        4   \n",
       "2     9/29/2020 18:26:09  Femme   24           38        4   \n",
       "3     9/29/2020 18:28:35  Femme   30            1        4   \n",
       "4     9/29/2020 18:30:32  Homme   33           77        4   \n",
       "..                   ...    ...  ...          ...      ...   \n",
       "418  10/12/2020 10:02:00  Femme   29           38        4   \n",
       "419  10/12/2020 13:21:43  Homme   63          974        4   \n",
       "420  10/12/2020 19:25:39  Femme   21           69        3   \n",
       "421  10/12/2020 21:53:41  Femme   22           69        4   \n",
       "422  10/12/2020 21:54:17  Femme   21           59        3   \n",
       "\n",
       "                                                 focus  epanoui_au_boulot  \\\n",
       "0    Votre famille, Vos amis, Vos relations amoureu...                3.0   \n",
       "1    Votre famille, Vos amis, Vos relations amoureu...                3.0   \n",
       "2    Votre famille, Vos amis, Vos relations amoureu...                5.0   \n",
       "3    Votre famille, Vos amis, Vos relations amoureuses                4.0   \n",
       "4    Votre famille, Vos amis, Vos relations amoureuses                3.0   \n",
       "..                                                 ...                ...   \n",
       "418  Votre famille, Vos amis, Vos relations amoureu...                4.0   \n",
       "419  Votre famille, Vos amis, Vos relations amoureuses                4.0   \n",
       "420  Votre famille, Vos amis, Vos relations amoureu...                5.0   \n",
       "421  Votre famille, Vos amis, Vos relations amoureu...                4.0   \n",
       "422  Votre famille, Vos amis, Vos relations amoureu...                4.0   \n",
       "\n",
       "     focus_argent  ville_ou_nature  temps_perso  focus_sport  focus_crea  \\\n",
       "0               2                5            5            2           5   \n",
       "1               5                4            5            2           1   \n",
       "2               3                4            2            4           5   \n",
       "3               5                4            3            2           4   \n",
       "4               5                1            5            3           3   \n",
       "..            ...              ...          ...          ...         ...   \n",
       "418             1                5            5            4           4   \n",
       "419             4                3            4            5           2   \n",
       "420             5                4            4            3           4   \n",
       "421             4                3            4            5           1   \n",
       "422             2                5            3            4           2   \n",
       "\n",
       "     focus_sante  focus_dvlpt  \\\n",
       "0              2            5   \n",
       "1              3            2   \n",
       "2              5            2   \n",
       "3              4            2   \n",
       "4              3            3   \n",
       "..           ...          ...   \n",
       "418            4            4   \n",
       "419            4            4   \n",
       "420            5            5   \n",
       "421            3            3   \n",
       "422            3            5   \n",
       "\n",
       "                                           reve_enfant  \\\n",
       "0    Je rêvais d'être artiste et d'avoir plein d'an...   \n",
       "1         Je n'avais pas de rêve quand j'étais enfant.   \n",
       "2    Je revaiq de devenir fermière et d'élever des ...   \n",
       "3                                    Avoir des enfants   \n",
       "4                                 devenir footballeur    \n",
       "..                                                 ...   \n",
       "418            Je ne me rappelle plus si j'en avais un   \n",
       "419                                Devenir vétérinaire   \n",
       "420  Etre une chanteuse et remplir des salles de sp...   \n",
       "421                                  Devenir chanteuse   \n",
       "422  Beaucoup de reves differents, mes souvenirs s'...   \n",
       "\n",
       "                                          endroit_pose  \\\n",
       "0    C'est une vaste plaine, avec énormément de fle...   \n",
       "1    Un endroit ni calme, ni bruyant, confortableme...   \n",
       "2    Une table de Noël avec toute ma famille et les...   \n",
       "3                Dans la nature, surtout près de l'eau   \n",
       "4                         Avec ma famille dans un parc   \n",
       "..                                                 ...   \n",
       "418  Assise dans la nature devant un beau ciel colo...   \n",
       "419  Un endroit avec de la verdure, de la chaleur, ...   \n",
       "420  Je me vois sur une plage de galets, avec le br...   \n",
       "421  Calme, au bord de la mer et entourée des perso...   \n",
       "422  Une praire en haut dune vallee, la mer pas tee...   \n",
       "\n",
       "                                                 hobby  \\\n",
       "0    Des créations artistiques (bijoux, dessins, br...   \n",
       "1                                   Manger, ou dormir.   \n",
       "2                                 Je prend soin de moi   \n",
       "3                            Prendre du temps pour moi   \n",
       "4                                          Me reposer    \n",
       "..                                                 ...   \n",
       "418  Je partage du temps avec mes amis, ma famille,...   \n",
       "419                                         Des câlins   \n",
       "420  Je fais du sport, de la musique, je chante, je...   \n",
       "421                   Du sport, profiter de ma famille   \n",
       "422  Passer du temps avec mes proches. Danser, fair...   \n",
       "\n",
       "                                        source_bohneur  \\\n",
       "0    Savoir que les personnes qui m'entourent vont ...   \n",
       "1    Les petits plaisirs de la vie, la colloc, la f...   \n",
       "2                       Etre avec les gens que j'aime    \n",
       "3                      Ma maison, mes chats, mon chéri   \n",
       "4                                 Manger et se reposer   \n",
       "..                                                 ...   \n",
       "418       Idem + partager avec mes adorables étudiants   \n",
       "419  Le soleil, la vue de l'océan, les oiseaux qui ...   \n",
       "420  Développer un peu plus chaque jour des relatio...   \n",
       "421                     Les personnes qui m’entourent    \n",
       "422  Les petites choses, la contemplation, le souri...   \n",
       "\n",
       "                                               but_vie  \\\n",
       "0                   Être heureux, trouver le bonheur.    \n",
       "1    Je n'en ai pas spécialement, avoir les bonnes ...   \n",
       "2                    Fonder une famille plein d'amour    \n",
       "3    Être pleinement épanouie entre ma vie perso (u...   \n",
       "4                     Que ma famille ne manque de rien   \n",
       "..                                                 ...   \n",
       "418                                      Être heureuse   \n",
       "419                   être heureux et sans pb d'argent   \n",
       "420  Avoir un métier stimulant, qui me permette de ...   \n",
       "421  Être épanouie et heureuse avec ma famille et m...   \n",
       "422  Trouver un métier qui me plaira, ou je serais ...   \n",
       "\n",
       "                                    definition_bohneur  \n",
       "0    Être dans un bon état d'esprit, sans angoissé ...  \n",
       "1    Pour moi, c'est être satisfait de soi-même, de...  \n",
       "2    Etre bien dans sa peau, dans sa vie. Et être e...  \n",
       "3    Accomplir son objectif de vie, faire ce qui no...  \n",
       "4                            Avoir la paix intérieure   \n",
       "..                                                 ...  \n",
       "418  Profiter des petits moments partagés avec mes ...  \n",
       "419  Avant toute chose, une santé de fer. Puis un s...  \n",
       "420                     Pouvoir manger sans grossir !   \n",
       "421  Se sentir bien et vivre sa vie comme on l’entend   \n",
       "422  Sourire dans lheure suivant le réveil parce qu...  \n",
       "\n",
       "[423 rows x 20 columns]"
      ]
     },
     "execution_count": 374,
     "metadata": {},
     "output_type": "execute_result"
    }
   ],
   "source": [
    "col_short=[\n",
    "\"Timestamp\", #Timestamp\t\n",
    "\"sexe\", #Quel est votre sexe ?\t\n",
    "\"age\", #Quel est votre âge ? (Ex : 30 pour 30 ans)\n",
    "\"departement\", #Dans quel département habitez-vous ? (Ex : 38 pour l'Isère / 0 si hors France)\t\n",
    "\"bohneur\", #Etes vous heureux ?\t\n",
    "\"focus\", #Accordez-vous de l'importance à ... ? (Cochez si oui)\t\n",
    "\"epanoui_au_boulot\", #Vous épanouissez-vous dans votre travail ?\t\n",
    "\"focus_argent\", #Accordez-vous de l'importance à l'argent ?\t\n",
    "\"ville_ou_nature\", #Etes-vous plutôt ville ou nature ?\t\n",
    "\"temps_perso\", #Accordez-vous de l'importance à votre temps personnel ?\t\n",
    "\"focus_sport\", #Accordez-vous de l'importance aux activités sportives ?\t\n",
    "\"focus_crea\", #Accordez-vous de l'importance aux activités créatives ?\t\n",
    "\"focus_sante\", #Prenez-vous soin de votre santé ?\t\n",
    "\"focus_dvlpt\", #Accordez-vous de l'importance à votre développement personnel ?\t\n",
    "\"reve_enfant\", #Quel était votre rêve d'enfant ?\t\n",
    "\"endroit_pose\", #Si vous fermez les yeux et imaginez un endroit où vous vous sentez bien, comment le décririez-vous ?\t\n",
    "\"hobby\", #Que faites vous qui vous rende heureux pendant votre temps personnel ?\t\n",
    "\"source_bohneur\", #Qu'est ce qui vous rend heureux au quotidien ?\t\n",
    "\"but_vie\", #Quel est votre but dans la vie ?\t\n",
    "\"definition_bohneur\" #Qu'est-ce qu'être heureux selon vous ?\n",
    "]\n",
    "data = pd.read_csv(\"data/enquete_sur_le_bonheur.csv\",sep=\";\")\n",
    "data.columns = col_short\n",
    "data\n"
   ]
  },
  {
   "cell_type": "markdown",
   "metadata": {
    "hidden": true
   },
   "source": [
    "Regardez globalement ce qu'il y a dedans :"
   ]
  },
  {
   "cell_type": "code",
   "execution_count": 390,
   "metadata": {
    "hidden": true
   },
   "outputs": [
    {
     "data": {
      "text/plain": [
       "age\n",
       "24    24\n",
       "22    24\n",
       "23    23\n",
       "30    20\n",
       "21    18\n",
       "      ..\n",
       "9      1\n",
       "18     1\n",
       "64     1\n",
       "68     1\n",
       "63     1\n",
       "Name: count, Length: 61, dtype: int64"
      ]
     },
     "execution_count": 390,
     "metadata": {},
     "output_type": "execute_result"
    }
   ],
   "source": [
    "data.bohneur.describe()\n",
    "data.sexe.value_counts()\n",
    "data.age.value_counts().sort_values(ascending=False)\n",
    "# data.isna().sum(axis=0)"
   ]
  },
  {
   "cell_type": "markdown",
   "metadata": {},
   "source": [
    "## Age et Bohneur : Que peut-on observer ?\n"
   ]
  },
  {
   "cell_type": "code",
   "execution_count": 413,
   "metadata": {},
   "outputs": [
    {
     "data": {
      "text/plain": [
       "<Axes: xlabel='age'>"
      ]
     },
     "execution_count": 413,
     "metadata": {},
     "output_type": "execute_result"
    },
    {
     "data": {
      "image/png": "[encoded data removed]",
      "text/plain": [
       "<Figure size 640x480 with 1 Axes>"
      ]
     },
     "metadata": {},
     "output_type": "display_data"
    }
   ],
   "source": [
    "sigma_age\n",
    "data.age.describe()\n",
    "data.age.value_counts().plot()\n"
   ]
  },
  {
   "cell_type": "code",
   "execution_count": null,
   "metadata": {},
   "outputs": [
    {
     "name": "stderr",
     "output_type": "stream",
     "text": [
      "/tmp/ipykernel_5590/2566698327.py:4: SettingWithCopyWarning: \n",
      "A value is trying to be set on a copy of a slice from a DataFrame.\n",
      "Try using .loc[row_indexer,col_indexer] = value instead\n",
      "\n",
      "See the caveats in the documentation: https://pandas.pydata.org/pandas-docs/stable/user_guide/indexing.html#returning-a-view-versus-a-copy\n",
      "  data_test['age rounded'] = data_test['age'].apply(lambda x : round(x,-1))\n"
     ]
    },
    {
     "data": {
      "text/plain": [
       "<Axes: xlabel='age'>"
      ]
     },
     "execution_count": 411,
     "metadata": {},
     "output_type": "execute_result"
    },
    {
     "data": {
      "image/png": "[encoded data removed]",
      "text/plain": [
       "<Figure size 640x480 with 1 Axes>"
      ]
     },
     "metadata": {},
     "output_type": "display_data"
    }
   ],
   "source": [
    "data_test = data[['age','bohneur']]\n",
    "age_sigma = data.age.std()\n",
    "age_mean = data.age.mean()\n",
    "data_test['age rounded'] = data_test['age'].apply(lambda x : round(x,-1)) \n",
    "data_test\n",
    "data_test[['age rounded','bohneur']].groupby(by='age rounded').mean().plot()\n",
    "# data.age.describe()"
   ]
  },
  {
   "cell_type": "markdown",
   "metadata": {
    "hidden": true
   },
   "source": [
    "A vous d'analyser les données avec tout ce que vous avez appris !"
   ]
  },
  {
   "cell_type": "markdown",
   "metadata": {
    "hidden": true
   },
   "source": [
    "## COMPETENCE - Réaliser une mini infographie d'une demie page avec au moins 5 informations intéressantes découvertes (dont au moins 2 tests d'hypothèses) dans ce jeu de données"
   ]
  },
  {
   "cell_type": "markdown",
   "metadata": {
    "heading_collapsed": true
   },
   "source": [
    "#  Sujet 3 (bonus) : Application mobile : jeu Cookie Cats"
   ]
  },
  {
   "cell_type": "markdown",
   "metadata": {
    "hidden": true
   },
   "source": [
    "Les données sont issues de Kaggle : https://www.kaggle.com/datasets/yufengsui/mobile-games-ab-testing"
   ]
  },
  {
   "cell_type": "markdown",
   "metadata": {
    "hidden": true
   },
   "source": [
    "Les tests statistiques sont également utilisés dans le test de nouvelles fonctionnalités (application, site web,...), afin de voir si mettre un bouton en turquoise attire plus qu'un bouton en fushia par exemple."
   ]
  },
  {
   "cell_type": "markdown",
   "metadata": {
    "hidden": true
   },
   "source": [
    "Ressources :\n",
    "- https://fr.wikipedia.org/wiki/Test_A/B\n",
    "- 🌞 https://www.youtube.com/watch?v=BmNBxAhatYI"
   ]
  },
  {
   "cell_type": "markdown",
   "metadata": {
    "hidden": true
   },
   "source": [
    "Importez les données :"
   ]
  },
  {
   "cell_type": "code",
   "execution_count": null,
   "metadata": {
    "hidden": true
   },
   "outputs": [],
   "source": []
  },
  {
   "cell_type": "markdown",
   "metadata": {
    "hidden": true
   },
   "source": [
    "Regardez globalement ce qu'il y a dedans :"
   ]
  },
  {
   "cell_type": "code",
   "execution_count": null,
   "metadata": {
    "hidden": true
   },
   "outputs": [],
   "source": []
  },
  {
   "cell_type": "markdown",
   "metadata": {
    "hidden": true
   },
   "source": [
    "Nous avons ici plusieurs informations :\n",
    "- userid : identifiant de l'utilisateur\n",
    "- version : les deux versions de l'application à comparer\n",
    "- les indicateurs de performance de l'application :\n",
    "    - sum_gamerounds : le nombre de tours de jeu joués par le joueur au cours des 14 premiers jours suivant l'installation\n",
    "    - retention_1 : est-ce que le joueur est revenu et a joué 1 jour après l'installation ?\n",
    "    - retention_7 : est-ce que le joueur est revenu et a joué 7 jours après l'installation ?"
   ]
  },
  {
   "cell_type": "markdown",
   "metadata": {
    "hidden": true
   },
   "source": [
    "L'idée ici va être de regarder quelle version de l'application permet une meilleure performance de cette dernière en moyenne."
   ]
  },
  {
   "cell_type": "markdown",
   "metadata": {
    "hidden": true
   },
   "source": [
    "Commençons par créer les deux groupes à comparer :"
   ]
  },
  {
   "cell_type": "code",
   "execution_count": null,
   "metadata": {
    "hidden": true
   },
   "outputs": [],
   "source": []
  },
  {
   "cell_type": "markdown",
   "metadata": {
    "heading_collapsed": true,
    "hidden": true
   },
   "source": [
    "## En terme de nombre de tours joués par le joueur au cours des 14 premiers jours, quelle version est la meilleure ?"
   ]
  },
  {
   "cell_type": "code",
   "execution_count": null,
   "metadata": {
    "hidden": true
   },
   "outputs": [],
   "source": []
  },
  {
   "cell_type": "markdown",
   "metadata": {
    "heading_collapsed": true,
    "hidden": true
   },
   "source": [
    "## Par rapport aux joueurs qui reviennent 1 jour après l'installation, quelle version est la meilleure ?"
   ]
  },
  {
   "cell_type": "code",
   "execution_count": null,
   "metadata": {
    "hidden": true
   },
   "outputs": [],
   "source": []
  },
  {
   "cell_type": "markdown",
   "metadata": {
    "heading_collapsed": true,
    "hidden": true
   },
   "source": [
    "## Par rapport aux joueurs qui reviennent 7 jours après l'installation, quelle version est la meilleure ?"
   ]
  },
  {
   "cell_type": "code",
   "execution_count": null,
   "metadata": {
    "hidden": true
   },
   "outputs": [],
   "source": []
  },
  {
   "cell_type": "markdown",
   "metadata": {
    "heading_collapsed": true,
    "hidden": true
   },
   "source": [
    "## Quelle version devrait choisir l'éditeur selon vous ?"
   ]
  },
  {
   "cell_type": "code",
   "execution_count": null,
   "metadata": {
    "hidden": true
   },
   "outputs": [],
   "source": []
  },
  {
   "cell_type": "markdown",
   "metadata": {},
   "source": [
    "# BONUS"
   ]
  },
  {
   "cell_type": "markdown",
   "metadata": {},
   "source": [
    "## Création de nouvelles variables afin d'étoffer l'analyse"
   ]
  },
  {
   "cell_type": "markdown",
   "metadata": {},
   "source": [
    "Regardez la distribution des âges ou basez vous sur vos propres critères afin de définir des classes d'âge. </br>\n",
    "Pouvez-vous déceler des informations intéressantes sur les jeunes, les vieux ?"
   ]
  },
  {
   "cell_type": "markdown",
   "metadata": {},
   "source": [
    "## Nettoyage des données aberrantes"
   ]
  },
  {
   "cell_type": "markdown",
   "metadata": {},
   "source": [
    "Certaines données extrêmes semblent bizarres, peut-être fausses, il pourrait être intéressant de les enlever dans nos analyses"
   ]
  },
  {
   "cell_type": "markdown",
   "metadata": {},
   "source": [
    "## Analyse des questions ouvertes"
   ]
  },
  {
   "cell_type": "markdown",
   "metadata": {},
   "source": [
    "Comment peut-on analyser les questions ouvertes ?"
   ]
  },
  {
   "cell_type": "markdown",
   "metadata": {},
   "source": [
    "## Tests sur la variance"
   ]
  },
  {
   "cell_type": "markdown",
   "metadata": {},
   "source": [
    "Il est également possible de réaliser des tests sur la variance. </br>\n",
    "Si ça vous intéresse n'hésitez pas à creuser le sujet ;)"
   ]
  }
 ],
 "metadata": {
  "kernelspec": {
   "display_name": "base",
   "language": "python",
   "name": "python3"
  },
  "language_info": {
   "codemirror_mode": {
    "name": "ipython",
    "version": 3
   },
   "file_extension": ".py",
   "mimetype": "text/x-python",
   "name": "python",
   "nbconvert_exporter": "python",
   "pygments_lexer": "ipython3",
   "version": "3.12.2"
  },
  "toc": {
   "base_numbering": 1,
   "nav_menu": {},
   "number_sections": true,
   "sideBar": true,
   "skip_h1_title": false,
   "title_cell": "Table of Contents",
   "title_sidebar": "Contents",
   "toc_cell": false,
   "toc_position": {
    "height": "calc(100% - 180px)",
    "left": "10px",
    "top": "150px",
    "width": "369.188px"
   },
   "toc_section_display": true,
   "toc_window_display": true
  },
  "varInspector": {
   "cols": {
    "lenName": 16,
    "lenType": 16,
    "lenVar": 40
   },
   "kernels_config": {
    "python": {
     "delete_cmd_postfix": "",
     "delete_cmd_prefix": "del ",
     "library": "var_list.py",
     "varRefreshCmd": "print(var_dic_list())"
    },
    "r": {
     "delete_cmd_postfix": ") ",
     "delete_cmd_prefix": "rm(",
     "library": "var_list.r",
     "varRefreshCmd": "cat(var_dic_list()) "
    }
   },
   "types_to_exclude": [
    "module",
    "function",
    "builtin_function_or_method",
    "instance",
    "_Feature"
   ],
   "window_display": false
  }
 },
 "nbformat": 4,
 "nbformat_minor": 4
}
