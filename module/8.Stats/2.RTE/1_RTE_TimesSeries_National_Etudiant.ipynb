{
 "cells": [
  {
   "cell_type": "markdown",
   "metadata": {},
   "source": [
    "# Projet : Consommation et production électrique en France"
   ]
  },
  {
   "cell_type": "markdown",
   "metadata": {
    "slideshow": {
     "slide_type": "slide"
    },
    "tags": []
   },
   "source": [
    "<img width=400 src=\"https://1.bp.blogspot.com/-_cw5mPFrxmc/XtuawSHRV0I/AAAAAAAAEWQ/52ff8l3-MKI0_ZdlJpwwyrH6tgh9diaOQCLcBGAsYHQ/s1600/uses-of-electricity-in-our-daily-life.jpg\">\n",
    "<p style=\"text-align: left\"> Une  photo kitsch du réseau électrique </p>"
   ]
  },
  {
   "cell_type": "markdown",
   "metadata": {},
   "source": [
    "## Présentation Du Dataset"
   ]
  },
  {
   "cell_type": "markdown",
   "metadata": {
    "hidden": true
   },
   "source": [
    "\n",
    "<img src=\"./assets/image1.png\" width=\"300\"/>\n",
    "<img src=\"./assets/image2.png\" width=\"300\"/>\n",
    "\n",
    "**Informations issues du site (allez voir vous même également) :**\n",
    "\n",
    "Ce jeu de données, rafraîchi une fois par jour, présente les données régionales de janvier 2013 à 2023. Elles sont issues de l'application éCO2mix. Elles sont élaborées à partir des comptages et complétées par des forfaits. \n",
    "\n",
    "Vous y trouverez au pas quart d'heure :\n",
    "\n",
    "- Les prévisions de consommation établies la veille (J-1) et celles réactualisées le jour même (J).\n",
    "\n",
    "Vous y trouverez au pas demi-heure :\n",
    "\n",
    "- La consommation réalisée.\n",
    "- La production selon les différentes filières composant le mix énergétique.\n",
    "- La consommation des pompes dans les Stations de Transfert d'Energie par Pompage (STEP).\n",
    "- Les échanges physiques aux frontières.\n",
    "- Une estimation des émissions de carbone générées par la production d'électricité en France.\n",
    "- Les échanges commerciaux aux frontières.\n",
    "- Le découpage des filières par technologie du mix de production (débute en 2013).\n",
    "\n",
    "\n",
    "\n",
    "<img src=\"./assets/image3.png\" width=\"800\"/>\n"
   ]
  },
  {
   "cell_type": "markdown",
   "metadata": {
    "jp-MarkdownHeadingCollapsed": true
   },
   "source": [
    "## Objectifs et modalités de l'étude"
   ]
  },
  {
   "cell_type": "markdown",
   "metadata": {},
   "source": [
    "**Modalités de l'étude :** \n",
    "\n",
    "- Vous travaillerez en groupe de 2 à 3.    \n",
    "   \n",
    "- Une présentation de votre travail sur une question sera effectuée en fin du projet. \n",
    "   \n",
    "**Les objectifs de cette étude sont multiples :** \n",
    "\n",
    "- Apprendre à charger et manipuler des données réelles complexes avec Pandas. \n",
    "\n",
    "- Manipuler des séries temporelles. \n",
    "\n",
    "- Analyser des données pour répondre à une question exploratoire. \n",
    "\n",
    "- Présenter et vulgariser votre recherche exploratoire. \n",
    "\n",
    "**Notes sur les données RTE** :\n",
    "\n",
    "- Elles proviennent du (génial) site éCO2mix et sont disponibles pour tout le monde (opendata) : https://www.rte-france.com/eco2mix \n",
    "- Données agrégées au niveau national : https://opendata.reseaux-energies.fr/explore/dataset/eco2mix-national-cons-def/information/?disjunctive.nature \n",
    "- Données agrégées au niveau régional : https://opendata.reseaux-energies.fr/explore/dataset/eco2mix-regional-cons-def/information/?disjunctive.libelle_region&disjunctive.nature"
   ]
  },
  {
   "cell_type": "markdown",
   "metadata": {},
   "source": [
    "## Conseils & Remarques sur l'exploration des données"
   ]
  },
  {
   "cell_type": "markdown",
   "metadata": {
    "hidden": true
   },
   "source": [
    "- La première étape de chargement, exploration et nettoyage de données peut être chronophage lorsqu'on traite des sets de données **réels**... Cela fait partie du travail de data scientist, il faut s'y faire :-)\n",
    "\n",
    "> It takes less than five lines of code to train a basic machine learning algorithm. Exploratory data analysis and data preparation in comparison take longer and comprise of 80% of the data scientist’s time.\"  https://towardsdatascience.com/build-the-story-around-data-using-exploratory-data-analysis-and-pandas-c85bf3beff87\n",
    "\n",
    "- Quand vous faîtes des recherches et que vous manipulez les données, n'oubliez pas de clarifier : **Quelle question/ hypothèse essayez-vous de résoudre/de prouver/ d'invalider ?**\n",
    "\n",
    "- Votre notebook doit être **compréhensible**. Il doit vous permettre de partager vos recherches. Le lecteur final doit pouvoir le lire comme une histoire (collègue, vous dans un futur proche, etc.). Utilisez du **markdown** pour commenter votre code, discuter des résultats, insérer des images, ...\n",
    "\n",
    "- **Table of Content** : mettez vous une table des matières et activez le **synchronize collapse state**. Ca vous permettre de vous y retrouver plus facilement. \n",
    "\n",
    "   \n",
    "- Garantissez la **causalité** de votre notebook : l'ordre d'exécution des cellules dans un notebook est complexe. Ne faîtes pas l'erreur de ne pas vérifier que vous pouvez exécuter l'ensemble de vos cellules dans l'ordre. Sinon vous n'arriverez plus à exécuter votre notebook. \n",
    "\n",
    "- N'oubliez pas de reprendre les étapes d'exploration classiques des données vues précédemment (projets GapMinder, Arbres de Grenoble, ...) : afficher les informations sur vos dataframes, regardez les données, faites des sauvegardes intermédiaires (format .pkl par exemple), cherchez les outliers, les données manquantes, etc... \n",
    "\n",
    "- C'est une analyse exploratoire : **tatonnez**, **faîtes des graphiques**, ... \n",
    "\n",
    "\n",
    "- Lorsque c'est nécessaire (selon ce que vous cherchez) penser à normaliser/standardiser les données\n",
    "\n",
    "- N'hésitez pas à **consulter l'aide de Pandas** ou à chercher la réponse à vos questions sur internet (quasiment tous les bugs que vous observerez on déjà fait l'objet d'un post sur **stackoverflow**)\n",
    "\n",
    "**Ressources** :\n",
    "-  Markdown : https://jupyter-notebook.readthedocs.io/en/stable/examples/Notebook/Working%20With%20Markdown%20Cells.html\n",
    "-  Table of content : https://jupyterlab.readthedocs.io/en/stable/user/toc.html. "
   ]
  },
  {
   "cell_type": "markdown",
   "metadata": {},
   "source": [
    "# Chargement et préparation des données"
   ]
  },
  {
   "cell_type": "markdown",
   "metadata": {},
   "source": [
    "&#x1F4A5; **To Do** \n",
    "\n",
    "- Charger les données nationales.\n",
    " \n",
    "- Regarder les colonnes, sélectionner les données intéressantes.\n",
    " \n",
    "- Les types inférés semblent-ils corrects ? Corriger si nécessaire (datetime, object, int, float, etc.)\n",
    "\n",
    "- Choisir des noms de colonnes plus faciles à manipuler (espaces, accents...). <br/>Ressource : https://www.dataschool.io/pandas-dot-notation-vs-brackets/\n",
    "\n",
    "- Choisir un index adéquat pour votre dataframe. Les lignes ont un comportement étrange, choisissez les lignes qui vous arrangent.\n",
    "\n",
    "- Quelle période temporelle couvrent les données ?\n",
    "\n",
    "- Faîtes un choix par rapport aux valeurs manquantes. Les garder sous forme de NaN ou une autre valeur ?\n",
    "\n",
    "- Simplifiez le DataFrame : regardez vos colonnnes, cherchez à les comprendre et rassemblez celles que vous pouvez rassembler. \n",
    "\n",
    "- Sauvegardez vos données sous format **pkl** pour ne pas devoir refaire les pré-traitements à chaque fois que vous redémarrez le kernel.  \n",
    "\n",
    "\n",
    "&#x1F4A5; **Ressources**\n",
    "\n",
    "- La doc de pandas.\n",
    "\n",
    "- Voici quelques fonctions en vrac dont vous aurez besoin (read_csv,  info,  drop, to_datetime, astype, nunique, set_index)"
   ]
  },
  {
   "cell_type": "code",
   "execution_count": null,
   "metadata": {},
   "outputs": [],
   "source": [
    "# A vous de jouer ! "
   ]
  },
  {
   "cell_type": "markdown",
   "metadata": {},
   "source": [
    "# Exploration du dataset National"
   ]
  },
  {
   "cell_type": "markdown",
   "metadata": {},
   "source": [
    "## Réflexion"
   ]
  },
  {
   "cell_type": "markdown",
   "metadata": {
    "hidden": true
   },
   "source": [
    "Avant de vous lancer dans la mise en pratique, prenez quelques minutes (max 30 minutes) pour observer les données et explorer les premières statistiques descriptives : \n",
    "- Quelles questions vous posez-vous sur les données ? \n",
    "\n",
    "- Qu'avez-vous envie d'explorer ? Soyez créatifs !"
   ]
  },
  {
   "cell_type": "markdown",
   "metadata": {},
   "source": [
    "## Mise en application"
   ]
  },
  {
   "cell_type": "markdown",
   "metadata": {},
   "source": [
    "&#x1F4A5; **To Do**\n",
    "    \n",
    "L'objectif ici est de **comprendre les données** présentes dans le dataset national que vous avez créé. \n",
    "\n",
    "---\n",
    "- **Affichez vos données pour mieux les comprendre** : choisir plusieurs durées pour afficher vos données : semaine, mois, année, durée totale, faites des comparaisons... (pensez à utiliser des choses comme rolling mean) \n",
    "    - Tracer l'évolution de la consommation\n",
    "    - Tracer l'évolution de la production par source d'énergie et au niveau global,\n",
    "    - Tracer l'évolution de émissions de CO2.\n",
    "\n",
    "---\n",
    "\n",
    "- **Mix énergétique** :\n",
    "    - Trouvez plusieurs manières de visualiser les données de production : plot, pie chart, rolling mean...\n",
    "    - Quelle est la source de production largement majoritaire ?\n",
    "    - Quelle est l'évolution de la part des énergies fossiles dans le mix énergétique ?  \n",
    "    - Quelle est l'évolution de la part des énergies renouvelables dans le mix énergétique français ?\n",
    "    - Quelle est la part de chaque filière de production d'énergies renouvelables (hydraulique, solaire, ...) \n",
    "\n",
    "---\n",
    "\n",
    "- **Autonomie électrique** :\n",
    "    - comparer la production totale française à la consommation totale. Quelle est le taux d'indépendance énergétique de la france au cours du temps ? C'est à dire la proportion du temps où la France est autonome en énergie. Faire le calcul sur la durée totale mais aussi par année et par mois.\n",
    "    - Trouver les outliers    \n",
    "---\n",
    "\n",
    "- **Equilibre du réseau électrique** : Vérifier que la production, la consommation et les échanges commerciaux s'équilibrent en permanence. <br/> Ressource pour comprendre : https://fr.wikipedia.org/wiki/Ajustement_offre-demande_d%27%C3%A9lectricit%C3%A9 \n",
    "\n",
    "---\n",
    "\n",
    "- **Analyser la tendance des données** :\n",
    "    - Analyser la saisonnalité des productions, comparer les mois de l'année entre eux. Quand consomme-t-on le plus ?\n",
    "    - Printemps vs Eté vs Automne vs Hiver ?\n",
    "    - Quelle est la tendance générale de l'évolution à long terme de la production d'énergie solaire ?\n",
    "    - Quelle est la tendance générale de l'évolution à long terme de l'émission de CO2 ?\n",
    "\n",
    "---\n",
    "\n",
    "- **Impact des sources primaires de production sur le Taux de CO2** :\n",
    "    - Corrélez les données entre elles et déduisez-en l'impact positif ou négatif de chacune des sources de production sur l'estimation du taux de CO2 émis.\n",
    "    <br/> **Pandas** : https://pandas.pydata.org/docs/reference/api/pandas.DataFrame.corr.html\n",
    "    <br/> **Théorie** : https://data36.com/correlation-definition-calculation-corr-pandas/\n",
    "\n",
    "---\n",
    "- [Bonus] **Analyser les périodicités des données** :\n",
    "    - Réaliser une analyse de Fourier de vos séries temporelles\n",
    "      <br/> **Théorie et pratique** : https://realpython.com/python-scipy-fft/\n",
    "\n",
    "---\n",
    "\n",
    "- **Géopolitique** :\n",
    "    - Visualisez et analysez l'impact du COVID et de la guerre en Ukraine sur le réseau électrique ?\n",
    "\n",
    "---\n",
    "\n",
    "&#x1F4A5; **Aide**\n",
    "- Ressource utile pour vous aider à analyser les données : https://www.statistiques.developpement-durable.gouv.fr/edition-numerique/bilan-energetique-2020/\n",
    "- `pandas.DataFrame.rolling` vous aidera à afficher vos données et en comprendre les tendances. \n",
    "- Les `pandas.Grouper` vous aideront pour grouper les données temporelles.\n",
    "- la méthode `.plot()` fonctionne parfaitement avec un datetime en index\n",
    "- Corrélation : https://pandas.pydata.org/docs/reference/api/pandas.DataFrame.corr.html\n",
    "- attention aux `NaN` pour les plots."
   ]
  },
  {
   "cell_type": "code",
   "execution_count": null,
   "metadata": {},
   "outputs": [],
   "source": [
    "# A vous de jouer !"
   ]
  }
 ],
 "metadata": {
  "extensions": {
   "jupyter_dashboards": {
    "activeView": "report_default",
    "version": 1,
    "views": {
     "grid_default": {
      "cellMargin": 10,
      "defaultCellHeight": 20,
      "maxColumns": 12,
      "name": "grid",
      "type": "grid"
     },
     "report_default": {
      "name": "report",
      "type": "report"
     }
    }
   }
  },
  "kernelspec": {
   "display_name": "Python 3 (ipykernel)",
   "language": "python",
   "name": "python3"
  },
  "language_info": {
   "codemirror_mode": {
    "name": "ipython",
    "version": 3
   },
   "file_extension": ".py",
   "mimetype": "text/x-python",
   "name": "python",
   "nbconvert_exporter": "python",
   "pygments_lexer": "ipython3",
   "version": "3.11.5"
  },
  "toc": {
   "base_numbering": 1,
   "nav_menu": {},
   "number_sections": true,
   "sideBar": true,
   "skip_h1_title": true,
   "title_cell": "Table of Contents",
   "title_sidebar": "Contents",
   "toc_cell": false,
   "toc_position": {
    "height": "calc(100% - 180px)",
    "left": "10px",
    "top": "150px",
    "width": "204.067px"
   },
   "toc_section_display": true,
   "toc_window_display": false
  },
  "toc-autonumbering": true,
  "toc-showcode": false,
  "varInspector": {
   "cols": {
    "lenName": 16,
    "lenType": 16,
    "lenVar": 40
   },
   "kernels_config": {
    "python": {
     "delete_cmd_postfix": "",
     "delete_cmd_prefix": "del ",
     "library": "var_list.py",
     "varRefreshCmd": "print(var_dic_list())"
    },
    "r": {
     "delete_cmd_postfix": ") ",
     "delete_cmd_prefix": "rm(",
     "library": "var_list.r",
     "varRefreshCmd": "cat(var_dic_list()) "
    }
   },
   "types_to_exclude": [
    "module",
    "function",
    "builtin_function_or_method",
    "instance",
    "_Feature"
   ],
   "window_display": false
  }
 },
 "nbformat": 4,
 "nbformat_minor": 4
}
