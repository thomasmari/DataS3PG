{
 "cells": [
  {
   "cell_type": "markdown",
   "id": "4ce2e209",
   "metadata": {},
   "source": [
    "# Grammar of Graphics"
   ]
  },
  {
   "cell_type": "markdown",
   "id": "0cf1412f",
   "metadata": {},
   "source": [
    "Some interesting links\n",
    "\n",
    "* https://towardsdatascience.com/a-comprehensive-guide-to-the-grammar-of-graphics-for-effective-visualization-of-multi-dimensional-1f92b4ed4149\n",
    "* https://datavizcatalogue.com/\n",
    "* doc dataviz2.pdf from module dataviz2\n",
    "* http://vita.had.co.nz/papers/layered-grammar.html"
   ]
  },
  {
   "cell_type": "code",
   "execution_count": 1,
   "id": "5445e425",
   "metadata": {},
   "outputs": [],
   "source": [
    "# Import standard libraries\n",
    "\n",
    "import pandas as pd\n",
    "import numpy as np"
   ]
  },
  {
   "cell_type": "markdown",
   "id": "8273e878",
   "metadata": {},
   "source": [
    "# Creating a figure using Plotly"
   ]
  },
  {
   "cell_type": "markdown",
   "id": "29de1d7a",
   "metadata": {},
   "source": [
    "In this example, we'll use Plotly to quickly create *\"beautiful interactive web-based visualizations\"* (as stated on their website)."
   ]
  },
  {
   "cell_type": "markdown",
   "id": "1c901e3b",
   "metadata": {},
   "source": [
    "# Installing plotly\n",
    "\n",
    "basically the two packages you need to install to be able to use Plotly in your jupyter notebook are <em>plotly</em> and <em>ipywidgets</em>:\n",
    "\n",
    "* !pip install plotly ipywidgets or\n",
    "* !conda install -c plotly plotly ipywidgets\n",
    "\n",
    "you can refer to https://plotly.com/python/getting-started/#initialization-for-offline-plotting%C3%A7 for more details.\n",
    "\n",
    "Once Plotly is properly installed and integrated with jupyter lab, the following code block should generate a simple line graph:"
   ]
  },
  {
   "cell_type": "code",
   "execution_count": 2,
   "id": "a605bcdf-8d8e-4e82-b62d-ecfc548cbb9a",
   "metadata": {},
   "outputs": [
    {
     "ename": "ModuleNotFoundError",
     "evalue": "No module named 'plotly'",
     "output_type": "error",
     "traceback": [
      "\u001b[31m---------------------------------------------------------------------------\u001b[39m",
      "\u001b[31mModuleNotFoundError\u001b[39m                       Traceback (most recent call last)",
      "\u001b[36mCell\u001b[39m\u001b[36m \u001b[39m\u001b[32mIn[2]\u001b[39m\u001b[32m, line 1\u001b[39m\n\u001b[32m----> \u001b[39m\u001b[32m1\u001b[39m \u001b[38;5;28;01mimport\u001b[39;00m\u001b[38;5;250m \u001b[39m\u001b[34;01mplotly\u001b[39;00m\n\u001b[32m      3\u001b[39m \u001b[38;5;28mprint\u001b[39m(\u001b[33mf\u001b[39m\u001b[33m\"\u001b[39m\u001b[33mPlotly version check: \u001b[39m\u001b[38;5;132;01m{\u001b[39;00mplotly.__version__\u001b[38;5;132;01m}\u001b[39;00m\u001b[33m\"\u001b[39m)\n",
      "\u001b[31mModuleNotFoundError\u001b[39m: No module named 'plotly'"
     ]
    }
   ],
   "source": [
    "import plotly\n",
    "\n",
    "print(f\"Plotly version check: {plotly.__version__}\")"
   ]
  },
  {
   "cell_type": "code",
   "execution_count": null,
   "id": "631f9dc5",
   "metadata": {},
   "outputs": [
    {
     "data": {
      "application/vnd.plotly.v1+json": {
       "config": {
        "plotlyServerURL": "https://plot.ly"
       },
       "data": [
        {
         "type": "scatter",
         "uid": "8ae4fe52-8aa5-47d5-aa0a-d7e03e144d26",
         "x": [
          0,
          1,
          2,
          3,
          4,
          5,
          6,
          7,
          8,
          9
         ],
         "y": [
          1,
          2.718281828459045,
          7.38905609893065,
          20.085536923187668,
          54.598150033144236,
          148.4131591025766,
          403.4287934927351,
          1096.6331584284585,
          2980.9579870417283,
          8103.083927575384
         ]
        }
       ],
       "layout": {
        "template": {
         "data": {
          "bar": [
           {
            "error_x": {
             "color": "#2a3f5f"
            },
            "error_y": {
             "color": "#2a3f5f"
            },
            "marker": {
             "line": {
              "color": "#E5ECF6",
              "width": 0.5
             },
             "pattern": {
              "fillmode": "overlay",
              "size": 10,
              "solidity": 0.2
             }
            },
            "type": "bar"
           }
          ],
          "barpolar": [
           {
            "marker": {
             "line": {
              "color": "#E5ECF6",
              "width": 0.5
             },
             "pattern": {
              "fillmode": "overlay",
              "size": 10,
              "solidity": 0.2
             }
            },
            "type": "barpolar"
           }
          ],
          "carpet": [
           {
            "aaxis": {
             "endlinecolor": "#2a3f5f",
             "gridcolor": "white",
             "linecolor": "white",
             "minorgridcolor": "white",
             "startlinecolor": "#2a3f5f"
            },
            "baxis": {
             "endlinecolor": "#2a3f5f",
             "gridcolor": "white",
             "linecolor": "white",
             "minorgridcolor": "white",
             "startlinecolor": "#2a3f5f"
            },
            "type": "carpet"
           }
          ],
          "choropleth": [
           {
            "colorbar": {
             "outlinewidth": 0,
             "ticks": ""
            },
            "type": "choropleth"
           }
          ],
          "contour": [
           {
            "colorbar": {
             "outlinewidth": 0,
             "ticks": ""
            },
            "colorscale": [
             [
              0,
              "#0d0887"
             ],
             [
              0.1111111111111111,
              "#46039f"
             ],
             [
              0.2222222222222222,
              "#7201a8"
             ],
             [
              0.3333333333333333,
              "#9c179e"
             ],
             [
              0.4444444444444444,
              "#bd3786"
             ],
             [
              0.5555555555555556,
              "#d8576b"
             ],
             [
              0.6666666666666666,
              "#ed7953"
             ],
             [
              0.7777777777777778,
              "#fb9f3a"
             ],
             [
              0.8888888888888888,
              "#fdca26"
             ],
             [
              1,
              "#f0f921"
             ]
            ],
            "type": "contour"
           }
          ],
          "contourcarpet": [
           {
            "colorbar": {
             "outlinewidth": 0,
             "ticks": ""
            },
            "type": "contourcarpet"
           }
          ],
          "heatmap": [
           {
            "colorbar": {
             "outlinewidth": 0,
             "ticks": ""
            },
            "colorscale": [
             [
              0,
              "#0d0887"
             ],
             [
              0.1111111111111111,
              "#46039f"
             ],
             [
              0.2222222222222222,
              "#7201a8"
             ],
             [
              0.3333333333333333,
              "#9c179e"
             ],
             [
              0.4444444444444444,
              "#bd3786"
             ],
             [
              0.5555555555555556,
              "#d8576b"
             ],
             [
              0.6666666666666666,
              "#ed7953"
             ],
             [
              0.7777777777777778,
              "#fb9f3a"
             ],
             [
              0.8888888888888888,
              "#fdca26"
             ],
             [
              1,
              "#f0f921"
             ]
            ],
            "type": "heatmap"
           }
          ],
          "heatmapgl": [
           {
            "colorbar": {
             "outlinewidth": 0,
             "ticks": ""
            },
            "colorscale": [
             [
              0,
              "#0d0887"
             ],
             [
              0.1111111111111111,
              "#46039f"
             ],
             [
              0.2222222222222222,
              "#7201a8"
             ],
             [
              0.3333333333333333,
              "#9c179e"
             ],
             [
              0.4444444444444444,
              "#bd3786"
             ],
             [
              0.5555555555555556,
              "#d8576b"
             ],
             [
              0.6666666666666666,
              "#ed7953"
             ],
             [
              0.7777777777777778,
              "#fb9f3a"
             ],
             [
              0.8888888888888888,
              "#fdca26"
             ],
             [
              1,
              "#f0f921"
             ]
            ],
            "type": "heatmapgl"
           }
          ],
          "histogram": [
           {
            "marker": {
             "pattern": {
              "fillmode": "overlay",
              "size": 10,
              "solidity": 0.2
             }
            },
            "type": "histogram"
           }
          ],
          "histogram2d": [
           {
            "colorbar": {
             "outlinewidth": 0,
             "ticks": ""
            },
            "colorscale": [
             [
              0,
              "#0d0887"
             ],
             [
              0.1111111111111111,
              "#46039f"
             ],
             [
              0.2222222222222222,
              "#7201a8"
             ],
             [
              0.3333333333333333,
              "#9c179e"
             ],
             [
              0.4444444444444444,
              "#bd3786"
             ],
             [
              0.5555555555555556,
              "#d8576b"
             ],
             [
              0.6666666666666666,
              "#ed7953"
             ],
             [
              0.7777777777777778,
              "#fb9f3a"
             ],
             [
              0.8888888888888888,
              "#fdca26"
             ],
             [
              1,
              "#f0f921"
             ]
            ],
            "type": "histogram2d"
           }
          ],
          "histogram2dcontour": [
           {
            "colorbar": {
             "outlinewidth": 0,
             "ticks": ""
            },
            "colorscale": [
             [
              0,
              "#0d0887"
             ],
             [
              0.1111111111111111,
              "#46039f"
             ],
             [
              0.2222222222222222,
              "#7201a8"
             ],
             [
              0.3333333333333333,
              "#9c179e"
             ],
             [
              0.4444444444444444,
              "#bd3786"
             ],
             [
              0.5555555555555556,
              "#d8576b"
             ],
             [
              0.6666666666666666,
              "#ed7953"
             ],
             [
              0.7777777777777778,
              "#fb9f3a"
             ],
             [
              0.8888888888888888,
              "#fdca26"
             ],
             [
              1,
              "#f0f921"
             ]
            ],
            "type": "histogram2dcontour"
           }
          ],
          "mesh3d": [
           {
            "colorbar": {
             "outlinewidth": 0,
             "ticks": ""
            },
            "type": "mesh3d"
           }
          ],
          "parcoords": [
           {
            "line": {
             "colorbar": {
              "outlinewidth": 0,
              "ticks": ""
             }
            },
            "type": "parcoords"
           }
          ],
          "pie": [
           {
            "automargin": true,
            "type": "pie"
           }
          ],
          "scatter": [
           {
            "fillpattern": {
             "fillmode": "overlay",
             "size": 10,
             "solidity": 0.2
            },
            "type": "scatter"
           }
          ],
          "scatter3d": [
           {
            "line": {
             "colorbar": {
              "outlinewidth": 0,
              "ticks": ""
             }
            },
            "marker": {
             "colorbar": {
              "outlinewidth": 0,
              "ticks": ""
             }
            },
            "type": "scatter3d"
           }
          ],
          "scattercarpet": [
           {
            "marker": {
             "colorbar": {
              "outlinewidth": 0,
              "ticks": ""
             }
            },
            "type": "scattercarpet"
           }
          ],
          "scattergeo": [
           {
            "marker": {
             "colorbar": {
              "outlinewidth": 0,
              "ticks": ""
             }
            },
            "type": "scattergeo"
           }
          ],
          "scattergl": [
           {
            "marker": {
             "colorbar": {
              "outlinewidth": 0,
              "ticks": ""
             }
            },
            "type": "scattergl"
           }
          ],
          "scattermapbox": [
           {
            "marker": {
             "colorbar": {
              "outlinewidth": 0,
              "ticks": ""
             }
            },
            "type": "scattermapbox"
           }
          ],
          "scatterpolar": [
           {
            "marker": {
             "colorbar": {
              "outlinewidth": 0,
              "ticks": ""
             }
            },
            "type": "scatterpolar"
           }
          ],
          "scatterpolargl": [
           {
            "marker": {
             "colorbar": {
              "outlinewidth": 0,
              "ticks": ""
             }
            },
            "type": "scatterpolargl"
           }
          ],
          "scatterternary": [
           {
            "marker": {
             "colorbar": {
              "outlinewidth": 0,
              "ticks": ""
             }
            },
            "type": "scatterternary"
           }
          ],
          "surface": [
           {
            "colorbar": {
             "outlinewidth": 0,
             "ticks": ""
            },
            "colorscale": [
             [
              0,
              "#0d0887"
             ],
             [
              0.1111111111111111,
              "#46039f"
             ],
             [
              0.2222222222222222,
              "#7201a8"
             ],
             [
              0.3333333333333333,
              "#9c179e"
             ],
             [
              0.4444444444444444,
              "#bd3786"
             ],
             [
              0.5555555555555556,
              "#d8576b"
             ],
             [
              0.6666666666666666,
              "#ed7953"
             ],
             [
              0.7777777777777778,
              "#fb9f3a"
             ],
             [
              0.8888888888888888,
              "#fdca26"
             ],
             [
              1,
              "#f0f921"
             ]
            ],
            "type": "surface"
           }
          ],
          "table": [
           {
            "cells": {
             "fill": {
              "color": "#EBF0F8"
             },
             "line": {
              "color": "white"
             }
            },
            "header": {
             "fill": {
              "color": "#C8D4E3"
             },
             "line": {
              "color": "white"
             }
            },
            "type": "table"
           }
          ]
         },
         "layout": {
          "annotationdefaults": {
           "arrowcolor": "#2a3f5f",
           "arrowhead": 0,
           "arrowwidth": 1
          },
          "autotypenumbers": "strict",
          "coloraxis": {
           "colorbar": {
            "outlinewidth": 0,
            "ticks": ""
           }
          },
          "colorscale": {
           "diverging": [
            [
             0,
             "#8e0152"
            ],
            [
             0.1,
             "#c51b7d"
            ],
            [
             0.2,
             "#de77ae"
            ],
            [
             0.3,
             "#f1b6da"
            ],
            [
             0.4,
             "#fde0ef"
            ],
            [
             0.5,
             "#f7f7f7"
            ],
            [
             0.6,
             "#e6f5d0"
            ],
            [
             0.7,
             "#b8e186"
            ],
            [
             0.8,
             "#7fbc41"
            ],
            [
             0.9,
             "#4d9221"
            ],
            [
             1,
             "#276419"
            ]
           ],
           "sequential": [
            [
             0,
             "#0d0887"
            ],
            [
             0.1111111111111111,
             "#46039f"
            ],
            [
             0.2222222222222222,
             "#7201a8"
            ],
            [
             0.3333333333333333,
             "#9c179e"
            ],
            [
             0.4444444444444444,
             "#bd3786"
            ],
            [
             0.5555555555555556,
             "#d8576b"
            ],
            [
             0.6666666666666666,
             "#ed7953"
            ],
            [
             0.7777777777777778,
             "#fb9f3a"
            ],
            [
             0.8888888888888888,
             "#fdca26"
            ],
            [
             1,
             "#f0f921"
            ]
           ],
           "sequentialminus": [
            [
             0,
             "#0d0887"
            ],
            [
             0.1111111111111111,
             "#46039f"
            ],
            [
             0.2222222222222222,
             "#7201a8"
            ],
            [
             0.3333333333333333,
             "#9c179e"
            ],
            [
             0.4444444444444444,
             "#bd3786"
            ],
            [
             0.5555555555555556,
             "#d8576b"
            ],
            [
             0.6666666666666666,
             "#ed7953"
            ],
            [
             0.7777777777777778,
             "#fb9f3a"
            ],
            [
             0.8888888888888888,
             "#fdca26"
            ],
            [
             1,
             "#f0f921"
            ]
           ]
          },
          "colorway": [
           "#636efa",
           "#EF553B",
           "#00cc96",
           "#ab63fa",
           "#FFA15A",
           "#19d3f3",
           "#FF6692",
           "#B6E880",
           "#FF97FF",
           "#FECB52"
          ],
          "font": {
           "color": "#2a3f5f"
          },
          "geo": {
           "bgcolor": "white",
           "lakecolor": "white",
           "landcolor": "#E5ECF6",
           "showlakes": true,
           "showland": true,
           "subunitcolor": "white"
          },
          "hoverlabel": {
           "align": "left"
          },
          "hovermode": "closest",
          "mapbox": {
           "style": "light"
          },
          "paper_bgcolor": "white",
          "plot_bgcolor": "#E5ECF6",
          "polar": {
           "angularaxis": {
            "gridcolor": "white",
            "linecolor": "white",
            "ticks": ""
           },
           "bgcolor": "#E5ECF6",
           "radialaxis": {
            "gridcolor": "white",
            "linecolor": "white",
            "ticks": ""
           }
          },
          "scene": {
           "xaxis": {
            "backgroundcolor": "#E5ECF6",
            "gridcolor": "white",
            "gridwidth": 2,
            "linecolor": "white",
            "showbackground": true,
            "ticks": "",
            "zerolinecolor": "white"
           },
           "yaxis": {
            "backgroundcolor": "#E5ECF6",
            "gridcolor": "white",
            "gridwidth": 2,
            "linecolor": "white",
            "showbackground": true,
            "ticks": "",
            "zerolinecolor": "white"
           },
           "zaxis": {
            "backgroundcolor": "#E5ECF6",
            "gridcolor": "white",
            "gridwidth": 2,
            "linecolor": "white",
            "showbackground": true,
            "ticks": "",
            "zerolinecolor": "white"
           }
          },
          "shapedefaults": {
           "line": {
            "color": "#2a3f5f"
           }
          },
          "ternary": {
           "aaxis": {
            "gridcolor": "white",
            "linecolor": "white",
            "ticks": ""
           },
           "baxis": {
            "gridcolor": "white",
            "linecolor": "white",
            "ticks": ""
           },
           "bgcolor": "#E5ECF6",
           "caxis": {
            "gridcolor": "white",
            "linecolor": "white",
            "ticks": ""
           }
          },
          "title": {
           "x": 0.05
          },
          "xaxis": {
           "automargin": true,
           "gridcolor": "white",
           "linecolor": "white",
           "ticks": "",
           "title": {
            "standoff": 15
           },
           "zerolinecolor": "white",
           "zerolinewidth": 2
          },
          "yaxis": {
           "automargin": true,
           "gridcolor": "white",
           "linecolor": "white",
           "ticks": "",
           "title": {
            "standoff": 15
           },
           "zerolinecolor": "white",
           "zerolinewidth": 2
          }
         }
        },
        "title": {
         "text": "My beautiful exponential with Plotly"
        }
       }
      }
     },
     "metadata": {},
     "output_type": "display_data"
    }
   ],
   "source": [
    "import plotly.graph_objects as go\n",
    "\n",
    "x = np.arange(10)\n",
    "y = np.exp(x)\n",
    "\n",
    "figure = go.Figure()\n",
    "figure.add_scatter(x=x, y=y);\n",
    "figure.layout.title = 'My beautiful exponential with Plotly'\n",
    "\n",
    "figure.show()"
   ]
  },
  {
   "cell_type": "markdown",
   "id": "4af5d54a",
   "metadata": {},
   "source": [
    "If this isn't the case, go through the more detailed installation procedure available here:  \n",
    "https://plotly.com/python/getting-started/#initialization-for-offline-plotting  \n",
    "\n",
    "\n",
    "A possible source of error could be that Node isn't installed on your system:\n",
    "```bash\n",
    "apt install node # on Ubuntu\n",
    "```\n",
    "\n",
    "... but before you go down that path, first try to close and reopen this notebook!\n",
    "\n",
    "<center>\n",
    "    <img src=\"https://www.itro.com.au/wp-content/uploads/2020/06/Have-you-tried-turning-it-off-and-on-again.jpg\" style=\"border-radius:20px; width:500px;\"/>\n",
    "</center>"
   ]
  },
  {
   "cell_type": "markdown",
   "id": "f7ac4137",
   "metadata": {},
   "source": [
    "# Some Basics\n",
    "\n",
    "plotly links:\n",
    "* plotly express versus Graph Objects: https://plotly.com/python/graph-objects/\n",
    "* https://plotly.com/python/creating-and-updating-figures/\n",
    "* https://plotly.com/python/\n"
   ]
  },
  {
   "cell_type": "markdown",
   "id": "f9f9c098",
   "metadata": {},
   "source": [
    "Let's make the same graph with plotly express (cf https://plotly.com/python/line-and-scatter/)"
   ]
  },
  {
   "cell_type": "code",
   "execution_count": null,
   "id": "8682895c",
   "metadata": {},
   "outputs": [],
   "source": [
    "import plotly.express as px\n",
    "\n",
    "fig = px.scatter(x,y)\n",
    "fig.update_layout(title='My beautiful exponential with Plotly')\n",
    "figure.show()"
   ]
  },
  {
   "cell_type": "markdown",
   "id": "220a22ea",
   "metadata": {},
   "source": [
    "### Interactive tools top right"
   ]
  },
  {
   "cell_type": "markdown",
   "id": "5f99c413",
   "metadata": {},
   "source": [
    "You'll see that if you make a plot with more than 19 points the lasso and box select dissapear. In addition they only work with markers present in the plot, not lines.\n",
    "In figure.add_scatter you need to explicitely mention mode='markers' or mode='lines+markers'. "
   ]
  },
  {
   "cell_type": "code",
   "execution_count": null,
   "id": "dcf5f973",
   "metadata": {},
   "outputs": [],
   "source": [
    "x = np.arange(20)\n",
    "y = np.exp(x)\n",
    "\n",
    "figure = go.Figure()\n",
    "figure.add_scatter(x=x, y=y, mode='lines+markers')\n",
    "figure.layout.title = 'My beautiful exponential with Plotly'\n",
    "\n",
    "figure.show()"
   ]
  },
  {
   "cell_type": "code",
   "execution_count": null,
   "id": "f1cfc3bd",
   "metadata": {},
   "outputs": [],
   "source": [
    "# Example data set\n",
    "\n",
    "x = np.arange(0, 50)\n",
    "y1 = x/10 + np.random.normal(size=len(x))\n",
    "y2 = x/10 + np.random.normal(size=len(x))\n",
    "\n",
    "df = pd.DataFrame({'x':x, 'y1':y1, 'y2':y2})\n",
    "df.head()"
   ]
  },
  {
   "cell_type": "code",
   "execution_count": null,
   "id": "d1b22f17",
   "metadata": {},
   "outputs": [],
   "source": [
    "# plot with add_scatter\n",
    "\n",
    "fig = go.Figure()\n",
    "fig.add_scatter(x=x, y=y1, mode='markers', opacity=0.9, line=dict(color=\"red\"))\n",
    "fig.add_scatter(x=x, y=y2, mode='markers', opacity=0.9, line=dict(color=\"green\"))\n",
    "fig.layout.title = 'My random scatter plot'\n",
    "\n",
    "fig.show()"
   ]
  },
  {
   "cell_type": "code",
   "execution_count": null,
   "id": "ff8d882c",
   "metadata": {},
   "outputs": [],
   "source": [
    "# plot with add_trace(go.Scatter)\n",
    "\n",
    "fig = go.Figure()\n",
    "fig.add_trace(go.Scatter(x=x, y=y1, mode='markers', opacity=0.9, line=dict(color=\"red\")))\n",
    "fig.add_trace(go.Scatter(x=x, y=y2, mode='markers', opacity=0.9, line=dict(color=\"green\")))\n",
    "fig.layout.title = 'My random scatter plot'\n",
    "\n",
    "fig.show()"
   ]
  },
  {
   "cell_type": "code",
   "execution_count": null,
   "id": "a92c5ce0",
   "metadata": {},
   "outputs": [],
   "source": [
    "# plot with add_trace(go.Bar)\n",
    "\n",
    "fig = go.Figure()\n",
    "fig.add_trace(go.Bar(x=df[\"x\"], y=df[\"y1\"], name=\"bar1\", marker_color='purple'))\n",
    "fig.add_trace(go.Bar(x=df[\"x\"], y=df[\"y2\"], name=\"bar2\", marker_color='grey'))\n",
    "fig.layout.title = 'My random bar plot'\n",
    "fig.show()"
   ]
  },
  {
   "cell_type": "markdown",
   "id": "7ff0ae4f",
   "metadata": {},
   "source": [
    "### Some annotations outside the plot"
   ]
  },
  {
   "cell_type": "code",
   "execution_count": null,
   "id": "00510ef5",
   "metadata": {},
   "outputs": [],
   "source": [
    "fig = go.Figure()\n",
    "fig.add_trace(go.Bar(x=df[\"x\"], y=df[\"y1\"], name=\"bar1\", marker_color='purple'))\n",
    "fig.add_trace(go.Bar(x=df[\"x\"], y=df[\"y2\"], name=\"bar2\", marker_color='grey'))\n",
    "\n",
    "text = {\n",
    "    'title': \"The same bar plot but with a title...\",\n",
    "    'source': \"It's magic 🌈\"\n",
    "}\n",
    "\n",
    "annotations = []\n",
    "\n",
    "# add a title (used to describe the figure)\n",
    "annotations.append(dict(xref='paper', yref='paper',\n",
    "                        x=0.5, y=1.1,\n",
    "                        xanchor='center', yanchor='bottom',\n",
    "                        text=text[\"title\"],\n",
    "                        font=dict(family=\"Courier New\",\n",
    "                                  size=26,\n",
    "                                  color=\"orange\"),\n",
    "                        showarrow=False))\n",
    "\n",
    "\n",
    "# add text at the bottom of the figure\n",
    "annotations.append(dict(xref='paper', yref='paper',\n",
    "                        x=1, y=-0.2,\n",
    "                        xanchor='center', yanchor='top',\n",
    "                        text=text[\"source\"],\n",
    "                        font=dict(family=\"Courier New\",\n",
    "                                  size=11,\n",
    "                                  color=\"grey\"),\n",
    "                        showarrow=False))\n",
    "\n",
    "\n",
    "fig.update_layout(annotations=annotations)\n",
    "fig.show()"
   ]
  },
  {
   "cell_type": "markdown",
   "id": "0c9700cb",
   "metadata": {},
   "source": [
    "### Some annotations inside the plot"
   ]
  },
  {
   "cell_type": "markdown",
   "id": "081bde22-f454-4746-a590-96da6272b610",
   "metadata": {},
   "source": [
    "Checkout https://plotly.com/python/text-and-annotations/ to find everything you'll need as far as anotating Figures is concerned!"
   ]
  },
  {
   "cell_type": "code",
   "execution_count": null,
   "id": "52abc736",
   "metadata": {},
   "outputs": [],
   "source": [
    "fig = go.Figure()\n",
    "fig.add_trace(go.Bar(x=df[\"x\"], y=df[\"y1\"], name=\"bar1\", marker_color='purple'))\n",
    "fig.add_trace(go.Bar(x=df[\"x\"], y=df[\"y2\"], name=\"bar2\", marker_color='grey'))\n",
    "\n",
    "text = {\n",
    "    'title': \"Still the same bar plot\",\n",
    "    'source': \"It's still magic 🌈🦄\"\n",
    "}\n",
    "\n",
    "annotations = [] # empty annotations list\n",
    "\n",
    "# add a title\n",
    "annotations.append(dict(xref='paper', yref='paper',\n",
    "                        x=0.5, y=1.1,\n",
    "                        xanchor='center', yanchor='bottom',\n",
    "                        text=text[\"title\"],\n",
    "                        font=dict(family=\"Courier New\",\n",
    "                                  size=26,\n",
    "                                  color=\"orange\"),\n",
    "                        showarrow=False))\n",
    "\n",
    "\n",
    "# add text at the bottom of the figure\n",
    "annotations.append(dict(xref='paper', yref='paper',\n",
    "                        x=0.5, y=-0.1,\n",
    "                        xanchor='center', yanchor='top',\n",
    "                        text=text[\"source\"],\n",
    "                        font=dict(family=\"Courier New\",\n",
    "                                  size=12,\n",
    "                                  color=\"grey\"),\n",
    "                        showarrow=False))\n",
    "\n",
    "# add bar1 legend directly into the plot\n",
    "annotations.append(dict(xref='x', yref='y1',\n",
    "                        x=list(df['x'])[-1]+1,\n",
    "                        y=list(df['y2'])[-1],\n",
    "                        xanchor='left', yanchor='middle',\n",
    "                        text='Bar1 legend',\n",
    "                        font=dict(family='Courier New',\n",
    "                                  size=14,\n",
    "                                  color=\"darkgrey\"),\n",
    "                        showarrow=False))\n",
    "\n",
    "\n",
    "fig.update_layout(annotations=annotations)\n",
    "fig.show()"
   ]
  },
  {
   "cell_type": "markdown",
   "id": "7a686570",
   "metadata": {},
   "source": [
    "### My first widget: add a simple drop down menu\n",
    "\n",
    "Example dropdown from: see also: https://plotly.com/python/dropdowns/"
   ]
  },
  {
   "cell_type": "code",
   "execution_count": null,
   "id": "2540286b",
   "metadata": {},
   "outputs": [],
   "source": [
    "### Reshape df :  turn column into a value\n",
    "# Example data set\n",
    "\n",
    "x = np.arange(0, 50)\n",
    "y1 = x/10 + np.random.normal(size=len(x))\n",
    "y2 = x/10 + np.random.normal(size=len(x))\n",
    "\n",
    "df = pd.DataFrame({'x':x, 'y1':y1, 'y2':y2})\n",
    "df.head()"
   ]
  },
  {
   "cell_type": "code",
   "execution_count": null,
   "id": "6be26ee1",
   "metadata": {
    "scrolled": true
   },
   "outputs": [],
   "source": [
    "df_ = df.melt(id_vars=['x'], value_vars=['y1', 'y2'])\n",
    "df_.head()"
   ]
  },
  {
   "cell_type": "code",
   "execution_count": null,
   "id": "31252288",
   "metadata": {},
   "outputs": [],
   "source": [
    "font = {\n",
    "    'color': {\n",
    "        'y1': 'purple',\n",
    "        'y2': 'seagreen',\n",
    "    },\n",
    "}"
   ]
  },
  {
   "cell_type": "code",
   "execution_count": null,
   "id": "7ec0e335",
   "metadata": {},
   "outputs": [],
   "source": [
    "fig_int = go.Figure()\n",
    "\n",
    "df_y1 = df_[df_['variable'] == 'y1']\n",
    "df_y2 = df_[df_['variable'] == 'y2']\n",
    "\n",
    "fig_int.add_trace(go.Bar(x=df_y1[\"x\"], y=df_y1[\"value\"], name=\"bar1\", marker_color='purple', visible=True))\n",
    "fig_int.add_trace(go.Bar(x=df_y2[\"x\"], y=df_y1[\"value\"], name=\"bar2\", marker_color='grey', visible=True))\n",
    "\n",
    "# OR\n",
    "\"\"\"\n",
    "for v in df_['variable'].unique():\n",
    "    dff = df_[df_['variable'] == v]\n",
    "    fig_int.add_trace(go.Bar(\n",
    "        x=dff['x'],\n",
    "        y=dff['value'],\n",
    "        name='trace '+v+'',\n",
    "        marker_color=font['color'][v],\n",
    "        legendgroup=v,\n",
    "        legendgrouptitle=dict(text=v),\n",
    "        visible=True,\n",
    "    ))\n",
    "\"\"\"\n",
    "\n",
    "# Add dropdown\n",
    "fig_int.update_layout(\n",
    "    updatemenus=[\n",
    "        dict(\n",
    "            buttons=list([\n",
    "                dict(\n",
    "                    args=[{\"visible\": [True, True]}],\n",
    "                    label=\"all traces\",\n",
    "                    method=\"update\"\n",
    "                ),\n",
    "                dict(\n",
    "                    args= [{\"visible\": [True, False]}],\n",
    "                    label=\"y1 trace\",\n",
    "                    method=\"update\",\n",
    "                ),\n",
    "                dict(\n",
    "                    args=[{\"visible\": [False, True]}],\n",
    "                    label=\"y2 trace\",\n",
    "                    method=\"update\"\n",
    "                )\n",
    "            ]),\n",
    "            direction=\"down\",\n",
    "            pad={\"r\": 10, \"t\": 10},\n",
    "            showactive=True,\n",
    "            x=0,\n",
    "            xanchor=\"left\",\n",
    "            y=1,\n",
    "            yanchor=\"bottom\"\n",
    "        ),\n",
    "    ]\n",
    ")\n",
    "fig_int.show()"
   ]
  },
  {
   "cell_type": "code",
   "execution_count": null,
   "id": "41de9c73-9e15-4612-b87f-d64491e18a48",
   "metadata": {},
   "outputs": [],
   "source": []
  }
 ],
 "metadata": {
  "kernelspec": {
   "display_name": "dataviz",
   "language": "python",
   "name": "python3"
  },
  "language_info": {
   "codemirror_mode": {
    "name": "ipython",
    "version": 3
   },
   "file_extension": ".py",
   "mimetype": "text/x-python",
   "name": "python",
   "nbconvert_exporter": "python",
   "pygments_lexer": "ipython3",
   "version": "3.11.13"
  }
 },
 "nbformat": 4,
 "nbformat_minor": 5
}
