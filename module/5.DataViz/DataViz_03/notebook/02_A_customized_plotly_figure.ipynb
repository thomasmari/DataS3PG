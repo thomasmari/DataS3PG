{
 "cells": [
  {
   "cell_type": "code",
   "execution_count": 1,
   "id": "5445e425",
   "metadata": {},
   "outputs": [],
   "source": [
    "# Import standard libraries\n",
    "\n",
    "import pandas as pd\n",
    "import os"
   ]
  },
  {
   "cell_type": "markdown",
   "id": "f7ac4137",
   "metadata": {},
   "source": [
    "# Telling a story\n",
    "\n",
    "You want to create a figure that answers a _single_ question, for example:\n",
    "\n",
    "<H4>\n",
    "    <font color='orange'><b> --> How does the national energy consumption evolve with the change in temperature? </b></font>\n",
    "</H4>\n",
    "\n",
    "You should also determine who will be your audience (to the best of your knowledge):\n",
    "\n",
    "<H4>\n",
    "    <font color='orange'><b> My audience: A public of non experts </b></font>\n",
    "</H4>"
   ]
  },
  {
   "cell_type": "markdown",
   "id": "5a3b4ec1-885f-45e3-8e3e-3f82f4499cb1",
   "metadata": {},
   "source": [
    "Now that these two aspects are clearly stated, let's go throuh the process of answering our question with a nice Figure!  \n",
    "But first we need data!"
   ]
  },
  {
   "cell_type": "markdown",
   "id": "55b19c25",
   "metadata": {},
   "source": [
    "## Import the data"
   ]
  },
  {
   "cell_type": "markdown",
   "id": "eb76089d",
   "metadata": {},
   "source": [
    "Download the \"Pickles\" folder from google drive (*.../Modules/DataViz/DataViz3/Pickles)* and unzip its content in a new folder. There should be a total of 4 pickles in the folder:"
   ]
  },
  {
   "cell_type": "code",
   "execution_count": 2,
   "id": "b4b460b2",
   "metadata": {},
   "outputs": [
    {
     "data": {
      "text/plain": [
       "['df_eolien_norm.pkl',\n",
       " 'df_data_nationales.pkl',\n",
       " 'df_solaire_norm.pkl',\n",
       " 'df_temperatures.pkl']"
      ]
     },
     "execution_count": 2,
     "metadata": {},
     "output_type": "execute_result"
    }
   ],
   "source": [
    "path_to_pickles = '../data/Pickles'\n",
    "\n",
    "os.listdir(path_to_pickles)"
   ]
  },
  {
   "cell_type": "markdown",
   "id": "318a68d6",
   "metadata": {},
   "source": [
    "Import the relevant pickles into pandas dataframes:"
   ]
  },
  {
   "cell_type": "code",
   "execution_count": 3,
   "id": "59ef57f6",
   "metadata": {},
   "outputs": [],
   "source": [
    "import pandas as pd\n",
    "\n",
    "directory = path_to_pickles\n",
    "\n",
    "df_data_nationales = pd.read_pickle(directory + '/df_data_nationales.pkl')\n",
    "df_temperatures = pd.read_pickle(directory + '/df_temperatures.pkl')\n",
    "# df_solaire = pd.read_pickle(directory + '/df_solaire_norm.pkl')\n",
    "# df_eolien = pd.read_pickle(directory + '/df_eolien_norm.pkl')"
   ]
  },
  {
   "cell_type": "code",
   "execution_count": 4,
   "id": "e00c6847",
   "metadata": {},
   "outputs": [
    {
     "data": {
      "text/html": [
       "<div>\n",
       "<style scoped>\n",
       "    .dataframe tbody tr th:only-of-type {\n",
       "        vertical-align: middle;\n",
       "    }\n",
       "\n",
       "    .dataframe tbody tr th {\n",
       "        vertical-align: top;\n",
       "    }\n",
       "\n",
       "    .dataframe thead th {\n",
       "        text-align: right;\n",
       "    }\n",
       "</style>\n",
       "<table border=\"1\" class=\"dataframe\">\n",
       "  <thead>\n",
       "    <tr style=\"text-align: right;\">\n",
       "      <th></th>\n",
       "      <th>Consommation</th>\n",
       "      <th>Fioul</th>\n",
       "      <th>Charbon</th>\n",
       "      <th>Gaz</th>\n",
       "      <th>Nucléaire</th>\n",
       "      <th>Eolien</th>\n",
       "      <th>Solaire</th>\n",
       "      <th>Hydraulique</th>\n",
       "      <th>Pompage</th>\n",
       "      <th>Bioénergies</th>\n",
       "      <th>Ech. physiques</th>\n",
       "    </tr>\n",
       "    <tr>\n",
       "      <th>DateTime</th>\n",
       "      <th></th>\n",
       "      <th></th>\n",
       "      <th></th>\n",
       "      <th></th>\n",
       "      <th></th>\n",
       "      <th></th>\n",
       "      <th></th>\n",
       "      <th></th>\n",
       "      <th></th>\n",
       "      <th></th>\n",
       "      <th></th>\n",
       "    </tr>\n",
       "  </thead>\n",
       "  <tbody>\n",
       "    <tr>\n",
       "      <th>2012-01-01 00:00:00</th>\n",
       "      <td>58315.0</td>\n",
       "      <td>492.0</td>\n",
       "      <td>25.0</td>\n",
       "      <td>3816.0</td>\n",
       "      <td>52697.0</td>\n",
       "      <td>3588.0</td>\n",
       "      <td>0.0</td>\n",
       "      <td>7922.0</td>\n",
       "      <td>-1139.0</td>\n",
       "      <td>719.0</td>\n",
       "      <td>-9806.0</td>\n",
       "    </tr>\n",
       "    <tr>\n",
       "      <th>2012-01-01 00:15:00</th>\n",
       "      <td>NaN</td>\n",
       "      <td>NaN</td>\n",
       "      <td>NaN</td>\n",
       "      <td>NaN</td>\n",
       "      <td>NaN</td>\n",
       "      <td>NaN</td>\n",
       "      <td>NaN</td>\n",
       "      <td>NaN</td>\n",
       "      <td>NaN</td>\n",
       "      <td>NaN</td>\n",
       "      <td>NaN</td>\n",
       "    </tr>\n",
       "    <tr>\n",
       "      <th>2012-01-01 00:30:00</th>\n",
       "      <td>58315.0</td>\n",
       "      <td>492.0</td>\n",
       "      <td>25.0</td>\n",
       "      <td>3816.0</td>\n",
       "      <td>52697.0</td>\n",
       "      <td>3588.0</td>\n",
       "      <td>0.0</td>\n",
       "      <td>7922.0</td>\n",
       "      <td>-1139.0</td>\n",
       "      <td>719.0</td>\n",
       "      <td>-9806.0</td>\n",
       "    </tr>\n",
       "    <tr>\n",
       "      <th>2012-01-01 00:45:00</th>\n",
       "      <td>NaN</td>\n",
       "      <td>NaN</td>\n",
       "      <td>NaN</td>\n",
       "      <td>NaN</td>\n",
       "      <td>NaN</td>\n",
       "      <td>NaN</td>\n",
       "      <td>NaN</td>\n",
       "      <td>NaN</td>\n",
       "      <td>NaN</td>\n",
       "      <td>NaN</td>\n",
       "      <td>NaN</td>\n",
       "    </tr>\n",
       "    <tr>\n",
       "      <th>2012-01-01 01:00:00</th>\n",
       "      <td>56231.0</td>\n",
       "      <td>492.0</td>\n",
       "      <td>25.0</td>\n",
       "      <td>3834.0</td>\n",
       "      <td>51747.0</td>\n",
       "      <td>3536.0</td>\n",
       "      <td>0.0</td>\n",
       "      <td>7598.0</td>\n",
       "      <td>-1730.0</td>\n",
       "      <td>721.0</td>\n",
       "      <td>-9993.0</td>\n",
       "    </tr>\n",
       "  </tbody>\n",
       "</table>\n",
       "</div>"
      ],
      "text/plain": [
       "                     Consommation  Fioul  Charbon     Gaz  Nucléaire  Eolien  \\\n",
       "DateTime                                                                       \n",
       "2012-01-01 00:00:00       58315.0  492.0     25.0  3816.0    52697.0  3588.0   \n",
       "2012-01-01 00:15:00           NaN    NaN      NaN     NaN        NaN     NaN   \n",
       "2012-01-01 00:30:00       58315.0  492.0     25.0  3816.0    52697.0  3588.0   \n",
       "2012-01-01 00:45:00           NaN    NaN      NaN     NaN        NaN     NaN   \n",
       "2012-01-01 01:00:00       56231.0  492.0     25.0  3834.0    51747.0  3536.0   \n",
       "\n",
       "                     Solaire  Hydraulique  Pompage  Bioénergies  \\\n",
       "DateTime                                                          \n",
       "2012-01-01 00:00:00      0.0       7922.0  -1139.0        719.0   \n",
       "2012-01-01 00:15:00      NaN          NaN      NaN          NaN   \n",
       "2012-01-01 00:30:00      0.0       7922.0  -1139.0        719.0   \n",
       "2012-01-01 00:45:00      NaN          NaN      NaN          NaN   \n",
       "2012-01-01 01:00:00      0.0       7598.0  -1730.0        721.0   \n",
       "\n",
       "                     Ech. physiques  \n",
       "DateTime                             \n",
       "2012-01-01 00:00:00         -9806.0  \n",
       "2012-01-01 00:15:00             NaN  \n",
       "2012-01-01 00:30:00         -9806.0  \n",
       "2012-01-01 00:45:00             NaN  \n",
       "2012-01-01 01:00:00         -9993.0  "
      ]
     },
     "execution_count": 4,
     "metadata": {},
     "output_type": "execute_result"
    }
   ],
   "source": [
    "df_data_nationales.head()"
   ]
  },
  {
   "cell_type": "code",
   "execution_count": 5,
   "id": "1c416fde",
   "metadata": {
    "scrolled": true
   },
   "outputs": [
    {
     "data": {
      "text/html": [
       "<div>\n",
       "<style scoped>\n",
       "    .dataframe tbody tr th:only-of-type {\n",
       "        vertical-align: middle;\n",
       "    }\n",
       "\n",
       "    .dataframe tbody tr th {\n",
       "        vertical-align: top;\n",
       "    }\n",
       "\n",
       "    .dataframe thead th {\n",
       "        text-align: right;\n",
       "    }\n",
       "</style>\n",
       "<table border=\"1\" class=\"dataframe\">\n",
       "  <thead>\n",
       "    <tr style=\"text-align: right;\">\n",
       "      <th>Region</th>\n",
       "      <th>Auvergne-Rhône-Alpes</th>\n",
       "      <th>Bourgogne-Franche-Comté</th>\n",
       "      <th>Bretagne</th>\n",
       "      <th>Centre-Val de Loire</th>\n",
       "      <th>Grand-Est</th>\n",
       "      <th>Hauts-de-France</th>\n",
       "      <th>Ile-de-France</th>\n",
       "      <th>Normandie</th>\n",
       "      <th>Nouvelle-Aquitaine</th>\n",
       "      <th>Occitanie</th>\n",
       "      <th>PACA</th>\n",
       "      <th>Pays-de-la-Loire</th>\n",
       "    </tr>\n",
       "    <tr>\n",
       "      <th>date_validite</th>\n",
       "      <th></th>\n",
       "      <th></th>\n",
       "      <th></th>\n",
       "      <th></th>\n",
       "      <th></th>\n",
       "      <th></th>\n",
       "      <th></th>\n",
       "      <th></th>\n",
       "      <th></th>\n",
       "      <th></th>\n",
       "      <th></th>\n",
       "      <th></th>\n",
       "    </tr>\n",
       "  </thead>\n",
       "  <tbody>\n",
       "    <tr>\n",
       "      <th>2013-01-01 23:00:00</th>\n",
       "      <td>5.75</td>\n",
       "      <td>3.55</td>\n",
       "      <td>6.400000</td>\n",
       "      <td>3.55</td>\n",
       "      <td>4.78</td>\n",
       "      <td>4.50</td>\n",
       "      <td>3.54</td>\n",
       "      <td>4.6</td>\n",
       "      <td>5.0</td>\n",
       "      <td>5.933333</td>\n",
       "      <td>6.750</td>\n",
       "      <td>4.45</td>\n",
       "    </tr>\n",
       "    <tr>\n",
       "      <th>2013-01-02 00:00:00</th>\n",
       "      <td>5.30</td>\n",
       "      <td>2.95</td>\n",
       "      <td>6.366667</td>\n",
       "      <td>3.25</td>\n",
       "      <td>4.42</td>\n",
       "      <td>4.60</td>\n",
       "      <td>3.38</td>\n",
       "      <td>4.8</td>\n",
       "      <td>5.1</td>\n",
       "      <td>5.600000</td>\n",
       "      <td>6.425</td>\n",
       "      <td>4.10</td>\n",
       "    </tr>\n",
       "    <tr>\n",
       "      <th>2013-01-02 01:00:00</th>\n",
       "      <td>4.90</td>\n",
       "      <td>2.35</td>\n",
       "      <td>6.300000</td>\n",
       "      <td>3.10</td>\n",
       "      <td>4.06</td>\n",
       "      <td>4.75</td>\n",
       "      <td>3.34</td>\n",
       "      <td>5.0</td>\n",
       "      <td>5.3</td>\n",
       "      <td>5.400000</td>\n",
       "      <td>6.150</td>\n",
       "      <td>3.95</td>\n",
       "    </tr>\n",
       "    <tr>\n",
       "      <th>2013-01-02 02:00:00</th>\n",
       "      <td>4.60</td>\n",
       "      <td>1.85</td>\n",
       "      <td>5.966667</td>\n",
       "      <td>3.15</td>\n",
       "      <td>3.74</td>\n",
       "      <td>4.80</td>\n",
       "      <td>3.44</td>\n",
       "      <td>5.2</td>\n",
       "      <td>5.4</td>\n",
       "      <td>5.283333</td>\n",
       "      <td>5.875</td>\n",
       "      <td>3.90</td>\n",
       "    </tr>\n",
       "    <tr>\n",
       "      <th>2013-01-02 03:00:00</th>\n",
       "      <td>4.30</td>\n",
       "      <td>1.50</td>\n",
       "      <td>5.833333</td>\n",
       "      <td>3.00</td>\n",
       "      <td>3.40</td>\n",
       "      <td>4.90</td>\n",
       "      <td>3.46</td>\n",
       "      <td>5.3</td>\n",
       "      <td>5.3</td>\n",
       "      <td>5.316667</td>\n",
       "      <td>5.600</td>\n",
       "      <td>3.75</td>\n",
       "    </tr>\n",
       "  </tbody>\n",
       "</table>\n",
       "</div>"
      ],
      "text/plain": [
       "Region               Auvergne-Rhône-Alpes  Bourgogne-Franche-Comté  Bretagne  \\\n",
       "date_validite                                                                  \n",
       "2013-01-01 23:00:00                  5.75                     3.55  6.400000   \n",
       "2013-01-02 00:00:00                  5.30                     2.95  6.366667   \n",
       "2013-01-02 01:00:00                  4.90                     2.35  6.300000   \n",
       "2013-01-02 02:00:00                  4.60                     1.85  5.966667   \n",
       "2013-01-02 03:00:00                  4.30                     1.50  5.833333   \n",
       "\n",
       "Region               Centre-Val de Loire  Grand-Est  Hauts-de-France  \\\n",
       "date_validite                                                          \n",
       "2013-01-01 23:00:00                 3.55       4.78             4.50   \n",
       "2013-01-02 00:00:00                 3.25       4.42             4.60   \n",
       "2013-01-02 01:00:00                 3.10       4.06             4.75   \n",
       "2013-01-02 02:00:00                 3.15       3.74             4.80   \n",
       "2013-01-02 03:00:00                 3.00       3.40             4.90   \n",
       "\n",
       "Region               Ile-de-France  Normandie  Nouvelle-Aquitaine  Occitanie  \\\n",
       "date_validite                                                                  \n",
       "2013-01-01 23:00:00           3.54        4.6                 5.0   5.933333   \n",
       "2013-01-02 00:00:00           3.38        4.8                 5.1   5.600000   \n",
       "2013-01-02 01:00:00           3.34        5.0                 5.3   5.400000   \n",
       "2013-01-02 02:00:00           3.44        5.2                 5.4   5.283333   \n",
       "2013-01-02 03:00:00           3.46        5.3                 5.3   5.316667   \n",
       "\n",
       "Region                PACA  Pays-de-la-Loire  \n",
       "date_validite                                 \n",
       "2013-01-01 23:00:00  6.750              4.45  \n",
       "2013-01-02 00:00:00  6.425              4.10  \n",
       "2013-01-02 01:00:00  6.150              3.95  \n",
       "2013-01-02 02:00:00  5.875              3.90  \n",
       "2013-01-02 03:00:00  5.600              3.75  "
      ]
     },
     "execution_count": 5,
     "metadata": {},
     "output_type": "execute_result"
    }
   ],
   "source": [
    "df_temperatures.head()"
   ]
  },
  {
   "cell_type": "markdown",
   "id": "f3273f9a",
   "metadata": {},
   "source": [
    "Check missing values with missingno package"
   ]
  },
  {
   "cell_type": "code",
   "execution_count": 6,
   "id": "22f22607",
   "metadata": {},
   "outputs": [
    {
     "ename": "ValueError",
     "evalue": "keyword grid_b is not recognized; valid keywords are ['size', 'width', 'color', 'tickdir', 'pad', 'labelsize', 'labelcolor', 'labelfontfamily', 'zorder', 'gridOn', 'tick1On', 'tick2On', 'label1On', 'label2On', 'length', 'direction', 'left', 'bottom', 'right', 'top', 'labelleft', 'labelbottom', 'labelright', 'labeltop', 'labelrotation', 'grid_agg_filter', 'grid_alpha', 'grid_animated', 'grid_antialiased', 'grid_clip_box', 'grid_clip_on', 'grid_clip_path', 'grid_color', 'grid_dash_capstyle', 'grid_dash_joinstyle', 'grid_dashes', 'grid_data', 'grid_drawstyle', 'grid_figure', 'grid_fillstyle', 'grid_gapcolor', 'grid_gid', 'grid_in_layout', 'grid_label', 'grid_linestyle', 'grid_linewidth', 'grid_marker', 'grid_markeredgecolor', 'grid_markeredgewidth', 'grid_markerfacecolor', 'grid_markerfacecoloralt', 'grid_markersize', 'grid_markevery', 'grid_mouseover', 'grid_path_effects', 'grid_picker', 'grid_pickradius', 'grid_rasterized', 'grid_sketch_params', 'grid_snap', 'grid_solid_capstyle', 'grid_solid_joinstyle', 'grid_transform', 'grid_url', 'grid_visible', 'grid_xdata', 'grid_ydata', 'grid_zorder', 'grid_aa', 'grid_c', 'grid_ds', 'grid_ls', 'grid_lw', 'grid_mec', 'grid_mew', 'grid_mfc', 'grid_mfcalt', 'grid_ms']",
     "output_type": "error",
     "traceback": [
      "\u001b[31m---------------------------------------------------------------------------\u001b[39m",
      "\u001b[31mValueError\u001b[39m                                Traceback (most recent call last)",
      "\u001b[36mCell\u001b[39m\u001b[36m \u001b[39m\u001b[32mIn[6]\u001b[39m\u001b[32m, line 3\u001b[39m\n\u001b[32m      1\u001b[39m \u001b[38;5;28;01mimport\u001b[39;00m\u001b[38;5;250m \u001b[39m\u001b[34;01mmissingno\u001b[39;00m\u001b[38;5;250m \u001b[39m\u001b[38;5;28;01mas\u001b[39;00m\u001b[38;5;250m \u001b[39m\u001b[34;01mmsno\u001b[39;00m \u001b[38;5;66;03m#install with pip/conda if necessary\u001b[39;00m\n\u001b[32m----> \u001b[39m\u001b[32m3\u001b[39m \u001b[43mmsno\u001b[49m\u001b[43m.\u001b[49m\u001b[43mmatrix\u001b[49m\u001b[43m(\u001b[49m\u001b[43mdf_temperatures\u001b[49m\u001b[43m)\u001b[49m\n\u001b[32m      4\u001b[39m msno.matrix(df_data_nationales)\n",
      "\u001b[36mFile \u001b[39m\u001b[32m~/anaconda3/envs/dataviz/lib/python3.11/site-packages/missingno/missingno.py:72\u001b[39m, in \u001b[36mmatrix\u001b[39m\u001b[34m(df, filter, n, p, sort, figsize, width_ratios, color, fontsize, labels, sparkline, inline, freq, ax)\u001b[39m\n\u001b[32m     70\u001b[39m \u001b[38;5;66;03m# Remove extraneous default visual elements.\u001b[39;00m\n\u001b[32m     71\u001b[39m ax0.set_aspect(\u001b[33m'\u001b[39m\u001b[33mauto\u001b[39m\u001b[33m'\u001b[39m)\n\u001b[32m---> \u001b[39m\u001b[32m72\u001b[39m \u001b[43max0\u001b[49m\u001b[43m.\u001b[49m\u001b[43mgrid\u001b[49m\u001b[43m(\u001b[49m\u001b[43mb\u001b[49m\u001b[43m=\u001b[49m\u001b[38;5;28;43;01mFalse\u001b[39;49;00m\u001b[43m)\u001b[49m\n\u001b[32m     73\u001b[39m ax0.xaxis.tick_top()\n\u001b[32m     74\u001b[39m ax0.xaxis.set_ticks_position(\u001b[33m'\u001b[39m\u001b[33mnone\u001b[39m\u001b[33m'\u001b[39m)\n",
      "\u001b[36mFile \u001b[39m\u001b[32m~/anaconda3/envs/dataviz/lib/python3.11/site-packages/matplotlib/axes/_base.py:3312\u001b[39m, in \u001b[36m_AxesBase.grid\u001b[39m\u001b[34m(self, visible, which, axis, **kwargs)\u001b[39m\n\u001b[32m   3310\u001b[39m _api.check_in_list([\u001b[33m'\u001b[39m\u001b[33mx\u001b[39m\u001b[33m'\u001b[39m, \u001b[33m'\u001b[39m\u001b[33my\u001b[39m\u001b[33m'\u001b[39m, \u001b[33m'\u001b[39m\u001b[33mboth\u001b[39m\u001b[33m'\u001b[39m], axis=axis)\n\u001b[32m   3311\u001b[39m \u001b[38;5;28;01mif\u001b[39;00m axis \u001b[38;5;129;01min\u001b[39;00m [\u001b[33m'\u001b[39m\u001b[33mx\u001b[39m\u001b[33m'\u001b[39m, \u001b[33m'\u001b[39m\u001b[33mboth\u001b[39m\u001b[33m'\u001b[39m]:\n\u001b[32m-> \u001b[39m\u001b[32m3312\u001b[39m     \u001b[38;5;28;43mself\u001b[39;49m\u001b[43m.\u001b[49m\u001b[43mxaxis\u001b[49m\u001b[43m.\u001b[49m\u001b[43mgrid\u001b[49m\u001b[43m(\u001b[49m\u001b[43mvisible\u001b[49m\u001b[43m,\u001b[49m\u001b[43m \u001b[49m\u001b[43mwhich\u001b[49m\u001b[43m=\u001b[49m\u001b[43mwhich\u001b[49m\u001b[43m,\u001b[49m\u001b[43m \u001b[49m\u001b[43m*\u001b[49m\u001b[43m*\u001b[49m\u001b[43mkwargs\u001b[49m\u001b[43m)\u001b[49m\n\u001b[32m   3313\u001b[39m \u001b[38;5;28;01mif\u001b[39;00m axis \u001b[38;5;129;01min\u001b[39;00m [\u001b[33m'\u001b[39m\u001b[33my\u001b[39m\u001b[33m'\u001b[39m, \u001b[33m'\u001b[39m\u001b[33mboth\u001b[39m\u001b[33m'\u001b[39m]:\n\u001b[32m   3314\u001b[39m     \u001b[38;5;28mself\u001b[39m.yaxis.grid(visible, which=which, **kwargs)\n",
      "\u001b[36mFile \u001b[39m\u001b[32m~/anaconda3/envs/dataviz/lib/python3.11/site-packages/matplotlib/axis.py:1746\u001b[39m, in \u001b[36mAxis.grid\u001b[39m\u001b[34m(self, visible, which, **kwargs)\u001b[39m\n\u001b[32m   1743\u001b[39m \u001b[38;5;28;01mif\u001b[39;00m which \u001b[38;5;129;01min\u001b[39;00m [\u001b[33m'\u001b[39m\u001b[33mmajor\u001b[39m\u001b[33m'\u001b[39m, \u001b[33m'\u001b[39m\u001b[33mboth\u001b[39m\u001b[33m'\u001b[39m]:\n\u001b[32m   1744\u001b[39m     gridkw[\u001b[33m'\u001b[39m\u001b[33mgridOn\u001b[39m\u001b[33m'\u001b[39m] = (\u001b[38;5;129;01mnot\u001b[39;00m \u001b[38;5;28mself\u001b[39m._major_tick_kw[\u001b[33m'\u001b[39m\u001b[33mgridOn\u001b[39m\u001b[33m'\u001b[39m]\n\u001b[32m   1745\u001b[39m                         \u001b[38;5;28;01mif\u001b[39;00m visible \u001b[38;5;129;01mis\u001b[39;00m \u001b[38;5;28;01mNone\u001b[39;00m \u001b[38;5;28;01melse\u001b[39;00m visible)\n\u001b[32m-> \u001b[39m\u001b[32m1746\u001b[39m     \u001b[38;5;28;43mself\u001b[39;49m\u001b[43m.\u001b[49m\u001b[43mset_tick_params\u001b[49m\u001b[43m(\u001b[49m\u001b[43mwhich\u001b[49m\u001b[43m=\u001b[49m\u001b[33;43m'\u001b[39;49m\u001b[33;43mmajor\u001b[39;49m\u001b[33;43m'\u001b[39;49m\u001b[43m,\u001b[49m\u001b[43m \u001b[49m\u001b[43m*\u001b[49m\u001b[43m*\u001b[49m\u001b[43mgridkw\u001b[49m\u001b[43m)\u001b[49m\n\u001b[32m   1747\u001b[39m \u001b[38;5;28mself\u001b[39m.stale = \u001b[38;5;28;01mTrue\u001b[39;00m\n",
      "\u001b[36mFile \u001b[39m\u001b[32m~/anaconda3/envs/dataviz/lib/python3.11/site-packages/matplotlib/axis.py:971\u001b[39m, in \u001b[36mAxis.set_tick_params\u001b[39m\u001b[34m(self, which, reset, **kwargs)\u001b[39m\n\u001b[32m    958\u001b[39m \u001b[38;5;250m\u001b[39m\u001b[33;03m\"\"\"\u001b[39;00m\n\u001b[32m    959\u001b[39m \u001b[33;03mSet appearance parameters for ticks, ticklabels, and gridlines.\u001b[39;00m\n\u001b[32m    960\u001b[39m \n\u001b[32m   (...)\u001b[39m\u001b[32m    968\u001b[39m \u001b[33;03m    gridlines.\u001b[39;00m\n\u001b[32m    969\u001b[39m \u001b[33;03m\"\"\"\u001b[39;00m\n\u001b[32m    970\u001b[39m _api.check_in_list([\u001b[33m'\u001b[39m\u001b[33mmajor\u001b[39m\u001b[33m'\u001b[39m, \u001b[33m'\u001b[39m\u001b[33mminor\u001b[39m\u001b[33m'\u001b[39m, \u001b[33m'\u001b[39m\u001b[33mboth\u001b[39m\u001b[33m'\u001b[39m], which=which)\n\u001b[32m--> \u001b[39m\u001b[32m971\u001b[39m kwtrans = \u001b[38;5;28;43mself\u001b[39;49m\u001b[43m.\u001b[49m\u001b[43m_translate_tick_params\u001b[49m\u001b[43m(\u001b[49m\u001b[43mkwargs\u001b[49m\u001b[43m)\u001b[49m\n\u001b[32m    973\u001b[39m \u001b[38;5;66;03m# the kwargs are stored in self._major/minor_tick_kw so that any\u001b[39;00m\n\u001b[32m    974\u001b[39m \u001b[38;5;66;03m# future new ticks will automatically get them\u001b[39;00m\n\u001b[32m    975\u001b[39m \u001b[38;5;28;01mif\u001b[39;00m reset:\n",
      "\u001b[36mFile \u001b[39m\u001b[32m~/anaconda3/envs/dataviz/lib/python3.11/site-packages/matplotlib/axis.py:1120\u001b[39m, in \u001b[36mAxis._translate_tick_params\u001b[39m\u001b[34m(cls, kw, reverse)\u001b[39m\n\u001b[32m   1118\u001b[39m \u001b[38;5;28;01mfor\u001b[39;00m key \u001b[38;5;129;01min\u001b[39;00m kw_:\n\u001b[32m   1119\u001b[39m     \u001b[38;5;28;01mif\u001b[39;00m key \u001b[38;5;129;01mnot\u001b[39;00m \u001b[38;5;129;01min\u001b[39;00m allowed_keys:\n\u001b[32m-> \u001b[39m\u001b[32m1120\u001b[39m         \u001b[38;5;28;01mraise\u001b[39;00m \u001b[38;5;167;01mValueError\u001b[39;00m(\n\u001b[32m   1121\u001b[39m             \u001b[33m\"\u001b[39m\u001b[33mkeyword \u001b[39m\u001b[38;5;132;01m%s\u001b[39;00m\u001b[33m is not recognized; valid keywords are \u001b[39m\u001b[38;5;132;01m%s\u001b[39;00m\u001b[33m\"\u001b[39m\n\u001b[32m   1122\u001b[39m             % (key, allowed_keys))\n\u001b[32m   1123\u001b[39m kwtrans.update(kw_)\n\u001b[32m   1124\u001b[39m \u001b[38;5;28;01mreturn\u001b[39;00m kwtrans\n",
      "\u001b[31mValueError\u001b[39m: keyword grid_b is not recognized; valid keywords are ['size', 'width', 'color', 'tickdir', 'pad', 'labelsize', 'labelcolor', 'labelfontfamily', 'zorder', 'gridOn', 'tick1On', 'tick2On', 'label1On', 'label2On', 'length', 'direction', 'left', 'bottom', 'right', 'top', 'labelleft', 'labelbottom', 'labelright', 'labeltop', 'labelrotation', 'grid_agg_filter', 'grid_alpha', 'grid_animated', 'grid_antialiased', 'grid_clip_box', 'grid_clip_on', 'grid_clip_path', 'grid_color', 'grid_dash_capstyle', 'grid_dash_joinstyle', 'grid_dashes', 'grid_data', 'grid_drawstyle', 'grid_figure', 'grid_fillstyle', 'grid_gapcolor', 'grid_gid', 'grid_in_layout', 'grid_label', 'grid_linestyle', 'grid_linewidth', 'grid_marker', 'grid_markeredgecolor', 'grid_markeredgewidth', 'grid_markerfacecolor', 'grid_markerfacecoloralt', 'grid_markersize', 'grid_markevery', 'grid_mouseover', 'grid_path_effects', 'grid_picker', 'grid_pickradius', 'grid_rasterized', 'grid_sketch_params', 'grid_snap', 'grid_solid_capstyle', 'grid_solid_joinstyle', 'grid_transform', 'grid_url', 'grid_visible', 'grid_xdata', 'grid_ydata', 'grid_zorder', 'grid_aa', 'grid_c', 'grid_ds', 'grid_ls', 'grid_lw', 'grid_mec', 'grid_mew', 'grid_mfc', 'grid_mfcalt', 'grid_ms']"
     ]
    },
    {
     "data": {
      "image/png": "[encoded data removed]",
      "text/plain": [
       "<Figure size 2500x1000 with 2 Axes>"
      ]
     },
     "metadata": {},
     "output_type": "display_data"
    }
   ],
   "source": [
    "import missingno as msno #install with pip/conda if necessary\n",
    "\n",
    "msno.matrix(df_temperatures)\n",
    "msno.matrix(df_data_nationales)"
   ]
  },
  {
   "cell_type": "markdown",
   "id": "49cd020a",
   "metadata": {},
   "source": [
    "### Prepare the data"
   ]
  },
  {
   "cell_type": "markdown",
   "id": "732b5086",
   "metadata": {},
   "source": [
    "1. Retreive the information about the evolution of the national energy consumption in France. Keep only the column \"Consommation\" and downsample to hourly data (instead of every 15 min):"
   ]
  },
  {
   "cell_type": "code",
   "execution_count": null,
   "id": "8b0897a4",
   "metadata": {},
   "outputs": [],
   "source": [
    "conso_nat = pd.DataFrame(df_data_nationales['Consommation'].dropna(axis=0).resample('h').mean())\n",
    "conso_nat.head()"
   ]
  },
  {
   "cell_type": "markdown",
   "id": "15e71c29",
   "metadata": {},
   "source": [
    "2. Retreive the information about the evolution of the average temperature in France. Average out the temperature over the different regions and resample to hourly data:"
   ]
  },
  {
   "cell_type": "code",
   "execution_count": null,
   "id": "cf7d7fc0",
   "metadata": {},
   "outputs": [],
   "source": [
    "avg_temp_nat = pd.DataFrame(df_temperatures.mean(axis=1).dropna(axis=0).resample('h').mean(), columns=['avg_temperature'])\n",
    "avg_temp_nat.head()"
   ]
  },
  {
   "cell_type": "markdown",
   "id": "46570c6f",
   "metadata": {},
   "source": [
    "3. Merge the two dataframes together\n",
    "\n",
    "Merging our two dataframes makes it easier to handle and save our data. the 'df.merge()' method also ensures each column has the same length (which makes plotting our data suddenly very simple)."
   ]
  },
  {
   "cell_type": "code",
   "execution_count": null,
   "id": "c3974b00",
   "metadata": {},
   "outputs": [],
   "source": [
    "merged = conso_nat.merge(avg_temp_nat, how='inner', left_index=True, right_index=True)\n",
    "merged.head()"
   ]
  },
  {
   "cell_type": "markdown",
   "id": "9849a777",
   "metadata": {},
   "source": [
    "4. Resample the pandas dataframe to daily data points"
   ]
  },
  {
   "cell_type": "code",
   "execution_count": null,
   "id": "6cde95f9",
   "metadata": {},
   "outputs": [],
   "source": [
    "merged_D = merged.resample('D').mean()"
   ]
  },
  {
   "cell_type": "markdown",
   "id": "971903ca",
   "metadata": {},
   "source": [
    "5. Normalize our data (we're trying to show a trend, it is therefore not necesary to use the absolute values)"
   ]
  },
  {
   "cell_type": "code",
   "execution_count": null,
   "id": "f0e1917d",
   "metadata": {},
   "outputs": [],
   "source": [
    "merged_D_Norm = merged_D.apply(lambda x: (x - x.min())/(x.max() - x.min())).copy()"
   ]
  },
  {
   "cell_type": "markdown",
   "id": "1ef689f2",
   "metadata": {},
   "source": [
    "6. create two new columns where the data is smoothed out (using a rolling mean). These will be used as trendline in the plot. Clean the data if necessary. Save the resulting dataframe "
   ]
  },
  {
   "cell_type": "code",
   "execution_count": null,
   "id": "3f7f4478",
   "metadata": {},
   "outputs": [],
   "source": [
    "rolling_window = 100\n",
    "merged_D_Norm['smothed_conso'] = merged_D_Norm.Consommation.rolling(rolling_window, center=True).mean()\n",
    "merged_D_Norm['smothed_avg_temp'] = merged_D_Norm.avg_temperature.rolling(rolling_window, center=True).mean()\n",
    "merged_D_Norm.head(100)"
   ]
  },
  {
   "cell_type": "code",
   "execution_count": null,
   "id": "4643c129",
   "metadata": {},
   "outputs": [],
   "source": [
    "merged_D_Norm.dropna(inplace=True)"
   ]
  },
  {
   "cell_type": "markdown",
   "id": "f4684674",
   "metadata": {},
   "source": [
    "7. write the dataframe to a folder data_processed in notebook_guide"
   ]
  },
  {
   "cell_type": "code",
   "execution_count": null,
   "id": "8a3ef978",
   "metadata": {},
   "outputs": [],
   "source": [
    "ROOT = '.'\n",
    "folder = 'data_processed'\n",
    "fp = os.path.join(ROOT, folder) # fp is folderpath\n",
    "\n",
    "if not os.path.exists(fp):\n",
    "    os.mkdir(fp)\n",
    "\n",
    "filename = \"consumption_vs_temperature.pkl\"\n",
    "fpath_data = os.path.join(fp, filename)\n",
    "merged_D_Norm.to_pickle(fpath_data)"
   ]
  },
  {
   "cell_type": "markdown",
   "id": "ed3f67aa",
   "metadata": {},
   "source": [
    "8. Make a standard plot of the dataframe"
   ]
  },
  {
   "cell_type": "code",
   "execution_count": null,
   "id": "66e91d12",
   "metadata": {},
   "outputs": [],
   "source": [
    "merged_D_Norm.plot(figsize=(10,6))"
   ]
  },
  {
   "cell_type": "markdown",
   "id": "88d47229",
   "metadata": {},
   "source": [
    "... hum, well... that looks... ... lets use to plotly to make this figure look nice and add some interactivity!"
   ]
  },
  {
   "cell_type": "markdown",
   "id": "af70b0bb",
   "metadata": {},
   "source": [
    "# Plotting with plotly"
   ]
  },
  {
   "cell_type": "markdown",
   "id": "ba98c41d",
   "metadata": {},
   "source": [
    "## Setup before plotting"
   ]
  },
  {
   "cell_type": "markdown",
   "id": "751712bf",
   "metadata": {},
   "source": [
    "Create a font dictionnary that will help you styling your figures"
   ]
  },
  {
   "cell_type": "code",
   "execution_count": null,
   "id": "c399804a",
   "metadata": {},
   "outputs": [],
   "source": [
    "# example\n",
    "\n",
    "font = {\n",
    "    'family': \"Courier New\",\n",
    "    'size': {\n",
    "        'small': 12,\n",
    "        'medium': 16,\n",
    "        'big': 20\n",
    "        },\n",
    "    'color': {\n",
    "        'axes': 'rgb(180, 180, 180)',\n",
    "        'primary': 'lightcoral',\n",
    "        'secondary': 'lightsteelblue',\n",
    "        'highlight': 'sandybrown'\n",
    "    },\n",
    "    'line width': 2\n",
    "}"
   ]
  },
  {
   "cell_type": "markdown",
   "id": "8ffa331e",
   "metadata": {},
   "source": [
    "Note: There are a lot of named CSS colors you can pick from to customize your graph, but rememebr: don't pick too many! Three different colors is usually more than enough.  \n",
    "FYI, these are the colors, play around with them (also check out https://developer.mozilla.org/en-US/docs/Web/CSS/named-color to visualise the colors):\n",
    "\n",
    "*aliceblue, antiquewhite, aqua, aquamarine, azure,\n",
    "beige, bisque, black, blanchedalmond, blue,\n",
    "blueviolet, brown, burlywood, cadetblue,\n",
    "chartreuse, chocolate, coral, cornflowerblue,\n",
    "cornsilk, crimson, cyan, darkblue, darkcyan,\n",
    "darkgoldenrod, darkgray, darkgrey, darkgreen,\n",
    "darkkhaki, darkmagenta, darkolivegreen, darkorange,\n",
    "darkorchid, darkred, darksalmon, darkseagreen,\n",
    "darkslateblue, darkslategray, darkslategrey,\n",
    "darkturquoise, darkviolet, deeppink, deepskyblue,\n",
    "dimgray, dimgrey, dodgerblue, firebrick,\n",
    "floralwhite, forestgreen, fuchsia, gainsboro,\n",
    "ghostwhite, gold, goldenrod, gray, grey, green,\n",
    "greenyellow, honeydew, hotpink, indianred, indigo,\n",
    "ivory, khaki, lavender, lavenderblush, lawngreen,\n",
    "lemonchiffon, lightblue, lightcoral, lightcyan,\n",
    "lightgoldenrodyellow, lightgray, lightgrey,\n",
    "lightgreen, lightpink, lightsalmon, lightseagreen,\n",
    "lightskyblue, lightslategray, lightslategrey,\n",
    "lightsteelblue, lightyellow, lime, limegreen,\n",
    "linen, magenta, maroon, mediumaquamarine,\n",
    "mediumblue, mediumorchid, mediumpurple,\n",
    "mediumseagreen, mediumslateblue, mediumspringgreen,\n",
    "mediumturquoise, mediumvioletred, midnightblue,\n",
    "mintcream, mistyrose, moccasin, navajowhite, navy,\n",
    "oldlace, olive, olivedrab, orange, orangered,\n",
    "orchid, palegoldenrod, palegreen, paleturquoise,\n",
    "palevioletred, papayawhip, peachpuff, peru, pink,\n",
    "plum, powderblue, purple, red, rosybrown,\n",
    "royalblue, rebeccapurple, saddlebrown, salmon,\n",
    "sandybrown, seagreen, seashell, sienna, silver,\n",
    "skyblue, slateblue, slategray, slategrey, snow,\n",
    "springgreen, steelblue, tan, teal, thistle, tomato,\n",
    "turquoise, violet, wheat, white, whitesmoke,\n",
    "yellow, yellowgreen*"
   ]
  },
  {
   "cell_type": "markdown",
   "id": "185cb9ac",
   "metadata": {},
   "source": [
    "Once you settled on your styles, you can export this \"style dictionnary\" (for example as **style.json**) so it can be reused elsewhere in your project (or even in different projects). This will help you ensure style consistency throughout your plotting projects."
   ]
  },
  {
   "cell_type": "markdown",
   "id": "37b989d4",
   "metadata": {},
   "source": [
    "1. Write the font dictionnary to a json file in a css folder in notebook_guide"
   ]
  },
  {
   "cell_type": "code",
   "execution_count": null,
   "id": "08dfff85",
   "metadata": {},
   "outputs": [],
   "source": [
    "import json\n",
    "\n",
    "ROOT = '.'\n",
    "path_css = os.path.join(ROOT, 'static')\n",
    "\n",
    "if not os.path.exists(path_css):\n",
    "    os.mkdir(path_css)\n",
    "\n",
    "filename = \"style.json\"\n",
    "fpath_styling = os.path.join(path_css, filename)\n",
    "\n",
    "with open(fpath_styling, 'w') as file:\n",
    "    file.write(json.dumps(font, indent=4, sort_keys=True))"
   ]
  },
  {
   "cell_type": "markdown",
   "id": "75f84a55",
   "metadata": {},
   "source": [
    "2. Create a simple function that adds lineplots to a figure (in plotly these are called \"traces\"). The purpose of this function is to allow you to easily add extra 'traces' (for example lines) to your figure"
   ]
  },
  {
   "cell_type": "code",
   "execution_count": null,
   "id": "486d0a45",
   "metadata": {},
   "outputs": [],
   "source": [
    "def add_data_to_figure(fig, x, y, label=\"no label\", color=\"red\", line_width=1, opacity=1):\n",
    "    \n",
    "    fig.add_trace(\n",
    "        go.Scatter(\n",
    "            x=x, y=y, \n",
    "            mode='lines+markers', # try only lines and you'll see that lasso and box select dissapear when there are too many datapoints\n",
    "            name=label,\n",
    "            line=dict(color=color, width=line_width),\n",
    "            connectgaps=True,\n",
    "            opacity=opacity\n",
    "    ))\n",
    "\n",
    "    return fig"
   ]
  },
  {
   "cell_type": "markdown",
   "id": "ae761202",
   "metadata": {},
   "source": [
    "## Creating the actual figure"
   ]
  },
  {
   "cell_type": "markdown",
   "id": "9ee3e9f1",
   "metadata": {},
   "source": [
    "1. Load the font dict"
   ]
  },
  {
   "cell_type": "code",
   "execution_count": null,
   "id": "c0c0ede7",
   "metadata": {},
   "outputs": [],
   "source": [
    "with open(fpath_styling, 'r') as file:\n",
    "    font = json.load(file)\n",
    "    print(json.dumps(font, indent=4,))"
   ]
  },
  {
   "cell_type": "markdown",
   "id": "e6403546",
   "metadata": {},
   "source": [
    "2. Load the pre-processed data"
   ]
  },
  {
   "cell_type": "code",
   "execution_count": null,
   "id": "3d9b4428",
   "metadata": {},
   "outputs": [],
   "source": [
    "df = pd.read_pickle(fpath_data)\n",
    "df.head()"
   ]
  },
  {
   "cell_type": "markdown",
   "id": "622738c8",
   "metadata": {},
   "source": [
    "3. Choose the data you want to plot and _how_ you want to plot it"
   ]
  },
  {
   "cell_type": "code",
   "execution_count": null,
   "id": "43db8a93",
   "metadata": {},
   "outputs": [],
   "source": [
    "x = df.index\n",
    "\n",
    "# trace 1: average temperature\n",
    "y1 = df.avg_temperature\n",
    "label = 'Average temperature'\n",
    "color = font['color']['primary']\n",
    "lw = font['line width']\n",
    "opacity = 0.2\n",
    "plot_args1 = (x, y1, label, color, lw, opacity)\n",
    "\n",
    "# trace 2: energy consumption\n",
    "y2 = df.Consommation\n",
    "label = 'Energy consumption'\n",
    "color = font['color']['secondary']\n",
    "lw = font['line width']\n",
    "opacity = 0.2\n",
    "plot_args2 = (x, y2, label, color, lw, opacity)"
   ]
  },
  {
   "cell_type": "markdown",
   "id": "9dd353b6",
   "metadata": {},
   "source": [
    "4. Create a new figure and add the traces to it"
   ]
  },
  {
   "cell_type": "code",
   "execution_count": null,
   "id": "6b0ac568",
   "metadata": {},
   "outputs": [],
   "source": [
    "import plotly.graph_objects as go\n",
    "\n",
    "fig = go.FigureWidget()\n",
    "\n",
    "add_data_to_figure(fig, *plot_args1)\n",
    "add_data_to_figure(fig, *plot_args2)\n",
    "\n",
    "fig.show()"
   ]
  },
  {
   "cell_type": "markdown",
   "id": "a5ad3d6a-a7d7-49f4-b97a-b82821ed21f8",
   "metadata": {},
   "source": [
    "...hum ... well, at least it's interactive now!"
   ]
  },
  {
   "cell_type": "markdown",
   "id": "0cdc5297",
   "metadata": {},
   "source": [
    "Let's add even more traces:"
   ]
  },
  {
   "cell_type": "code",
   "execution_count": null,
   "id": "60529a47",
   "metadata": {},
   "outputs": [],
   "source": [
    "# trace 3: average temperature - smoothed\n",
    "y3 = df.smothed_avg_temp\n",
    "label = 'temp - smoothed'\n",
    "color = font['color']['primary']\n",
    "lw = font['line width'] + 0.5\n",
    "plot_args3 = (x, y3, label, color, lw)\n",
    "\n",
    "# trace 4: energy consumption - smoothed\n",
    "y4 = df.smothed_conso\n",
    "label = \"conso - smoothed\"\n",
    "color = font['color']['secondary']\n",
    "lw = font['line width'] + 0.5\n",
    "plot_args4 = (x, y4, label, color, lw)\n",
    "\n",
    "\n",
    "add_data_to_figure(fig, *plot_args3)\n",
    "add_data_to_figure(fig, *plot_args4)\n",
    "\n",
    "\n",
    "fig.show()"
   ]
  },
  {
   "cell_type": "markdown",
   "id": "f75f6ce5-9e0e-4fc0-a6f1-eb7812f49147",
   "metadata": {},
   "source": [
    "After having dialed back the \"raw data\" it already looks a lot less crowded. Again, we're just interested in the general trends here."
   ]
  },
  {
   "cell_type": "markdown",
   "id": "955cc8f9",
   "metadata": {},
   "source": [
    "Now we'll add some annotations to the figure:\n",
    "\n",
    "https://plotly.com/python/text-and-annotations/"
   ]
  },
  {
   "cell_type": "markdown",
   "id": "b2295436-8b9f-495c-bd6b-2f5ce66c9067",
   "metadata": {},
   "source": [
    "Let's check the default font sizes that we've set earlier:"
   ]
  },
  {
   "cell_type": "code",
   "execution_count": null,
   "id": "60e7baf0",
   "metadata": {},
   "outputs": [],
   "source": [
    "font['size']"
   ]
  },
  {
   "cell_type": "code",
   "execution_count": null,
   "id": "9eaa429c",
   "metadata": {},
   "outputs": [],
   "source": [
    "text = {\n",
    "    'title': \"When the temperature drops, the energy consumption rises.\",\n",
    "    'source': \"RTE france (normalised data)\"\n",
    "}\n",
    "\n",
    "\n",
    "annotations = []\n",
    "\n",
    "# add a title (used to describe the figure)\n",
    "annotations.append(dict(xref='paper', yref='paper',\n",
    "                        x=0.5, y=1.10,\n",
    "                        xanchor='center', yanchor='bottom',\n",
    "                        text=text[\"title\"],\n",
    "                        font=dict(family=font[\"family\"],\n",
    "                                  size=font[\"size\"][\"big\"],\n",
    "                                  color=font[\"color\"]['axes']),\n",
    "                        showarrow=False))\n",
    "\n",
    "\n",
    "# add text at the bottom of the figure\n",
    "annotations.append(dict(xref='paper', yref='paper',\n",
    "                        x=0.5, y=-0.2,\n",
    "                        xanchor='center', yanchor='top',\n",
    "                        text=text[\"source\"],\n",
    "                        font=dict(family=font[\"family\"],\n",
    "                                  size=font[\"size\"][\"small\"],\n",
    "                                  color=font[\"color\"]['axes']),\n",
    "                        showarrow=False))\n",
    "\n",
    "\n",
    "fig.update_layout(annotations=annotations)"
   ]
  },
  {
   "cell_type": "markdown",
   "id": "98e9ef54",
   "metadata": {},
   "source": [
    "What do we want?! **MORE ANNOTATIONS !!**  \n",
    "When do we want them?! **NOOOOOW !!!**"
   ]
  },
  {
   "cell_type": "code",
   "execution_count": null,
   "id": "865ee0da",
   "metadata": {},
   "outputs": [],
   "source": [
    "# Adding labels to the traces (directly on the plot)\n",
    "x, y, label, color, _ = plot_args3\n",
    "annotations.append(dict(xref='x', yref='y',\n",
    "                        x=x[-1] + pd.offsets.Day(20),\n",
    "                        y=y.iloc[-1],\n",
    "                        xanchor='left', yanchor='middle',\n",
    "                        text=\"Average Temperature\",\n",
    "                        font=dict(family=font[\"family\"],\n",
    "                                  size=font[\"size\"][\"medium\"],\n",
    "                                  color=color),\n",
    "                        showarrow=False))\n",
    "\n",
    "\n",
    "x, y, label, color, _ = plot_args4\n",
    "annotations.append(dict(xref='x', yref='y',\n",
    "                        x=x[-1] + pd.offsets.Day(20),\n",
    "                        y=y.iloc[-1],\n",
    "                        xanchor='left', yanchor='middle',\n",
    "                        text=\"Energy consumption\",                        \n",
    "                        font=dict(family=font[\"family\"],\n",
    "                                  size=font[\"size\"][\"medium\"],\n",
    "                                  color=color),\n",
    "                        showarrow=False))\n",
    "\n",
    "\n",
    "fig.update_layout(annotations=annotations)"
   ]
  },
  {
   "cell_type": "markdown",
   "id": "c0744986",
   "metadata": {},
   "source": [
    "Now make the figure beautiful _(this can take a lot of time, but once it's done it's done!)_:"
   ]
  },
  {
   "cell_type": "code",
   "execution_count": null,
   "id": "36a6a0e9",
   "metadata": {},
   "outputs": [],
   "source": [
    "import datetime\n",
    "\n",
    "fig.update_layout(\n",
    "    \n",
    "    # customize x-axis\n",
    "    xaxis_range=[datetime.datetime(2013, 1, 1),\n",
    "                 datetime.datetime(2019, 1, 1)],\n",
    "    xaxis=dict(\n",
    "        type=\"date\",\n",
    "        tick0=\"2013-01-01\", # first tick\n",
    "        dtick=\"M12\", # interval between each tick following 'tick0' (1 year, ie 12 months)\n",
    "        tickformat=\"| %Y |\",\n",
    "        tickvals=list(range(2013, 2019)),\n",
    "        showline=True,\n",
    "        showgrid=False,\n",
    "        showticklabels=True,\n",
    "        linecolor=font[\"color\"]['axes'],\n",
    "        linewidth=2,\n",
    "        ticks='outside',\n",
    "        tickfont=dict(\n",
    "            family=font[\"family\"] + \" Bold\",\n",
    "            size=font[\"size\"][\"medium\"],\n",
    "            color=font[\"color\"]['highlight'],\n",
    "        ),\n",
    "    ),\n",
    "    \n",
    "    # customize x and y-axis\n",
    "    yaxis=dict(\n",
    "        showgrid=False,\n",
    "        zeroline=False,\n",
    "        showline=False,\n",
    "        showticklabels=False,\n",
    "    ),\n",
    "    \n",
    "    # figure size\n",
    "    autosize=False,\n",
    "    width=1500,\n",
    "    height=500,\n",
    "    \n",
    "    margin=dict(\n",
    "        autoexpand=True,\n",
    "        l=0,\n",
    "        r=110,\n",
    "        t=110,\n",
    "        b=110,\n",
    "        \n",
    "    ),\n",
    "\n",
    "    \n",
    "    # disable the legend\n",
    "    showlegend=False,\n",
    "    \n",
    "    # change the backgroud color\n",
    "    plot_bgcolor='white'\n",
    ")"
   ]
  },
  {
   "cell_type": "code",
   "execution_count": null,
   "id": "ae2ded2b-c6e2-4483-b5ff-5a281ef2ebfb",
   "metadata": {},
   "outputs": [],
   "source": []
  }
 ],
 "metadata": {
  "kernelspec": {
   "display_name": "dataviz",
   "language": "python",
   "name": "python3"
  },
  "language_info": {
   "codemirror_mode": {
    "name": "ipython",
    "version": 3
   },
   "file_extension": ".py",
   "mimetype": "text/x-python",
   "name": "python",
   "nbconvert_exporter": "python",
   "pygments_lexer": "ipython3",
   "version": "3.11.13"
  }
 },
 "nbformat": 4,
 "nbformat_minor": 5
}
